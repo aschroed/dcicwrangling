{
 "cells": [
  {
   "cell_type": "code",
   "execution_count": 6,
   "metadata": {},
   "outputs": [
    {
     "name": "stdout",
     "output_type": "stream",
     "text": [
      "Working on http://fourfront-webdev.us-east-1.elasticbeanstalk.com\n"
     ]
    }
   ],
   "source": [
    "from dcicutils import ff_utils\n",
    "from functions.notebook_functions import *\n",
    "\n",
    "# get key from file\n",
    "#my_key = get_key('default')\n",
    "# all usable env names\n",
    "all_envs = ['data', 'staging', 'fourfront-webdev', 'fourfront-mastertest', 'fourfront-hotseat']\n",
    "# get admin key from s3\n",
    "my_key = ff_utils.get_authentication_with_server({}, ff_env = 'fourfront-webdev')\n",
    "print('Working on', my_key['server'])\n"
   ]
  },
  {
   "cell_type": "code",
   "execution_count": 23,
   "metadata": {},
   "outputs": [],
   "source": [
    "# load json file\n",
    "import json\n",
    "my_file = \"/Users/luisa/Documents/4DN/bedtobeddb_workflow/bed2beddb_insert_workflow.json\"\n",
    "with open(my_file) as f:\n",
    "    data = json.load(f)\n"
   ]
  },
  {
   "cell_type": "code",
   "execution_count": 24,
   "metadata": {},
   "outputs": [
    {
     "name": "stdout",
     "output_type": "stream",
     "text": [
      "@graph\n",
      "[{'workflow_type': 'Other', '@id': '/workflows/9d575e99-5ffe-4ea4-b74f-ad40f621cd39/', 'accession': '4DNWLM174GGG', 'workflow_language': 'CWL', 'app_name': 'bedtobeddb', 'external_references': [], 'display_title': 'Converting bed to beddb - 4DNWLM174GGG', 'last_modified': {'modified_by': '/users/986b362f-4eb6-4a9c-8173-3ab267307e3a/', 'date_modified': '2018-11-20T16:38:05.521948+00:00'}, 'cwl_main_filename': 'bedtobeddb.cwl', 'cwl_child_filenames': [], 'uuid': '9d575e99-5ffe-4ea4-b74f-ad40f621cd39', 'workflow_diagram': '', 'category': 'format conversion', 'principals_allowed': {'audit': ['system.Everyone'], 'view': ['award.b0b9c607-f8b4-4f02-93f4-9895b461334b', 'group.admin', 'group.read-only-admin', 'lab.828cd4fe-ebb0-4b36-a94a-d2e3a36cc989', 'remoteuser.EMBED', 'remoteuser.INDEXER'], 'edit': ['group.admin', 'submits_for.828cd4fe-ebb0-4b36-a94a-d2e3a36cc989']}, 'description': 'Converting bed to beddb', 'cwl_pointer': '', 'schema_version': '5', 'link_id': '~workflows~9d575e99-5ffe-4ea4-b74f-ad40f621cd39~', 'arguments': [{'argument_type': 'Input file', 'argument_format': '/file-formats/bed/', 'workflow_argument_name': 'bedfile'}, {'argument_type': 'Output to-be-extra-input file', 'argument_format': '/file-formats/beddb/', 'workflow_argument_name': 'beddbfile'}, {'argument_type': 'parameter', 'workflow_argument_name': 'assembly'}], 'docker_image_name': '4dn-dcic/docker-4dn-bedtobeddb', 'app_version': 'dev', 'submitted_by': '/users/986b362f-4eb6-4a9c-8173-3ab267307e3a/', 'lab': '/labs/4dn-dcic-lab/', 'data_types': ['Hi-C', 'DAM-ID'], '@type': ['Workflow', 'Item'], 'title': 'Converting bed to beddb', 'docker_registry_url': 'https://hub.docker.com/', 'date_created': '2018-11-20T16:38:05.511598+00:00', 'status': 'in review by lab', 'award': '/awards/1U01CA200059-01/', 'name': 'bedtobeddb', 'cwl_directory_url': 'https://raw.githubusercontent.com/4dn-dcic/docker-4dn-bedtobeddb/master/cwl/', 'steps': [{'inputs': [{'source': [{'name': 'bedfile'}], 'name': 'bedfile', 'meta': {'file_format': '/file-formats/bed/', 'type': 'data file', 'cardinality': 'single', 'global': True}}, {'meta': {'file_format': '/file-formats/chromsizes/', 'type': 'reference file', 'cardinality': 'single', 'global': True}}], 'outputs': [{'target': [{'name': 'beddbfile'}], 'name': 'beddbfile', 'meta': {'cardinality': 'single', 'type': 'data file', 'file_format': 'd1311111-218e-4f61-aaf0-91f226248b2c', 'global': True}}], 'name': 'bedtobeddb', 'meta': {'analysis_step_types': ['file format conversion'], 'software_used': []}}]}]\n",
      "\n",
      "status\n",
      "success\n",
      "\n",
      "@type\n",
      "['result']\n",
      "\n"
     ]
    }
   ],
   "source": [
    "e = ff_utils.post_metadata(data,'workflow', my_key)\n",
    "for key in e:\n",
    "    print(key)\n",
    "    print(e[key])\n",
    "    print()"
   ]
  },
  {
   "cell_type": "code",
   "execution_count": 2,
   "metadata": {},
   "outputs": [],
   "source": [
    "myuuid = str(uuid.uuid4())"
   ]
  },
  {
   "cell_type": "code",
   "execution_count": 3,
   "metadata": {},
   "outputs": [
    {
     "name": "stdout",
     "output_type": "stream",
     "text": [
      "9d575e99-5ffe-4ea4-b74f-ad40f621cd39\n"
     ]
    }
   ],
   "source": [
    "print(myuuid)"
   ]
  },
  {
   "cell_type": "code",
   "execution_count": null,
   "metadata": {},
   "outputs": [],
   "source": []
  }
 ],
 "metadata": {
  "kernelspec": {
   "display_name": "Python 3",
   "language": "python",
   "name": "python3"
  },
  "language_info": {
   "codemirror_mode": {
    "name": "ipython",
    "version": 3
   },
   "file_extension": ".py",
   "mimetype": "text/x-python",
   "name": "python",
   "nbconvert_exporter": "python",
   "pygments_lexer": "ipython3",
   "version": "3.7.1"
  }
 },
 "nbformat": 4,
 "nbformat_minor": 2
}
