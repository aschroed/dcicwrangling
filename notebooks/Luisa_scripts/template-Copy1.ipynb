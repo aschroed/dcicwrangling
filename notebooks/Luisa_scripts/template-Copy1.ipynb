{
 "cells": [
  {
   "cell_type": "code",
   "execution_count": 3,
   "metadata": {},
   "outputs": [],
   "source": [
    "from dcicutils import ff_utils\n",
    "from functions.notebook_functions import *\n",
    "\n",
    "# get key from file\n",
    "my_key = get_key('default')\n",
    "# all usable env names\n",
    "all_envs = ['data', 'staging', 'fourfront-webdev', 'fourfront-mastertest', 'fourfront-hotseat']\n",
    "# get admin key from s3\n",
    "#my_key = ff_utils.get_authentication_with_server({}, ff_env = 'data')\n"
   ]
  },
  {
   "cell_type": "code",
   "execution_count": 14,
   "metadata": {},
   "outputs": [
    {
     "name": "stdout",
     "output_type": "stream",
     "text": [
      "52\n"
     ]
    }
   ],
   "source": [
    "q = '/search/?lab.display_title=Benoit+Bruneau%2C+UCSF&status=deleted&type=FileFastq'\n",
    "results = ff_utils.search_metadata(q, key=my_key)\n",
    "print(len(results))"
   ]
  },
  {
   "cell_type": "code",
   "execution_count": 16,
   "metadata": {},
   "outputs": [
    {
     "name": "stdout",
     "output_type": "stream",
     "text": [
      "6b8f07c0-5eeb-4024-927b-c4de09303b7c deleted\n",
      "{'dbxrefs': ['SRA:SRR5517571'], 'lab': '4dfac8f5-a868-4b29-9c11-a0932130e121', 'aliases': ['4dn-dcic-lab:SRR5517571_fq'], 'read_length': 92, 'status': 'deleted', 'last_modified': {'modified_by': '56c9c683-bb11-471b-b590-c656f7dc03c1', 'date_modified': '2018-11-20T15:14:41.229736+00:00'}, 'schema_version': '2', 'uuid': '6b8f07c0-5eeb-4024-927b-c4de09303b7c', 'file_type': 'reads', 'instrument': 'Illumina NextSeq 500', 'award': '12a92962-8265-4fc0-b2f8-cf14f05db58b', 'file_classification': 'raw file', 'submitted_by': '56c9c683-bb11-471b-b590-c656f7dc03c1', 'date_created': '2018-11-07T21:11:45.332456+00:00', 'accession': '4DNFIEHWJLTD', 'file_format': 'c13d06cf-218e-4f61-aaf0-91f226248b2c'}\n",
      "\n",
      "{'dbxrefs': ['SRA:SRR5517571'], 'last_modified': {'modified_by': {'display_title': 'Luisa Mercado', '@id': '/users/56c9c683-bb11-471b-b590-c656f7dc03c1/', 'principals_allowed': {'view': ['group.admin', 'group.read-only-admin', 'remoteuser.EMBED', 'remoteuser.INDEXER', 'userid.56c9c683-bb11-471b-b590-c656f7dc03c1'], 'edit': ['group.admin', 'userid.56c9c683-bb11-471b-b590-c656f7dc03c1'], 'audit': ['system.Everyone']}, 'link_id': '~users~56c9c683-bb11-471b-b590-c656f7dc03c1~', 'uuid': '56c9c683-bb11-471b-b590-c656f7dc03c1'}, 'date_modified': '2018-11-20T15:14:41.229736+00:00'}, 'href': '/files-fastq/4DNFIEHWJLTD/@@download/4DNFIEHWJLTD.fastq.gz', 'read_length': 92, 'lab': {'display_title': 'Benoit Bruneau, UCSF', 'country': '', 'principals_allowed': {'view': ['system.Everyone'], 'edit': ['group.admin', 'submits_for.4dfac8f5-a868-4b29-9c11-a0932130e121'], 'audit': ['system.Everyone']}, 'state': '', '@id': '/labs/benoit-bruneau-lab/', 'postal_code': '', 'uuid': '4dfac8f5-a868-4b29-9c11-a0932130e121', 'link_id': '~labs~benoit-bruneau-lab~', 'city': ''}, 'file_type_detailed': 'reads (fastq)', 'title': '4DNFIEHWJLTD', 'link_id': '~files-fastq~4DNFIEHWJLTD~', 'instrument': 'Illumina NextSeq 500', 'award': {'display_title': 'EXTERNAL AWARD', 'principals_allowed': {'view': ['system.Everyone'], 'edit': ['group.admin'], 'audit': ['system.Everyone']}, 'project': 'External', 'center_title': 'External', 'uuid': '12a92962-8265-4fc0-b2f8-cf14f05db58b', '@id': '/awards/external-award/', 'link_id': '~awards~external-award~'}, 'uuid': '6b8f07c0-5eeb-4024-927b-c4de09303b7c', '@type': ['FileFastq', 'File', 'Item'], 'submitted_by': {'display_title': 'Luisa Mercado', 'job_title': '4DN staff', 'principals_allowed': {'view': ['group.admin', 'group.read-only-admin', 'remoteuser.EMBED', 'remoteuser.INDEXER', 'userid.56c9c683-bb11-471b-b590-c656f7dc03c1'], 'edit': ['group.admin', 'userid.56c9c683-bb11-471b-b590-c656f7dc03c1'], 'audit': ['system.Everyone']}, 'uuid': '56c9c683-bb11-471b-b590-c656f7dc03c1', 'timezone': 'US/Eastern', 'link_id': '~users~56c9c683-bb11-471b-b590-c656f7dc03c1~', '@id': '/users/56c9c683-bb11-471b-b590-c656f7dc03c1/'}, 'schema_version': '2', 'display_title': '4DNFIEHWJLTD.fastq.gz', 'aliases': ['4dn-dcic-lab:SRR5517571_fq'], 'status': 'deleted', 'workflow_run_inputs': [], 'file_type': 'reads', 'external_references': [{'ref': 'SRA:SRR5517571', 'uri': 'https://www.ncbi.nlm.nih.gov/sra/?term=SRR5517571'}], 'experiments': [], 'principals_allowed': {'view': ['group.admin', 'group.read-only-admin', 'remoteuser.EMBED', 'remoteuser.INDEXER'], 'edit': ['group.admin'], 'audit': ['system.Everyone']}, 'workflow_run_outputs': [], 'file_classification': 'raw file', '@id': '/files-fastq/4DNFIEHWJLTD/', 'upload_key': '6b8f07c0-5eeb-4024-927b-c4de09303b7c/4DNFIEHWJLTD.fastq.gz', 'date_created': '2018-11-07T21:11:45.332456+00:00', 'accession': '4DNFIEHWJLTD', 'file_format': {'display_title': 'fastq', 'principals_allowed': {'view': ['system.Everyone'], 'edit': ['group.admin'], 'audit': ['system.Everyone']}, 'uuid': 'c13d06cf-218e-4f61-aaf0-91f226248b2c', '@id': '/file-formats/fastq/', 'link_id': '~file-formats~fastq~', 'file_format': 'fastq'}}\n"
     ]
    }
   ],
   "source": [
    "action = False\n",
    "\n",
    "for a_hit in results:\n",
    "    print(a_hit['uuid'], a_hit['status'])\n",
    "    \n",
    "    raw_response = ff_utils.get_metadata(a_hit['uuid'], key =my_key, add_on='frame=raw')\n",
    "    print(raw_response)\n",
    "    print()\n",
    "    print(a_hit)\n",
    "    addon = \"check_only=True\"\n",
    "    if action:\n",
    "        addon = \"\"\n",
    "    ff_utils.patch_metadata({\"status\":\"deleted\"},obj_id=a_hit['uuid'], key=my_key,\n",
    "                             add_on = addon)\n",
    "    break\n"
   ]
  },
  {
   "cell_type": "code",
   "execution_count": null,
   "metadata": {},
   "outputs": [],
   "source": []
  }
 ],
 "metadata": {
  "kernelspec": {
   "display_name": "Python 3",
   "language": "python",
   "name": "python3"
  },
  "language_info": {
   "codemirror_mode": {
    "name": "ipython",
    "version": 3
   },
   "file_extension": ".py",
   "mimetype": "text/x-python",
   "name": "python",
   "nbconvert_exporter": "python",
   "pygments_lexer": "ipython3",
   "version": "3.7.1"
  }
 },
 "nbformat": 4,
 "nbformat_minor": 2
}
