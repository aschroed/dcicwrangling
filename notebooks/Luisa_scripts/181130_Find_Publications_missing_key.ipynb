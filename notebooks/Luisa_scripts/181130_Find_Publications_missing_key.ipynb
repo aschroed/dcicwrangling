{
 "cells": [
  {
   "cell_type": "code",
   "execution_count": 9,
   "metadata": {},
   "outputs": [],
   "source": [
    "from dcicutils import ff_utils\n",
    "from functions.notebook_functions import *\n",
    "\n",
    "# get key from file\n",
    "my_key = get_key('default')\n",
    "# all usable env names\n",
    "all_envs = ['data', 'staging', 'fourfront-webdev', 'fourfront-mastertest', 'fourfront-hotseat']\n",
    "# get admin key from s3\n",
    "#my_key = ff_utils.get_authentication_with_server({}, ff_env = 'fourfront-hotseat')\n"
   ]
  },
  {
   "cell_type": "code",
   "execution_count": 2,
   "metadata": {},
   "outputs": [
    {
     "name": "stdout",
     "output_type": "stream",
     "text": [
      "36\n",
      "\n",
      "Targeted Degradation of CTCF Decouples Local Insulation of Chromosome Domains from Genomic Compartmentalization. 1ec54a03-0aaa-4d17-91d5-7a6ae3b12157\n",
      "\n",
      "\n",
      "\n",
      "The Cohesin Release Factor WAPL Restricts Chromatin Loop Extension. 4b1d9cd4-c791-40c6-8b81-8a987f696f32\n",
      "\n",
      "\n",
      "\n",
      "\n",
      "\n",
      "\n",
      "\n",
      "\n",
      "\n",
      "\n",
      "\n",
      "\n",
      "Cell-cycle dynamics of chromosomal organization at single-cell resolution. d37f9a09-4339-4e47-90d1-bde1168b4f9a\n",
      "\n",
      "\n",
      "\n",
      "A contextual model for axonal sorting into glomeruli in the mouse olfactory system. e8e591f1-8cb4-4812-9374-48c9a7029953\n",
      "\n",
      "Minigenes impart odorant receptor-specific axon guidance in the olfactory bulb. cb71ddc5-7cd0-40a1-8c99-5f5bc6af7b6a\n",
      "\n",
      "\n",
      "A gene expression atlas of the central nervous system based on bacterial artificial chromosomes. ee384962-816e-444b-8303-d67f3a777e1f\n",
      "\n",
      "Gene switching and the stability of odorant receptor gene choice. 39b403db-5c31-40b9-90ec-d53ad2a49c79\n",
      "\n",
      "\n",
      "\n",
      "\n",
      "\n",
      "\n",
      "\n",
      "\n",
      "\n",
      "\n",
      "\n",
      "\n",
      "\n",
      "Total Publications: 7\n"
     ]
    }
   ],
   "source": [
    "q = '/search/?type=Publication'\n",
    "key = 'date_published'\n",
    "x = 0\n",
    "\n",
    "results = ff_utils.search_metadata(q, key=my_key)\n",
    "print(len(results))\n",
    "for i in results:\n",
    "    if key not in i.keys():\n",
    "        x = x + 1\n",
    "        print(i['title'], i['uuid'])\n",
    "    print()\n",
    "print('Total Publications: ' + str(x))\n",
    "    "
   ]
  },
  {
   "cell_type": "code",
   "execution_count": null,
   "metadata": {},
   "outputs": [],
   "source": []
  },
  {
   "cell_type": "code",
   "execution_count": null,
   "metadata": {},
   "outputs": [],
   "source": []
  },
  {
   "cell_type": "code",
   "execution_count": 3,
   "metadata": {},
   "outputs": [
    {
     "ename": "NameError",
     "evalue": "name 'my_pub' is not defined",
     "output_type": "error",
     "traceback": [
      "\u001b[0;31m---------------------------------------------------------------------------\u001b[0m",
      "\u001b[0;31mNameError\u001b[0m                                 Traceback (most recent call last)",
      "\u001b[0;32m<ipython-input-3-3336e155716e>\u001b[0m in \u001b[0;36m<module>\u001b[0;34m\u001b[0m\n\u001b[0;32m----> 1\u001b[0;31m \u001b[0mprint\u001b[0m\u001b[0;34m(\u001b[0m\u001b[0mmy_pub\u001b[0m\u001b[0;34m)\u001b[0m\u001b[0;34m\u001b[0m\u001b[0;34m\u001b[0m\u001b[0m\n\u001b[0m",
      "\u001b[0;31mNameError\u001b[0m: name 'my_pub' is not defined"
     ]
    }
   ],
   "source": [
    "print(my_pub)"
   ]
  },
  {
   "cell_type": "code",
   "execution_count": 14,
   "metadata": {},
   "outputs": [
    {
     "name": "stdout",
     "output_type": "stream",
     "text": [
      "{'@type': ['result'], '@graph': [{'name': 'bedtobeddb', 'category': 'format conversion', 'link_id': '~workflows~9d575e99-5ffe-4ea4-b74f-ad40f621cd39~', 'cwl_directory_url': 'https://raw.githubusercontent.com/4dn-dcic/docker-4dn-bedtobeddb/master/cwl/', 'cwl_child_filenames': [], 'workflow_diagram': '', '@id': '/workflows/9d575e99-5ffe-4ea4-b74f-ad40f621cd39/', 'accession': '4DNWLM174GGG', 'date_created': '2018-11-20T16:38:05.511598+00:00', 'lab': '/labs/4dn-dcic-lab/', 'title': 'Converting bed to beddb', 'docker_image_name': '4dn-dcic/docker-4dn-bedtobeddb', 'workflow_language': 'CWL', 'docker_registry_url': 'https://hub.docker.com/', 'data_types': ['Hi-C', 'DAM-ID'], 'external_references': [], 'submitted_by': '/users/986b362f-4eb6-4a9c-8173-3ab267307e3a/', 'display_title': 'Converting bed to beddb - 4DNWLM174GGG', 'description': 'Converting bed to beddb', 'workflow_type': 'Other', 'cwl_pointer': '', 'award': '/awards/1U01CA200059-01/', 'principals_allowed': {'edit': ['group.admin', 'submits_for.828cd4fe-ebb0-4b36-a94a-d2e3a36cc989'], 'audit': ['system.Everyone'], 'view': ['award.b0b9c607-f8b4-4f02-93f4-9895b461334b', 'group.admin', 'group.read-only-admin', 'lab.828cd4fe-ebb0-4b36-a94a-d2e3a36cc989', 'remoteuser.EMBED', 'remoteuser.INDEXER']}, 'steps': [{'name': 'bedtobeddb', 'outputs': [{'name': 'beddbfile', 'meta': {'global': True, 'file_format': 'd1311111-218e-4f61-aaf0-91f226248b2c', 'cardinality': 'single', 'type': 'data file'}, 'target': [{'name': 'beddbfile'}]}], 'meta': {'software_used': ['/softwares/d064191c-b2fc-4c7b-971f-5e2034dc902d/'], 'analysis_step_types': ['file format conversion']}, 'inputs': [{'name': 'bedfile', 'meta': {'global': True, 'type': 'data file', 'file_format': '/file-formats/bed/', 'cardinality': 'single'}, 'source': [{'name': 'bedfile'}]}]}], 'app_version': 'dev', 'schema_version': '5', 'status': 'in review by lab', '@type': ['Workflow', 'Item'], 'cwl_main_filename': 'bedtobeddb.cwl', 'app_name': 'bedtobeddb', 'last_modified': {'modified_by': '/users/986b362f-4eb6-4a9c-8173-3ab267307e3a/', 'date_modified': '2018-11-26T17:16:48.214285+00:00'}, 'uuid': '9d575e99-5ffe-4ea4-b74f-ad40f621cd39', 'arguments': [{'argument_type': 'Input file', 'workflow_argument_name': 'bedfile', 'argument_format': '/file-formats/bed/'}, {'argument_type': 'Output to-be-extra-input file', 'workflow_argument_name': 'beddbfile', 'argument_format': '/file-formats/beddb/'}, {'argument_type': 'parameter', 'workflow_argument_name': 'assembly'}]}], 'status': 'success'}\n"
     ]
    }
   ],
   "source": [
    "action = False\n",
    "addon = \"check_only=True\"\n",
    "if action:\n",
    "    addon = \"\"\n",
    "e = ff_utils.patch_metadata(data,obj_id=my_uuid, key=my_key,\n",
    "                             add_on = addon)\n",
    "print(e)"
   ]
  },
  {
   "cell_type": "code",
   "execution_count": null,
   "metadata": {},
   "outputs": [],
   "source": []
  },
  {
   "cell_type": "code",
   "execution_count": 7,
   "metadata": {},
   "outputs": [
    {
     "name": "stdout",
     "output_type": "stream",
     "text": [
      "['result']\n"
     ]
    }
   ],
   "source": []
  },
  {
   "cell_type": "code",
   "execution_count": 4,
   "metadata": {},
   "outputs": [
    {
     "name": "stdout",
     "output_type": "stream",
     "text": [
      "['1ec54a03-0aaa-4d17-91d5-7a6ae3b12157\\t2017-05-18', '4b1d9cd4-c791-40c6-8b81-8a987f696f32\\t2017-05-04', 'd37f9a09-4339-4e47-90d1-bde1168b4f9a\\t2017-07-05', 'e8e591f1-8cb4-4812-9374-48c9a7029953\\t2004-06-11', 'cb71ddc5-7cd0-40a1-8c99-5f5bc6af7b6a\\t2002-08-15', 'ee384962-816e-444b-8303-d67f3a777e1f\\t2003-10-30', '39b403db-5c31-40b9-90ec-d53ad2a49c79\\t2004-06-11']\n"
     ]
    }
   ],
   "source": [
    "text = '''1ec54a03-0aaa-4d17-91d5-7a6ae3b12157\t2017-05-18\n",
    "4b1d9cd4-c791-40c6-8b81-8a987f696f32\t2017-05-04\n",
    "d37f9a09-4339-4e47-90d1-bde1168b4f9a\t2017-07-05\n",
    "e8e591f1-8cb4-4812-9374-48c9a7029953\t2004-06-11\n",
    "cb71ddc5-7cd0-40a1-8c99-5f5bc6af7b6a\t2002-08-15\n",
    "ee384962-816e-444b-8303-d67f3a777e1f\t2003-10-30\n",
    "39b403db-5c31-40b9-90ec-d53ad2a49c79\t2004-06-11'''.split('\\n')\n",
    "print(text)"
   ]
  },
  {
   "cell_type": "code",
   "execution_count": 5,
   "metadata": {},
   "outputs": [],
   "source": [
    "date_dict = {item.split('\\t')[0]: item.split('\\t')[1] for item in text}"
   ]
  },
  {
   "cell_type": "code",
   "execution_count": 12,
   "metadata": {},
   "outputs": [
    {
     "name": "stdout",
     "output_type": "stream",
     "text": [
      "success \t:\t 1ec54a03-0aaa-4d17-91d5-7a6ae3b12157\n",
      "success \t:\t 4b1d9cd4-c791-40c6-8b81-8a987f696f32\n",
      "success \t:\t d37f9a09-4339-4e47-90d1-bde1168b4f9a\n",
      "success \t:\t e8e591f1-8cb4-4812-9374-48c9a7029953\n",
      "success \t:\t cb71ddc5-7cd0-40a1-8c99-5f5bc6af7b6a\n",
      "success \t:\t ee384962-816e-444b-8303-d67f3a777e1f\n",
      "success \t:\t 39b403db-5c31-40b9-90ec-d53ad2a49c79\n"
     ]
    }
   ],
   "source": [
    "for key, val in date_dict.items():\n",
    "    response = ff_utils.patch_metadata({\"date_published\": val}, key, ff_env=\"data\")\n",
    "    print(response['status'], '\\t:\\t', key)"
   ]
  },
  {
   "cell_type": "code",
   "execution_count": 6,
   "metadata": {},
   "outputs": [
    {
     "data": {
      "text/plain": [
       "{'1ec54a03-0aaa-4d17-91d5-7a6ae3b12157': '2017-05-18',\n",
       " '4b1d9cd4-c791-40c6-8b81-8a987f696f32': '2017-05-04',\n",
       " 'd37f9a09-4339-4e47-90d1-bde1168b4f9a': '2017-07-05',\n",
       " 'e8e591f1-8cb4-4812-9374-48c9a7029953': '2004-06-11',\n",
       " 'cb71ddc5-7cd0-40a1-8c99-5f5bc6af7b6a': '2002-08-15',\n",
       " 'ee384962-816e-444b-8303-d67f3a777e1f': '2003-10-30',\n",
       " '39b403db-5c31-40b9-90ec-d53ad2a49c79': '2004-06-11'}"
      ]
     },
     "execution_count": 6,
     "metadata": {},
     "output_type": "execute_result"
    }
   ],
   "source": [
    "date_dict"
   ]
  },
  {
   "cell_type": "code",
   "execution_count": null,
   "metadata": {},
   "outputs": [],
   "source": [
    "add_on = 'check_only=True'"
   ]
  },
  {
   "cell_type": "code",
   "execution_count": null,
   "metadata": {},
   "outputs": [],
   "source": []
  }
 ],
 "metadata": {
  "kernelspec": {
   "display_name": "Python 3",
   "language": "python",
   "name": "python3"
  },
  "language_info": {
   "codemirror_mode": {
    "name": "ipython",
    "version": 3
   },
   "file_extension": ".py",
   "mimetype": "text/x-python",
   "name": "python",
   "nbconvert_exporter": "python",
   "pygments_lexer": "ipython3",
   "version": "3.7.1"
  }
 },
 "nbformat": 4,
 "nbformat_minor": 2
}
