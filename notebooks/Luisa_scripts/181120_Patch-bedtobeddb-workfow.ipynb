{
 "cells": [
  {
   "cell_type": "code",
   "execution_count": 9,
   "metadata": {},
   "outputs": [],
   "source": [
    "from dcicutils import ff_utils\n",
    "from functions.notebook_functions import *\n",
    "\n",
    "# get key from file\n",
    "#my_key = get_key('default')\n",
    "# all usable env names\n",
    "all_envs = ['data', 'staging', 'fourfront-webdev', 'fourfront-mastertest', 'fourfront-hotseat']\n",
    "# get admin key from s3\n",
    "my_key = ff_utils.get_authentication_with_server({}, ff_env = 'fourfront-webdev')\n"
   ]
  },
  {
   "cell_type": "code",
   "execution_count": 10,
   "metadata": {},
   "outputs": [
    {
     "name": "stdout",
     "output_type": "stream",
     "text": [
      "{'accession': '4DNWLM174GGG', 'app_name': 'bedtobeddb', 'app_version': 'dev', 'arguments': [{'argument_format': '69f6d609-f2ac-4c82-9472-1a13331b5ce9', 'argument_type': 'Input file', 'workflow_argument_name': 'bedfile'}, {'argument_format': '76dc8c06-67d8-487b-8fc8-d841752a0b60', 'argument_type': 'Output to-be-extra-input file', 'workflow_argument_name': 'beddbfile'}, {'argument_type': 'parameter', 'workflow_argument_name': 'assembly'}], 'award': '1U01CA200059-01', 'category': 'format conversion', 'cwl_child_filenames': [], 'cwl_directory_url': 'https://raw.githubusercontent.com/4dn-dcic/docker-4dn-bedtobeddb/master/cwl/', 'cwl_main_filename': 'bedtobeddb.cwl', 'cwl_pointer': '', 'data_types': ['Hi-C', 'DAM-ID'], 'description': 'Converting bed to beddb', 'docker_image_name': '4dn-dcic/docker-4dn-bedtobeddb', 'docker_registry_url': 'https://hub.docker.com/', 'lab': '4dn-dcic-lab', 'name': 'bedtobeddb', 'steps': [{'inputs': [{'meta': {'cardinality': 'single', 'file_format': '69f6d609-f2ac-4c82-9472-1a13331b5ce9', 'global': True, 'type': 'data file'}, 'name': 'bedfile', 'source': [{'name': 'bedfile'}]}], 'meta': {'analysis_step_types': ['file format conversion'], 'software_used': ['/softwares/d064191c-b2fc-4c7b-971f-5e2034dc902d/']}, 'name': 'bedtobeddb', 'outputs': [{'meta': {'cardinality': 'single', 'file_format': 'd1311111-218e-4f61-aaf0-91f226248b2c', 'global': True, 'type': 'data file'}, 'name': 'beddbfile', 'target': [{'name': 'beddbfile'}]}]}], 'title': 'Converting bed to beddb', 'uuid': '9d575e99-5ffe-4ea4-b74f-ad40f621cd39', 'workflow_diagram': '', 'workflow_type': 'Other'}\n"
     ]
    }
   ],
   "source": [
    "# load json file\n",
    "import json\n",
    "my_new_json = \"/Users/luisa/Documents/4DN/bedtobeddb_workflow/bed2beddb_insert_workflow.json\"\n",
    "with open(my_new_json) as f:\n",
    "    data = json.load(f)\n",
    "print(data)"
   ]
  },
  {
   "cell_type": "code",
   "execution_count": 11,
   "metadata": {},
   "outputs": [],
   "source": [
    "workflow_uuid = \"9d575e99-5ffe-4ea4-b74f-ad40f621cd39\"\n",
    "my_uuid = ''"
   ]
  },
  {
   "cell_type": "code",
   "execution_count": 12,
   "metadata": {},
   "outputs": [
    {
     "name": "stdout",
     "output_type": "stream",
     "text": [
      "4\n",
      "4DNWLM174GGG Converting bed to beddb 9d575e99-5ffe-4ea4-b74f-ad40f621cd39\n",
      "\n",
      "9d575e99-5ffe-4ea4-b74f-ad40f621cd39\n"
     ]
    }
   ],
   "source": [
    "q = '/search/?category=format+conversion&type=Workflow'\n",
    "\n",
    "results = ff_utils.search_metadata(q, key=my_key)\n",
    "print(len(results))\n",
    "for i in results:\n",
    "    print(i['accession'], i['title'], i['uuid'])\n",
    "    print()\n",
    "    if i['uuid'] == workflow_uuid:\n",
    "        my_uuid = workflow_uuid\n",
    "        print(my_uuid)\n",
    "        break\n",
    "    "
   ]
  },
  {
   "cell_type": "code",
   "execution_count": 14,
   "metadata": {},
   "outputs": [
    {
     "name": "stdout",
     "output_type": "stream",
     "text": [
      "{'@type': ['result'], '@graph': [{'name': 'bedtobeddb', 'category': 'format conversion', 'link_id': '~workflows~9d575e99-5ffe-4ea4-b74f-ad40f621cd39~', 'cwl_directory_url': 'https://raw.githubusercontent.com/4dn-dcic/docker-4dn-bedtobeddb/master/cwl/', 'cwl_child_filenames': [], 'workflow_diagram': '', '@id': '/workflows/9d575e99-5ffe-4ea4-b74f-ad40f621cd39/', 'accession': '4DNWLM174GGG', 'date_created': '2018-11-20T16:38:05.511598+00:00', 'lab': '/labs/4dn-dcic-lab/', 'title': 'Converting bed to beddb', 'docker_image_name': '4dn-dcic/docker-4dn-bedtobeddb', 'workflow_language': 'CWL', 'docker_registry_url': 'https://hub.docker.com/', 'data_types': ['Hi-C', 'DAM-ID'], 'external_references': [], 'submitted_by': '/users/986b362f-4eb6-4a9c-8173-3ab267307e3a/', 'display_title': 'Converting bed to beddb - 4DNWLM174GGG', 'description': 'Converting bed to beddb', 'workflow_type': 'Other', 'cwl_pointer': '', 'award': '/awards/1U01CA200059-01/', 'principals_allowed': {'edit': ['group.admin', 'submits_for.828cd4fe-ebb0-4b36-a94a-d2e3a36cc989'], 'audit': ['system.Everyone'], 'view': ['award.b0b9c607-f8b4-4f02-93f4-9895b461334b', 'group.admin', 'group.read-only-admin', 'lab.828cd4fe-ebb0-4b36-a94a-d2e3a36cc989', 'remoteuser.EMBED', 'remoteuser.INDEXER']}, 'steps': [{'name': 'bedtobeddb', 'outputs': [{'name': 'beddbfile', 'meta': {'global': True, 'file_format': 'd1311111-218e-4f61-aaf0-91f226248b2c', 'cardinality': 'single', 'type': 'data file'}, 'target': [{'name': 'beddbfile'}]}], 'meta': {'software_used': ['/softwares/d064191c-b2fc-4c7b-971f-5e2034dc902d/'], 'analysis_step_types': ['file format conversion']}, 'inputs': [{'name': 'bedfile', 'meta': {'global': True, 'type': 'data file', 'file_format': '/file-formats/bed/', 'cardinality': 'single'}, 'source': [{'name': 'bedfile'}]}]}], 'app_version': 'dev', 'schema_version': '5', 'status': 'in review by lab', '@type': ['Workflow', 'Item'], 'cwl_main_filename': 'bedtobeddb.cwl', 'app_name': 'bedtobeddb', 'last_modified': {'modified_by': '/users/986b362f-4eb6-4a9c-8173-3ab267307e3a/', 'date_modified': '2018-11-26T17:16:48.214285+00:00'}, 'uuid': '9d575e99-5ffe-4ea4-b74f-ad40f621cd39', 'arguments': [{'argument_type': 'Input file', 'workflow_argument_name': 'bedfile', 'argument_format': '/file-formats/bed/'}, {'argument_type': 'Output to-be-extra-input file', 'workflow_argument_name': 'beddbfile', 'argument_format': '/file-formats/beddb/'}, {'argument_type': 'parameter', 'workflow_argument_name': 'assembly'}]}], 'status': 'success'}\n"
     ]
    }
   ],
   "source": [
    "action = False\n",
    "addon = \"check_only=True\"\n",
    "if action:\n",
    "    addon = \"\"\n",
    "e = ff_utils.patch_metadata(data,obj_id=my_uuid, key=my_key,\n",
    "                             add_on = addon)\n",
    "print(e)"
   ]
  },
  {
   "cell_type": "code",
   "execution_count": 7,
   "metadata": {},
   "outputs": [
    {
     "name": "stdout",
     "output_type": "stream",
     "text": [
      "['result']\n"
     ]
    }
   ],
   "source": []
  },
  {
   "cell_type": "code",
   "execution_count": null,
   "metadata": {},
   "outputs": [],
   "source": []
  }
 ],
 "metadata": {
  "kernelspec": {
   "display_name": "Python 3",
   "language": "python",
   "name": "python3"
  },
  "language_info": {
   "codemirror_mode": {
    "name": "ipython",
    "version": 3
   },
   "file_extension": ".py",
   "mimetype": "text/x-python",
   "name": "python",
   "nbconvert_exporter": "python",
   "pygments_lexer": "ipython3",
   "version": "3.7.1"
  }
 },
 "nbformat": 4,
 "nbformat_minor": 2
}
