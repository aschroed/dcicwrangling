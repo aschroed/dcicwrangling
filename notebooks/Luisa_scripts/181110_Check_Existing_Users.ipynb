{
 "cells": [
  {
   "cell_type": "code",
   "execution_count": 1,
   "metadata": {},
   "outputs": [],
   "source": [
    "from dcicutils import ff_utils\n",
    "from functions.notebook_functions import *\n",
    "import pandas\n",
    "from pandas import DataFrame as df\n",
    "\n",
    "# get key from file\n",
    "my_key = get_key('default')\n",
    "# all usable env names\n",
    "all_envs = ['data', 'staging', 'fourfront-webdev', 'fourfront-mastertest', 'fourfront-hotseat']\n",
    "# get admin key from s3\n",
    "#my_key = ff_utils.get_authentication_with_server({}, ff_env = 'data')\n"
   ]
  },
  {
   "cell_type": "code",
   "execution_count": 2,
   "metadata": {},
   "outputs": [],
   "source": [
    "excel_file = pandas.ExcelFile(r'/Users/luisa/Downloads/4DN MEMBERS UPDATED LIST.xlsx')\n",
    "#data = df(excel_file, columns = ['Project_Number', 'RFA','PI_Contact','First_Name','Last_Name','Email','Role'])\n",
    "\n"
   ]
  },
  {
   "cell_type": "code",
   "execution_count": null,
   "metadata": {},
   "outputs": [],
   "source": [
    "excel_file.sheet_names"
   ]
  },
  {
   "cell_type": "code",
   "execution_count": 3,
   "metadata": {},
   "outputs": [],
   "source": [
    "df1 = pandas.read_excel(excel_file,'DCIC & OH')\n",
    "df2 = pandas.read_excel(excel_file,'IT')\n",
    "df3 = pandas.read_excel(excel_file,'NT')\n",
    "df4 = pandas.read_excel(excel_file,'NOFIC')\n",
    "df5 = pandas.read_excel(excel_file,'NBC')\n",
    "df6 = pandas.read_excel(excel_file,'TCPA')"
   ]
  },
  {
   "cell_type": "code",
   "execution_count": 13,
   "metadata": {},
   "outputs": [
    {
     "name": "stdout",
     "output_type": "stream",
     "text": [
      "Connor Horton connorhorton@college.harvard.edu Peter Park Trainee (Park)\n",
      "Scott Kallgren scott@hms.harvard.edu Peter Park Trainee (Park)\n",
      "nan nan nan nan nan\n",
      "Yiran Hou nan Ting Wang nan\n",
      "Erica C. Pehrsson nan Ting Wang nan\n",
      "nan nan nan nan nan\n",
      "Irene Hom Jacobo ihjacobo@eng.ucsd.edu Sheng Zhong Annual meetings\n",
      "Carol Kling ckling@ucsd.edu Sheng Zhong Staff (Subramaniam)/annual meetings, OH email\n",
      "Kathia Zaleta Rivera kzaletar@eng.ucsd.edu Sheng Zhong Research staff/4DN Cell Repository (creation, maintanence), Policy WG\n",
      "Zhangming Yan yanzm@eng.ucsd.edu  Sheng Zhong Research staff/newsletters, web portal (news RSS feeds), SC meetings (agenda, intiation, recording, minutes)\n",
      "Weizhong Chen wec125@eng.ucsd.edu Sheng Zhong Research staff/SC meetings, data analysis WG\n",
      "Lucie Hebert luhebert@eng.ucsd.edu  Sheng Zhong Research staff/Outreach, Cell lines WG, web portal (protocols)\n",
      "Haizi Zheng hzzheng@eng.ucsd.edu Sheng Zhong Research staff/web portal, Imaging WG\n",
      "Weixin Wu wew245@eng.ucsd.edu Sheng Zhong Postdoc\n",
      "Kate  Rivera car032@eng.ucsd.edu Sheng Zhong Program Coordinator\n"
     ]
    }
   ],
   "source": [
    "#DCIC & OH\n",
    "for index, row in df1.iterrows():\n",
    "    \n",
    "    q1 = '/search/?type=User&first_name&last_name={}'.format(row['First Name'],row['Last Name'])\n",
    "    res1 = ff_utils.search_metadata(q1, key=my_key)\n",
    "    \n",
    "    if len(res1) == 0:\n",
    "        q2 = '/search/?type=User&last_name={}&first_name={}'.format(row['Last Name'],row['First Name'])\n",
    "        res2 = ff_utils.search_metadata(q2, key=my_key)\n",
    "        \n",
    "        if len(res2) == 0:\n",
    "            q3 = '/search/?type=User&email={}'.format(str(row['Email']).lower())\n",
    "            res3 = ff_utils.search_metadata(q3, key=my_key)\n",
    "            \n",
    "            if len(res3) == 0:\n",
    "                print(row['First Name'],row['Last Name'],row['Email'],row['PI Contact'], row['Role'])\n",
    "                \n",
    "            \n",
    "            \n",
    "        "
   ]
  },
  {
   "cell_type": "code",
   "execution_count": 14,
   "metadata": {},
   "outputs": [
    {
     "name": "stdout",
     "output_type": "stream",
     "text": [
      "nan nan nan nan nan\n",
      "Frank Chuang frank.chuang@cbst.ucdavis.edu Kit Lam Co-I\n",
      "Ruiwu Liu nan Kit Lam Co-I\n",
      "nan nan nan nan nan\n",
      "nan nan nan nan nan\n",
      "Jorge Deng dengw@berkeley.edu Robert Singer Post Doc (Darzacq)\n",
      "Astou Robles arobles77@berkeley.edu Robert Singer Associate Specialist (Darzacq)\n",
      "Suzanne Martinez Suzanne.Martinez@einstein.yu.edu Robert Singer Adminstrative Asst for R. Singer\n",
      "Frank Xie frank.l.xie@berkeley.edu Robert Singer Post Doc (Darzacq)\n",
      "nan nan nan nan nan\n",
      "Petar Petrov petar@stanford.edu Jan Liphardt Graduate Student (Moerner)\n",
      "Maurice Lee maulee@stanford.edu Jan Liphardt Graduate Student (Moerner)\n",
      "nan nan nan nan nan\n",
      "Maximillian Huisman maximiliaan.huisman@umassmed.edu David Grunwald PhD Student\n",
      "nan nan nan nan nan\n",
      "nan nan nan nan nan\n",
      "nan nan nan nan nan\n",
      "Greg Cadwell gcadwell@salk.edu Clodagh O'Shea Lab Manager (O'Shea)\n",
      "nan Thurman ncmiradmin@ncmir.ucsd.edu Clodagh O'Shea Ellisman Administrative Assistant\n",
      "Preston Dennett pdennett@salk.edu Clodagh O'Shea Grad Student (O'Shea)\n"
     ]
    }
   ],
   "source": [
    "#IT\n",
    "for index, row in df2.iterrows():\n",
    "    \n",
    "    q1 = '/search/?type=User&first_name&last_name={}'.format(row['First Name'],row['Last Name'])\n",
    "    res1 = ff_utils.search_metadata(q1, key=my_key)\n",
    "    \n",
    "    if len(res1) == 0:\n",
    "        q2 = '/search/?type=User&last_name={}&first_name={}'.format(row['Last Name'],row['First Name'])\n",
    "        res2 = ff_utils.search_metadata(q2, key=my_key)\n",
    "        \n",
    "        if len(res2) == 0:\n",
    "            q3 = '/search/?type=User&email={}'.format(str(row['Email']).lower())\n",
    "            res3 = ff_utils.search_metadata(q3, key=my_key)\n",
    "            \n",
    "            if len(res3) == 0:\n",
    "                print(row['First Name'],row['Last Name'],row['Email'],row['Contact PI'], row['Role'])\n",
    "                "
   ]
  },
  {
   "cell_type": "code",
   "execution_count": 15,
   "metadata": {},
   "outputs": [
    {
     "name": "stdout",
     "output_type": "stream",
     "text": [
      "nan nan nan nan nan\n",
      "nan nan nan nan nan\n",
      "Thomas Gilgenast tgg@seas.upenn.edu Arjun Raj (graduate student/Cremins)\n",
      "Jon Beagan jbeagan@seas.upenn.edu Arjun Raj (graduate student/Cremins)\n",
      "nan nan nan nan nan\n",
      "Andrea Santizo asantizo@lncrna.caltech.edu Mitchell Guttman Guttman Admin. contact\n",
      "Natasha Shelby natasha@caltech.edu Mitchell Guttman Ismagilov research manager\n",
      "Prashant Bhat pbhat@lncrna.caltech.edu Mitchell Guttman Graduate Student\n",
      "nan nan nan nan nan\n",
      "Inez Arevalo igareval@gmail.com Erez Lieberman Aiden Admin\n",
      "Rao Suhas rao.suhas@gmail.com Erez Lieberman Aiden Graduate student\n"
     ]
    }
   ],
   "source": [
    "#NT\n",
    "for index, row in df3.iterrows():\n",
    "    \n",
    "    q1 = '/search/?type=User&first_name&last_name={}'.format(row['First Name'],row['Last Name'])\n",
    "    res1 = ff_utils.search_metadata(q1, key=my_key)\n",
    "    \n",
    "    if len(res1) == 0:\n",
    "        q2 = '/search/?type=User&last_name={}&first_name={}'.format(row['Last Name'],row['First Name'])\n",
    "        res2 = ff_utils.search_metadata(q2, key=my_key)\n",
    "        \n",
    "        if len(res2) == 0:\n",
    "            q3 = '/search/?type=User&email={}'.format(str(row['Email']).lower())\n",
    "            res3 = ff_utils.search_metadata(q3, key=my_key)\n",
    "            \n",
    "            if len(res3) == 0:\n",
    "                print(row['First Name'],row['Last Name'],row['Email'],row['PI Contact'], row['Role'])\n",
    "    \n",
    "    "
   ]
  },
  {
   "cell_type": "code",
   "execution_count": 16,
   "metadata": {},
   "outputs": [
    {
     "name": "stdout",
     "output_type": "stream",
     "text": [
      "Daniel  Capurso Daniel.Capurso@jax.org Yijun Ruan Staff scientist\n",
      "Emaly Piecuch emaly.piecuch@jax.org Yijun Ruan PhD student\n",
      "Simon Tian Simon.Tian@jax.org Yijun Ruan Postdoc\n",
      "Ada Zhan Ada.Zhan@jax.org Yijun Ruan Postdoc\n",
      "Meizhen Zheng meizhen.zheng@jax.org Yijun Ruan Staff scientist\n",
      "Byoungkoo Lee Byoungkoo.Lee@jax.org Yijun Ruan Staff scientist\n",
      "Jeff Chuang Jeff.Chuang@jax.org Yijun Ruan Collaboation PI\n",
      "Dariusz Plewczyński dariuszplewczynski@cent.uw.edu.pl Yijun Ruan Collaboation PI\n",
      "Catherine Gallo catherine.gallo@jax.org Yijun Ruan Lab AssociateLab Associate: Graduate Student/Student/Trainee/Administrator/Manager/Project Coordinator\n",
      "nan nan nan nan nan\n",
      "Shirley Lam sklam@uw.edu Jay Shendure Lab Associate\n",
      "nan nan nan nan nan\n",
      "Karrie Brown nan Job Dekker/Leonid Mirny nan\n",
      "Gianluca  Pegoraro pegorarog@mail.nih.gov Job Dekker/Leonid Mirny Director, HITIF, NCI\n",
      "Tomás Rodriguez tomas.rodriguez@umassmed.edu Job Dekker/Leonid Mirny MD/PhD Student, Sontheimer Lab\n",
      "nan nan nan nan nan\n",
      "Omid Gholamalamdari gholama2@illinois.edu Andrew Belmont Grad Student Belmont's lab\n",
      "Jiah Kim jiahkim@illinois.edu Andrew Belmont Grad Student Belmont lab\n",
      "Yang  Yang yy3@andrew.cmu.edu  Andrew Belmont Grad Student Jian Ma's group\n",
      "Dechao Tian dechaot@andrew.cmu.edu Andrew Belmont Post Doc Jian Ma's group\n",
      "Meng Zhang mzhan100@illinois.edu Andrew Belmont Grad student Huimin Zhao's lab\n",
      "Daniel  Vera vera@genomics.fsu.edu Andrew Belmont Computational Biologist Gilbert lab\n",
      "Jesse Turner jturner@bio.fsu.edu Andrew Belmont PhD student Gilbert lab\n",
      "nan nan nan nan nan\n",
      "Andrea Chiariello chiariello@na.infn.it Bing Ren co-I\n",
      "Izabela Harabula Izabela.Harabula@mdc-berlin.de Bing Ren PhD student (Pombo)\n",
      "Thomas Sparks Thomas.Sparks@mdc-berlin.de Bing Ren PhD student (Pombo)\n",
      "Haruhiko Ishii hishii@ucsd.edu Bing Ren Lab Associate: Graduate Student/Student/Trainee/Administrator/Manager/Project Coordinator\n",
      "Ehsan Irani Ehsan.Irani@mdc-berlin.de Bing Ren Postdoc Fellow\n",
      "nan nan nan nan nan\n",
      "Nan  Hua  nhua@usc.edu  Frank Alber  grad student researcher (Alber)\n",
      "Guido  Polles  polles@usc.edu  Frank Alber postdoctoral researcher (Alber)\n",
      "Harianto  Tjong  htjong@usc.edu  Frank Alber postdoctoral researcher (Alber)\n",
      "Hanjun Shin nan Frank Alber nan\n",
      "Dan Simon nan Frank Alber nan\n",
      "Sanjeev Kumar sanjeev.kumar@cidresearch.org Frank Alber postdoctoral researcher (Aitchison lab)\n",
      "Xiulan Wang nan Frank Alber nan\n",
      "Paul Olivier paul.olivier@cidresearch.org Frank Alber postdoctoral researcher (Aitchison lab)\n"
     ]
    }
   ],
   "source": [
    "#NOFIC\n",
    "for index, row in df4.iterrows():\n",
    "    \n",
    "    q1 = '/search/?type=User&first_name&last_name={}'.format(row['First Name'],row['Last Name'])\n",
    "    res1 = ff_utils.search_metadata(q1, key=my_key)\n",
    "    \n",
    "    if len(res1) == 0:\n",
    "        q2 = '/search/?type=User&last_name={}&first_name={}'.format(row['Last Name'],row['First Name'])\n",
    "        res2 = ff_utils.search_metadata(q2, key=my_key)\n",
    "        \n",
    "        if len(res2) == 0:\n",
    "            q3 = '/search/?type=User&email={}'.format(str(row['Email']).lower())\n",
    "            res3 = ff_utils.search_metadata(q3, key=my_key)\n",
    "            \n",
    "            if len(res3) == 0:\n",
    "                print(row['First Name'],row['Last Name'],row['Email'],row['PI Contact'], row['Role'])\n",
    "                \n",
    "            "
   ]
  },
  {
   "cell_type": "code",
   "execution_count": 17,
   "metadata": {},
   "outputs": [
    {
     "name": "stdout",
     "output_type": "stream",
     "text": [
      "Lisa  Bashkirova  evbashkirova@gmail.com Stavros Lomvardas Graduate Student \n",
      "Kevin  Monahan kevingmonahan@gmail.com Stavros Lomvardas Post Doc\n",
      "nan nan nan nan nan\n",
      "Ben Chandler bchandle@fredhutch.org Mark Groudine Laboratory Aide\n",
      "nan nan nan nan nan\n",
      "Thoru Pederson thoru.pederson@umassmed.edu Paul Kaufman PD/PI\n",
      "Aizhan Bizhanova Aizhan.Bizhanova@umassmed.edu Paul Kaufman nan\n",
      "nan nan nan nan nan\n",
      "Eje Chang y.chang@exchange.Princeton.EDU Cliff Brangwynne Grad Student\n",
      "nan nan nan nan nan\n",
      "Andrea Santizo asantizo@lncrna.caltech.edu Mitchell Guttman Guttman Admin. contact\n",
      "Natasha Shelby natasha@caltech.edu Mitchell Guttman Ismagilov research manager\n",
      "Mary  Arrastia marrasti@caltech.edu Mitchell Guttman Graduate Student\n",
      "nan nan nan nan nan\n",
      "Li-Chun Cheng lccheng@scripps.edu Larry Gerace Lab Associate: Graduate Student/Student/Trainee/Administrator/Manager/Project Coordinator\n",
      "Kanishk Abhinav kabhinav@scripps.edu Larry Gerace Lab Associate: Graduate Student/Student/Trainee/Administrator/Manager/Project Coordinator\n",
      "Liza Brusman lbrusman@scripps.edu Larry Gerace Lab Associate: Graduate Student/Student/Trainee/Administrator/Manager/Project Coordinator\n",
      "Xi Zhang xizhang@scripps.edu Larry Gerace Research Associate\n"
     ]
    }
   ],
   "source": [
    "#NBC\n",
    "for index, row in df5.iterrows():\n",
    "    \n",
    "    q1 = '/search/?type=User&first_name&last_name={}'.format(row['First Name'],row['Last Name'])\n",
    "    res1 = ff_utils.search_metadata(q1, key=my_key)\n",
    "    \n",
    "    if len(res1) == 0:\n",
    "        q2 = '/search/?type=User&last_name={}&first_name={}'.format(row['Last Name'],row['First Name'])\n",
    "        res2 = ff_utils.search_metadata(q2, key=my_key)\n",
    "        \n",
    "        if len(res2) == 0:\n",
    "            q3 = '/search/?type=User&email={}'.format(str(row['Email']).lower())\n",
    "            res3 = ff_utils.search_metadata(q3, key=my_key)\n",
    "            \n",
    "            if len(res3) == 0:\n",
    "                print(row['First Name'],row['Last Name'],row['Email'],row['PI Contact'], row['Role'])\n",
    "                \n",
    "            "
   ]
  },
  {
   "cell_type": "code",
   "execution_count": 18,
   "metadata": {},
   "outputs": [
    {
     "name": "stdout",
     "output_type": "stream",
     "text": [
      "Brad Cairns Brad.Cairns@hci.utah.edu Brad Cairns PI\n",
      "Antonio Giraldez antonio.giraldez@yale.edu Brad Cairns Co-I\n",
      "Shun Hang  Chan shunhang.chan@yale.edu Brad Cairns Lab member\n",
      "Donna Karpel donna.karpel@yale.edu Brad Cairns Administrator Giraldez\n",
      "Miguel  Moreno-Mateos miguel.moreno-mateos@yale.edu Brad Cairns Lab member\n",
      "Juan Fernandez juan.fernandez@yale.edu Brad Cairns Lab member\n",
      "Liyun Miao Liyun.miao@yale.edu Brad Cairns Lab member\n",
      "nan nan nan nan nan\n",
      "Jeroen de Ridder j.deridder-4@umcutrecht.nl Wouter de Laat Co-I\n",
      "Geert Geeven g.geeven@hubrecht.eu Wouter de Laat Lab member\n",
      "Valerio Bianchi v.bianchi@hubrecht.eu Wouter de Laat Lab member\n",
      "nan nan nan nan nan\n",
      "Francois Spitz francois.spitz@pasteur.fr Francois Spitz PI\n",
      "nan nan nan nan nan\n",
      "Karen Adelman karen_adelman@hms.harvard.edu Karen Adelman PI\n",
      "Joanna Wysocka wysocka@stanford.edu Karen Adelman Co-I\n",
      "Bo Gu bgu1224@stanford.edu Karen Adelman Wysocka lab member\n",
      "Neha Arora narora5@stanford.edu Karen Adelman Wysocka lab member\n",
      "Tomek Swigut swigut@stanford.edu Karen Adelman Wysocka lab member\n",
      "Sandrin Kosasih smarsha@stanford.edu Karen Adelman Wysocka admin\n",
      "Eileen Ablondi efablondi@g.harvard.edu Karen Adelman Adelman lab member\n",
      "nan nan nan nan nan\n",
      "Karla Neugebauer karla.neugebauer@yale.edu Karla Neugebauer PI\n",
      "Joan Steitz joan.steitz@yale.edu Karla Neugebauer Co-I\n",
      "Valentina  Botti valentina.botti@yale.edu Karla Neugebauer Lab Member\n",
      "Korinna  Straube korinna.straube@yale.edu Karla Neugebauer Lab Member\n",
      "Minju Ha hademoc@gmail.com Karla Neugebauer Lab Member\n",
      "Dahyana Arias Escayola dahyana.ariasescayola@yale.edu Karla Neugebauer Lab Associate: Graduate Student/Student/Trainee/Administrator/Manager/Project Coordinator\n",
      "nan nan nan nan nan\n",
      "Nicola Neretti nicola_neretti@brown.edu Nicola Neretti PI\n",
      "Anuj Srivastava anuj.srivastava@jax.org Nicola Neretti Co-I\n",
      "Chao-Ting Wu twu@genetics.med.harvard.edu Nicola Neretti Co-I\n",
      "Shane Evans shane_evans@brown.edu Nicola Neretti Lab member\n",
      "Jeremy Horrell jeremy_horrell@brown.edu Nicola Neretti Lab member\n",
      "Nicholas Skvir nicholas_skvir@brown.edu Nicola Neretti Lab member\n",
      "nan nan nan nan nan\n",
      "Jay Shendure shendure@uw.edu Steve Henikoff Co-I\n",
      "nan nan nan nan nan\n",
      "nan nan nan nan nan\n",
      "Tomi Pastinen tomi.pastinen@mcgill.ca Tomi Pastinen PI\n",
      "Guillaume Bourque guil.bourque@mcgill.ca Tomi Pastinen PI\n",
      "Art Petronis arturas_petronis@camh.net Art Petronis PI\n",
      "Cathy  Barr cathy.barr@uhnresearch.ca Art Petronis Co-PI\n"
     ]
    }
   ],
   "source": [
    "#TCPA\n",
    "for index, row in df6.iterrows():\n",
    "    \n",
    "    q1 = '/search/?type=User&first_name&last_name={}'.format(row['First Name'],row['Last Name'])\n",
    "    res1 = ff_utils.search_metadata(q1, key=my_key)\n",
    "    \n",
    "    if len(res1) == 0:\n",
    "        q2 = '/search/?type=User&last_name={}&first_name={}'.format(row['Last Name'],row['First Name'])\n",
    "        res2 = ff_utils.search_metadata(q2, key=my_key)\n",
    "        \n",
    "        if len(res2) == 0:\n",
    "            q3 = '/search/?type=User&email={}'.format(str(row['Email']).lower())\n",
    "            res3 = ff_utils.search_metadata(q3, key=my_key)\n",
    "            \n",
    "            if len(res3) == 0:\n",
    "                print(row['First Name'],row['Last Name'],row['Email'],row['PI Contact'], row['Role'])\n",
    "                \n",
    "            "
   ]
  },
  {
   "cell_type": "code",
   "execution_count": null,
   "metadata": {},
   "outputs": [],
   "source": [
    "for index, row in df4.iterrows():\n",
    "    row['Last Name']\n",
    "    #row['First Name']"
   ]
  },
  {
   "cell_type": "code",
   "execution_count": null,
   "metadata": {},
   "outputs": [],
   "source": []
  },
  {
   "cell_type": "code",
   "execution_count": null,
   "metadata": {},
   "outputs": [],
   "source": []
  },
  {
   "cell_type": "code",
   "execution_count": null,
   "metadata": {},
   "outputs": [],
   "source": [
    "users_query = '''Brad\tCairns\n",
    "Antonio\tGiraldez\n",
    "Shun Hang \tChan\n",
    "Candice\tWike\n",
    "Donna\tKarpel\n",
    "Miguel \tMoreno-Mateos\n",
    "Juan\tFernandez\n",
    "Liyun\tMiao\n",
    "Wouter\tde Laat\n",
    "Jeroen\tde Ridder\n",
    "Amin\tAllahyar\n",
    "Geert\tGeeven\n",
    "Valerio\tBianchi\n",
    "Francois\tSpitz\n",
    "Thomas\tGregor\n",
    "Mirny\tLeonid\n",
    "Karen\tAdelman\n",
    "Joanna\tWysocka\n",
    "Bo\tGu\n",
    "Neha\tArora\n",
    "Tomek\tSwigut\n",
    "Sandrin\tKosasih\n",
    "Andrew\tField\n",
    "Eileen\tAblondi\n",
    "Karla\tNeugebauer\n",
    "Joan\tSteitz\n",
    "Valentina \tBotti\n",
    "Korinna \tStraube\n",
    "Minju\tHa\n",
    "Dahyana\tArias Escayola\n",
    "Nicola\tNeretti\n",
    "Anuj\tSrivastava\n",
    "Chao-Ting\tWu\n",
    "Shane\tEvans\n",
    "Jeremy\tHorrell\n",
    "Nicholas\tSkvir\n",
    "Steve \tHenikoff\n",
    "Kami\tAhmad\n",
    "Jay\tShendure\n",
    "William\tNoble\n",
    "Terri\tBryson\n",
    "Derek\tJanssens\n",
    "Keji\tZhao\n",
    "Gangqing\tHu\n",
    "Binbin \tLai\n",
    "Qingsong \tTang\n",
    "Tomi\tPastinen\n",
    "Guillaume\tBourque\n",
    "Art\tPetronis\n",
    "Cathy \tBarr'''.split('\\n')\n",
    "print(users_query)"
   ]
  },
  {
   "cell_type": "code",
   "execution_count": null,
   "metadata": {},
   "outputs": [],
   "source": [
    "filepath = '/Users/luisa/Users_List_v2' \n",
    "file = open(filepath).read()\n",
    "users_info = file.split('\\n')\n",
    "users_list = [item.split('\\t') for item in users_info]"
   ]
  },
  {
   "cell_type": "code",
   "execution_count": null,
   "metadata": {},
   "outputs": [],
   "source": []
  },
  {
   "cell_type": "code",
   "execution_count": null,
   "metadata": {},
   "outputs": [],
   "source": [
    "for i in users_list:\n",
    "    \n",
    "    if len(i) >= 4:\n",
    "        q1 = '/search/?type=User&first_name={}&last_name={}'.format(i[2],i[3])\n",
    "        results1 = ff_utils.search_metadata(q1, key=my_key)\n",
    "        \n",
    "        if len(results1) == 0:\n",
    "            q2 = '/search/?type=User&first_name={}&last_name={}'.format(i[3],i[2])\n",
    "            results2 = ff_utils.search_metadata(q2, key=my_key)\n",
    "            if len(results2) == 0:\n",
    "                if len(i) == 5:\n",
    "                    \n",
    "                    q3 = \"/search/?type=User&&email={}\".format(i[4].lower())\n",
    "                    results3 = ff_utils.search_metadata(q3, key=my_key)\n",
    "                    if len(results3) == 0:\n",
    "                        print(i[0] + ' ' + i[1] + ''+i[2] + ''+ i[3] + '' + i[4] + '' +i[5]\n",
    "                            \n",
    "            \n",
    "            \n"
   ]
  },
  {
   "cell_type": "code",
   "execution_count": null,
   "metadata": {},
   "outputs": [],
   "source": []
  },
  {
   "cell_type": "code",
   "execution_count": null,
   "metadata": {},
   "outputs": [],
   "source": []
  },
  {
   "cell_type": "code",
   "execution_count": null,
   "metadata": {},
   "outputs": [],
   "source": [
    "action = False\n",
    "\n",
    "for a_hit in results:\n",
    "    print(a_hit['uuid'], a_hit['status'])\n",
    "    \n",
    "    raw_response = ff_utils.get_metadata(a_hit['uuid'], key =my_key, add_on='frame=raw')\n",
    "    print(raw_response)\n",
    "    print()\n",
    "    print(a_hit)\n",
    "    addon = \"check_only=True\"\n",
    "    if action:\n",
    "        addon = \"\"\n",
    "    ff_utils.patch_metadata({\"status\":\"deleted\"},obj_id=a_hit['uuid'], key=my_key,\n",
    "                             add_on = addon)"
   ]
  }
 ],
 "metadata": {
  "kernelspec": {
   "display_name": "Python 3",
   "language": "python",
   "name": "python3"
  },
  "language_info": {
   "codemirror_mode": {
    "name": "ipython",
    "version": 3
   },
   "file_extension": ".py",
   "mimetype": "text/x-python",
   "name": "python",
   "nbconvert_exporter": "python",
   "pygments_lexer": "ipython3",
   "version": "3.7.1"
  }
 },
 "nbformat": 4,
 "nbformat_minor": 2
}
