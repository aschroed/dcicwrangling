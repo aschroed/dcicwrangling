{
 "cells": [
  {
   "cell_type": "code",
   "execution_count": 8,
   "metadata": {},
   "outputs": [],
   "source": [
    "from dcicutils import ff_utils\n",
    "from functions.notebook_functions import *\n",
    "\n",
    "# get key from file\n",
    "#my_key = get_key('default')\n",
    "# all usable env names\n",
    "all_envs = ['data', 'staging', 'fourfront-webdev', 'fourfront-mastertest', 'fourfront-hotseat']\n",
    "# get admin key from s3\n",
    "my_key = ff_utils.get_authentication_with_server({}, ff_env = 'fourfront-webdev')\n"
   ]
  },
  {
   "cell_type": "code",
   "execution_count": 9,
   "metadata": {},
   "outputs": [
    {
     "name": "stdout",
     "output_type": "stream",
     "text": [
      "{'accession': '4DNWJV73GVL', 'app_name': 'bedGraphToBigWig', 'app_version': 'dev', 'arguments': [{'argument_format': 'd1312212-218e-4f61-aaf0-91f226248b2c', 'argument_type': 'Input file', 'workflow_argument_name': 'bgfile'}, {'argument_format': 'd13d06cf-218e-4f61-55f0-93f226248b2c', 'argument_type': 'Input file', 'workflow_argument_name': 'chromsize'}, {'argument_format': 'd1311111-218e-4f61-aaf0-91f226248b2c', 'argument_type': 'Output to-be-extra-input file', 'workflow_argument_name': 'bwfile'}], 'award': '1U01CA200059-01', 'category': 'format conversion', 'cwl_child_filenames': [], 'cwl_directory_url': 'https://raw.githubusercontent.com/4dn-dcic/docker-4dn-bedGraphToBigWig/v4/cwl/', 'cwl_main_filename': 'bedGraphToBigWig.cwl', 'cwl_pointer': '', 'data_types': ['Hi-C', 'Repli-seq'], 'description': 'Converting bedgraph to bigwig', 'docker_image_name': '4dn-dcic/docker-4dn-bedgraphtobigwig', 'docker_registry_url': 'https://hub.docker.com/', 'lab': '4dn-dcic-lab', 'name': 'bedGraphToBigWig', 'steps': [{'inputs': [{'meta': {'cardinality': 'single', 'file_format': 'd1312212-218e-4f61-aaf0-91f226248b2c', 'global': True, 'type': 'data file'}, 'name': 'bgfile', 'source': [{'name': 'bgfile'}]}, {'meta': {'cardinality': 'single', 'file_format': 'd13d06cf-218e-4f61-55f0-93f226248b2c', 'global': True, 'type': 'reference file'}, 'name': 'chromsize', 'source': [{'name': 'chromsize'}]}], 'meta': {'analysis_step_types': ['file format conversion'], 'software_used': ['/softwares/00eda937-3149-4252-8dc9-c27de59d75ed/']}, 'name': 'bedGraphToBigWig', 'outputs': [{'meta': {'cardinality': 'single', 'file_format': 'd1311111-218e-4f61-aaf0-91f226248b2c', 'global': True, 'type': 'data file'}, 'name': 'bwfile', 'target': [{'name': 'bwfile'}]}]}], 'title': 'Converting bedgraph to bigwig', 'uuid': '667b14a7-a47e-4857-adf1-12a6393c4b8e', 'workflow_diagram': '', 'workflow_type': 'Other'}\n"
     ]
    }
   ],
   "source": [
    "# load json file\n",
    "import json\n",
    "my_new_json = \"/Users/luisa/Documents/4DN/bedgraph2bw_v4_workflow.json\"\n",
    "with open(my_new_json) as f:\n",
    "    data = json.load(f)\n",
    "print(data)"
   ]
  },
  {
   "cell_type": "code",
   "execution_count": 10,
   "metadata": {},
   "outputs": [],
   "source": [
    "workflow_uuid = \"667b14a7-a47e-4857-adf1-12a6393c4b8e\"\n",
    "#my_uuid = ''"
   ]
  },
  {
   "cell_type": "code",
   "execution_count": 11,
   "metadata": {},
   "outputs": [
    {
     "name": "stdout",
     "output_type": "stream",
     "text": [
      "5\n",
      "4DNW3CX1OGK test c6d03e12-bc37-4fac-8cd7-0b3b18e60d55\n",
      "\n",
      "4DNWLM174GGG Converting bed to beddb 9d575e99-5ffe-4ea4-b74f-ad40f621cd39\n",
      "\n",
      "4DNWJV73GVL Converting bedgraph to bigwig 667b14a7-a47e-4857-adf1-12a6393c4b8e\n",
      "\n",
      "667b14a7-a47e-4857-adf1-12a6393c4b8e\n"
     ]
    }
   ],
   "source": [
    "q = '/search/?category=format+conversion&type=Workflow'\n",
    "\n",
    "results = ff_utils.search_metadata(q, key=my_key)\n",
    "print(len(results))\n",
    "for i in results:\n",
    "    print(i['accession'], i['title'], i['uuid'])\n",
    "    print()\n",
    "    if i['uuid'] == workflow_uuid:\n",
    "        my_uuid = workflow_uuid\n",
    "        print(my_uuid)\n",
    "        break\n",
    "    "
   ]
  },
  {
   "cell_type": "code",
   "execution_count": 13,
   "metadata": {},
   "outputs": [
    {
     "name": "stdout",
     "output_type": "stream",
     "text": [
      "{'status': 'success', '@graph': [{'arguments': [{'argument_type': 'Input file', 'workflow_argument_name': 'bgfile', 'argument_format': '/file-formats/bg/'}, {'argument_type': 'Input file', 'workflow_argument_name': 'chromsize', 'argument_format': '/file-formats/chromsizes/'}, {'argument_type': 'Output to-be-extra-input file', 'workflow_argument_name': 'bwfile', 'argument_format': '/file-formats/bw/'}], 'accession': '4DNWJV73GVL', 'status': 'in review by lab', 'link_id': '~workflows~667b14a7-a47e-4857-adf1-12a6393c4b8e~', 'app_version': 'dev', 'app_name': 'bedGraphToBigWig', 'workflow_language': 'CWL', 'schema_version': '5', 'cwl_main_filename': 'bedGraphToBigWig.cwl', 'workflow_diagram': '', 'category': 'format conversion', 'cwl_directory_url': 'https://raw.githubusercontent.com/4dn-dcic/docker-4dn-bedGraphToBigWig/v4/cwl/', 'display_title': 'Converting bedgraph to bigwig - 4DNWJV73GVL', 'lab': '/labs/4dn-dcic-lab/', 'submitted_by': '/users/986b362f-4eb6-4a9c-8173-3ab267307e3a/', 'uuid': '667b14a7-a47e-4857-adf1-12a6393c4b8e', '@id': '/workflows/667b14a7-a47e-4857-adf1-12a6393c4b8e/', 'cwl_child_filenames': [], 'description': 'Converting bedgraph to bigwig', '@type': ['Workflow', 'Item'], 'name': 'bedGraphToBigWig', 'award': '/awards/1U01CA200059-01/', 'data_types': ['Hi-C', 'Repli-seq'], 'last_modified': {'modified_by': '/users/986b362f-4eb6-4a9c-8173-3ab267307e3a/', 'date_modified': '2018-12-13T15:49:59.741329+00:00'}, 'steps': [{'meta': {'analysis_step_types': ['file format conversion'], 'software_used': ['/softwares/00eda937-3149-4252-8dc9-c27de59d75ed/']}, 'name': 'bedGraphToBigWig', 'outputs': [{'meta': {'global': True, 'file_format': 'd1311111-218e-4f61-aaf0-91f226248b2c', 'type': 'data file', 'cardinality': 'single'}, 'name': 'bwfile', 'target': [{'name': 'bwfile'}]}], 'inputs': [{'meta': {'global': True, 'file_format': '/file-formats/bg/', 'type': 'data file', 'cardinality': 'single'}, 'name': 'bgfile', 'source': [{'name': 'bgfile'}]}, {'meta': {'global': True, 'file_format': '/file-formats/chromsizes/', 'type': 'reference file', 'cardinality': 'single'}, 'name': 'chromsize', 'source': [{'name': 'chromsize'}]}]}], 'cwl_pointer': '', 'docker_image_name': '4dn-dcic/docker-4dn-bedgraphtobigwig', 'principals_allowed': {'view': ['award.b0b9c607-f8b4-4f02-93f4-9895b461334b', 'group.admin', 'group.read-only-admin', 'lab.828cd4fe-ebb0-4b36-a94a-d2e3a36cc989', 'remoteuser.EMBED', 'remoteuser.INDEXER'], 'audit': ['system.Everyone'], 'edit': ['group.admin', 'submits_for.828cd4fe-ebb0-4b36-a94a-d2e3a36cc989']}, 'date_created': '2018-10-31T04:34:47.651515+00:00', 'workflow_type': 'Other', 'external_references': [], 'title': 'Converting bedgraph to bigwig', 'docker_registry_url': 'https://hub.docker.com/'}], '@type': ['result']}\n"
     ]
    }
   ],
   "source": [
    "action = True\n",
    "addon = \"check_only=True\"\n",
    "if action:\n",
    "    addon = \"\"\n",
    "e = ff_utils.patch_metadata(data,obj_id=my_uuid, key=my_key,\n",
    "                             add_on = addon)\n",
    "print(e)"
   ]
  },
  {
   "cell_type": "code",
   "execution_count": 6,
   "metadata": {},
   "outputs": [
    {
     "name": "stdout",
     "output_type": "stream",
     "text": [
      "['result']\n"
     ]
    }
   ],
   "source": [
    "print(e['@type'])"
   ]
  },
  {
   "cell_type": "code",
   "execution_count": null,
   "metadata": {},
   "outputs": [],
   "source": []
  }
 ],
 "metadata": {
  "kernelspec": {
   "display_name": "Python 3",
   "language": "python",
   "name": "python3"
  },
  "language_info": {
   "codemirror_mode": {
    "name": "ipython",
    "version": 3
   },
   "file_extension": ".py",
   "mimetype": "text/x-python",
   "name": "python",
   "nbconvert_exporter": "python",
   "pygments_lexer": "ipython3",
   "version": "3.7.1"
  }
 },
 "nbformat": 4,
 "nbformat_minor": 2
}
