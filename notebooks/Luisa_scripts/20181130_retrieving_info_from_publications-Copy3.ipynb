{
 "cells": [
  {
   "cell_type": "code",
   "execution_count": 1,
   "metadata": {},
   "outputs": [],
   "source": [
    "import requests\n",
    "import GEOparse\n",
    "import xml.etree.ElementTree as ET\n",
    "import pandas \n",
    "from pandas import DataFrame as DF\n",
    "from dcicutils import ff_utils\n",
    "from functions.notebook_functions import *"
   ]
  },
  {
   "cell_type": "code",
   "execution_count": 2,
   "metadata": {},
   "outputs": [],
   "source": [
    "#Getting excel file\n",
    "readExcel = pandas.read_excel(r'/Users/luisa/Documents/4DN/Wrangling/Hi-C Datasets.xlsx')\n",
    "df = DF(readExcel, columns = ['order', 'title','link','submitter','score','grouping','famous','details'])\n"
   ]
  },
  {
   "cell_type": "code",
   "execution_count": 3,
   "metadata": {},
   "outputs": [],
   "source": [
    "All_GEO_list = df['link']\n",
    "scores_list = df['score']\n",
    "no_pubmed_list = []\n",
    "parseGEO_error_list = []\n",
    "organism_error_list = []\n",
    "pubmed_GEO_list = []\n",
    "pubmed_Score_list = []\n",
    "no_pubmed_Score_list = []\n",
    "geo_title_col = []\n",
    "geo_authors_col = []"
   ]
  },
  {
   "cell_type": "code",
   "execution_count": 4,
   "metadata": {},
   "outputs": [],
   "source": [
    "#New Table\n",
    "pubID_col = []\n",
    "Title_col = []\n",
    "Authors_col = []\n",
    "Human_col = []\n",
    "Mouse_col = []\n",
    "Keyword_col = []\n",
    "year_col = []\n",
    "status_col = []\n",
    "link_col = []"
   ]
  },
  {
   "cell_type": "code",
   "execution_count": 5,
   "metadata": {},
   "outputs": [
    {
     "name": "stderr",
     "output_type": "stream",
     "text": [
      "03-Dec-2018 16:12:34 DEBUG utils - Directory ./ already exists. Skipping.\n",
      "03-Dec-2018 16:12:34 INFO GEOparse - File already exist: using local version.\n",
      "03-Dec-2018 16:12:34 INFO GEOparse - Parsing ./GSE98119_family.soft.gz: \n",
      "03-Dec-2018 16:12:34 DEBUG GEOparse - DATABASE: GeoMiame\n",
      "03-Dec-2018 16:12:34 DEBUG GEOparse - SERIES: GSE98119\n",
      "03-Dec-2018 16:12:34 DEBUG GEOparse - PLATFORM: GPL13112\n",
      "03-Dec-2018 16:12:34 DEBUG GEOparse - PLATFORM: GPL17021\n",
      "03-Dec-2018 16:12:34 DEBUG GEOparse - PLATFORM: GPL18573\n",
      "03-Dec-2018 16:12:34 DEBUG GEOparse - PLATFORM: GPL19057\n",
      "03-Dec-2018 16:12:34 DEBUG GEOparse - PLATFORM: GPL21273\n",
      "03-Dec-2018 16:12:34 DEBUG GEOparse - PLATFORM: GPL21493\n",
      "03-Dec-2018 16:12:34 DEBUG GEOparse - SAMPLE: GSM2587372\n",
      "03-Dec-2018 16:12:34 DEBUG GEOparse - SAMPLE: GSM2587373\n",
      "03-Dec-2018 16:12:34 DEBUG GEOparse - SAMPLE: GSM2587375\n",
      "03-Dec-2018 16:12:34 DEBUG GEOparse - SAMPLE: GSM2587376\n",
      "03-Dec-2018 16:12:34 DEBUG GEOparse - SAMPLE: GSM2587378\n",
      "03-Dec-2018 16:12:34 DEBUG GEOparse - SAMPLE: GSM2587379\n",
      "03-Dec-2018 16:12:34 DEBUG GEOparse - SAMPLE: GSM2587380\n",
      "03-Dec-2018 16:12:34 DEBUG GEOparse - SAMPLE: GSM2587381\n",
      "03-Dec-2018 16:12:34 DEBUG GEOparse - SAMPLE: GSM2587383\n",
      "03-Dec-2018 16:12:34 DEBUG GEOparse - SAMPLE: GSM2587384\n",
      "03-Dec-2018 16:12:34 DEBUG GEOparse - SAMPLE: GSM2587385\n",
      "03-Dec-2018 16:12:34 DEBUG GEOparse - SAMPLE: GSM2587386\n",
      "03-Dec-2018 16:12:34 DEBUG GEOparse - SAMPLE: GSM2587387\n",
      "03-Dec-2018 16:12:34 DEBUG GEOparse - SAMPLE: GSM2587388\n",
      "03-Dec-2018 16:12:34 DEBUG GEOparse - SAMPLE: GSM2587389\n",
      "03-Dec-2018 16:12:34 DEBUG GEOparse - SAMPLE: GSM2587390\n",
      "03-Dec-2018 16:12:34 DEBUG GEOparse - SAMPLE: GSM2587391\n",
      "03-Dec-2018 16:12:34 DEBUG GEOparse - SAMPLE: GSM2587396\n",
      "03-Dec-2018 16:12:34 DEBUG GEOparse - SAMPLE: GSM2587397\n",
      "03-Dec-2018 16:12:34 DEBUG GEOparse - SAMPLE: GSM2587398\n",
      "03-Dec-2018 16:12:34 DEBUG GEOparse - SAMPLE: GSM2587399\n",
      "03-Dec-2018 16:12:34 DEBUG GEOparse - SAMPLE: GSM2587400\n",
      "03-Dec-2018 16:12:34 DEBUG GEOparse - SAMPLE: GSM2587401\n",
      "03-Dec-2018 16:12:34 DEBUG GEOparse - SAMPLE: GSM2587402\n"
     ]
    },
    {
     "name": "stdout",
     "output_type": "stream",
     "text": [
      "GSE98119\n",
      "Get the GEO information from GEO accession\n"
     ]
    },
    {
     "name": "stderr",
     "output_type": "stream",
     "text": [
      "03-Dec-2018 16:12:34 DEBUG GEOparse - SAMPLE: GSM2587403\n",
      "03-Dec-2018 16:12:34 DEBUG GEOparse - SAMPLE: GSM2587404\n",
      "03-Dec-2018 16:12:34 DEBUG GEOparse - SAMPLE: GSM2587405\n",
      "03-Dec-2018 16:12:34 DEBUG GEOparse - SAMPLE: GSM2587406\n",
      "03-Dec-2018 16:12:34 DEBUG GEOparse - SAMPLE: GSM2587407\n",
      "03-Dec-2018 16:12:34 DEBUG GEOparse - SAMPLE: GSM2587408\n",
      "03-Dec-2018 16:12:34 DEBUG GEOparse - SAMPLE: GSM2587409\n",
      "03-Dec-2018 16:12:34 DEBUG GEOparse - SAMPLE: GSM2587411\n",
      "03-Dec-2018 16:12:34 DEBUG GEOparse - SAMPLE: GSM2587412\n",
      "03-Dec-2018 16:12:34 DEBUG GEOparse - SAMPLE: GSM2587414\n",
      "03-Dec-2018 16:12:34 DEBUG GEOparse - SAMPLE: GSM2587419\n",
      "03-Dec-2018 16:12:34 DEBUG GEOparse - SAMPLE: GSM2587420\n",
      "03-Dec-2018 16:12:34 DEBUG GEOparse - SAMPLE: GSM2587421\n",
      "03-Dec-2018 16:12:34 DEBUG GEOparse - SAMPLE: GSM2587422\n",
      "03-Dec-2018 16:12:34 DEBUG GEOparse - SAMPLE: GSM2587423\n",
      "03-Dec-2018 16:12:34 DEBUG GEOparse - SAMPLE: GSM2587424\n",
      "03-Dec-2018 16:12:34 DEBUG GEOparse - SAMPLE: GSM2587425\n",
      "03-Dec-2018 16:12:34 DEBUG GEOparse - SAMPLE: GSM2587426\n",
      "03-Dec-2018 16:12:34 DEBUG GEOparse - SAMPLE: GSM2587427\n",
      "03-Dec-2018 16:12:34 DEBUG GEOparse - SAMPLE: GSM2587428\n",
      "03-Dec-2018 16:12:34 DEBUG GEOparse - SAMPLE: GSM2587429\n",
      "03-Dec-2018 16:12:34 DEBUG GEOparse - SAMPLE: GSM2587430\n",
      "03-Dec-2018 16:12:34 DEBUG GEOparse - SAMPLE: GSM2587431\n",
      "03-Dec-2018 16:12:34 DEBUG GEOparse - SAMPLE: GSM2587432\n",
      "03-Dec-2018 16:12:34 DEBUG GEOparse - SAMPLE: GSM2587476\n",
      "03-Dec-2018 16:12:34 DEBUG GEOparse - SAMPLE: GSM2587477\n",
      "03-Dec-2018 16:12:34 DEBUG GEOparse - SAMPLE: GSM2587478\n",
      "03-Dec-2018 16:12:34 DEBUG GEOparse - SAMPLE: GSM2587479\n",
      "03-Dec-2018 16:12:34 DEBUG GEOparse - SAMPLE: GSM2587480\n",
      "03-Dec-2018 16:12:34 DEBUG GEOparse - SAMPLE: GSM2587481\n",
      "03-Dec-2018 16:12:34 DEBUG GEOparse - SAMPLE: GSM2587482\n",
      "03-Dec-2018 16:12:34 DEBUG GEOparse - SAMPLE: GSM2587483\n",
      "03-Dec-2018 16:12:34 DEBUG GEOparse - SAMPLE: GSM2587484\n",
      "03-Dec-2018 16:12:34 DEBUG GEOparse - SAMPLE: GSM2587485\n",
      "03-Dec-2018 16:12:34 DEBUG GEOparse - SAMPLE: GSM2587486\n",
      "03-Dec-2018 16:12:34 DEBUG GEOparse - SAMPLE: GSM3027969\n",
      "03-Dec-2018 16:12:34 DEBUG GEOparse - SAMPLE: GSM3027970\n",
      "03-Dec-2018 16:12:34 DEBUG GEOparse - SAMPLE: GSM3027971\n",
      "03-Dec-2018 16:12:34 DEBUG GEOparse - SAMPLE: GSM3027972\n",
      "03-Dec-2018 16:12:34 DEBUG GEOparse - SAMPLE: GSM3027973\n",
      "03-Dec-2018 16:12:34 DEBUG GEOparse - SAMPLE: GSM3027974\n",
      "03-Dec-2018 16:12:34 DEBUG GEOparse - SAMPLE: GSM3027975\n",
      "03-Dec-2018 16:12:34 DEBUG GEOparse - SAMPLE: GSM3027976\n",
      "03-Dec-2018 16:12:34 DEBUG GEOparse - SAMPLE: GSM3027977\n",
      "03-Dec-2018 16:12:34 DEBUG GEOparse - SAMPLE: GSM3027978\n",
      "03-Dec-2018 16:12:34 DEBUG GEOparse - SAMPLE: GSM3027979\n",
      "03-Dec-2018 16:12:34 DEBUG GEOparse - SAMPLE: GSM3027980\n",
      "03-Dec-2018 16:12:34 DEBUG GEOparse - SAMPLE: GSM3027981\n",
      "03-Dec-2018 16:12:34 DEBUG GEOparse - SAMPLE: GSM3027982\n",
      "03-Dec-2018 16:12:34 DEBUG GEOparse - SAMPLE: GSM3027983\n",
      "03-Dec-2018 16:12:34 DEBUG GEOparse - SAMPLE: GSM3027984\n",
      "03-Dec-2018 16:12:34 DEBUG GEOparse - SAMPLE: GSM3027985\n",
      "03-Dec-2018 16:12:34 DEBUG GEOparse - SAMPLE: GSM3027986\n",
      "03-Dec-2018 16:12:34 DEBUG GEOparse - SAMPLE: GSM3027987\n",
      "03-Dec-2018 16:12:34 DEBUG GEOparse - SAMPLE: GSM3027988\n",
      "03-Dec-2018 16:12:34 DEBUG GEOparse - SAMPLE: GSM3027989\n",
      "03-Dec-2018 16:12:34 DEBUG GEOparse - SAMPLE: GSM3027990\n",
      "03-Dec-2018 16:12:34 DEBUG GEOparse - SAMPLE: GSM3027991\n",
      "03-Dec-2018 16:12:34 DEBUG GEOparse - SAMPLE: GSM3027992\n",
      "03-Dec-2018 16:12:34 DEBUG GEOparse - SAMPLE: GSM3027993\n",
      "03-Dec-2018 16:12:34 DEBUG GEOparse - SAMPLE: GSM3027994\n",
      "03-Dec-2018 16:12:34 DEBUG GEOparse - SAMPLE: GSM3027995\n",
      "03-Dec-2018 16:12:34 DEBUG GEOparse - SAMPLE: GSM3027996\n",
      "03-Dec-2018 16:12:34 DEBUG GEOparse - SAMPLE: GSM3027997\n",
      "03-Dec-2018 16:12:34 DEBUG GEOparse - SAMPLE: GSM3027998\n",
      "03-Dec-2018 16:12:35 DEBUG GEOparse - SAMPLE: GSM3027999\n",
      "03-Dec-2018 16:12:35 DEBUG GEOparse - SAMPLE: GSM3028000\n",
      "03-Dec-2018 16:12:35 DEBUG GEOparse - SAMPLE: GSM3028001\n",
      "03-Dec-2018 16:12:35 DEBUG GEOparse - SAMPLE: GSM3028002\n",
      "03-Dec-2018 16:12:35 DEBUG GEOparse - SAMPLE: GSM3028003\n",
      "03-Dec-2018 16:12:35 DEBUG GEOparse - SAMPLE: GSM3028004\n",
      "03-Dec-2018 16:12:35 DEBUG GEOparse - SAMPLE: GSM3028005\n",
      "03-Dec-2018 16:12:35 DEBUG GEOparse - SAMPLE: GSM3028006\n",
      "03-Dec-2018 16:12:35 DEBUG GEOparse - SAMPLE: GSM3028007\n",
      "03-Dec-2018 16:12:35 DEBUG GEOparse - SAMPLE: GSM3028008\n",
      "03-Dec-2018 16:12:35 DEBUG GEOparse - SAMPLE: GSM3028009\n",
      "03-Dec-2018 16:12:35 DEBUG GEOparse - SAMPLE: GSM3028010\n",
      "03-Dec-2018 16:12:35 DEBUG GEOparse - SAMPLE: GSM3028011\n",
      "03-Dec-2018 16:12:35 DEBUG GEOparse - SAMPLE: GSM3028012\n",
      "03-Dec-2018 16:12:35 DEBUG GEOparse - SAMPLE: GSM3028013\n",
      "03-Dec-2018 16:12:35 DEBUG GEOparse - SAMPLE: GSM3028014\n",
      "03-Dec-2018 16:12:35 DEBUG GEOparse - SAMPLE: GSM3028015\n",
      "03-Dec-2018 16:12:35 DEBUG GEOparse - SAMPLE: GSM3028016\n",
      "03-Dec-2018 16:12:35 DEBUG GEOparse - SAMPLE: GSM3028017\n",
      "03-Dec-2018 16:12:35 DEBUG GEOparse - SAMPLE: GSM3028018\n",
      "03-Dec-2018 16:12:35 DEBUG GEOparse - SAMPLE: GSM3138960\n",
      "03-Dec-2018 16:12:35 DEBUG GEOparse - SAMPLE: GSM3138961\n",
      "03-Dec-2018 16:12:35 DEBUG GEOparse - SAMPLE: GSM3138962\n",
      "03-Dec-2018 16:12:35 DEBUG GEOparse - SAMPLE: GSM3138963\n",
      "03-Dec-2018 16:12:35 DEBUG GEOparse - SAMPLE: GSM3138964\n",
      "03-Dec-2018 16:12:35 DEBUG GEOparse - SAMPLE: GSM3138965\n",
      "03-Dec-2018 16:12:35 DEBUG GEOparse - SAMPLE: GSM3138966\n",
      "03-Dec-2018 16:12:35 DEBUG GEOparse - SAMPLE: GSM3138967\n",
      "03-Dec-2018 16:12:35 DEBUG GEOparse - SAMPLE: GSM3138968\n",
      "03-Dec-2018 16:12:35 DEBUG GEOparse - SAMPLE: GSM3138969\n",
      "03-Dec-2018 16:12:35 DEBUG GEOparse - SAMPLE: GSM3138970\n",
      "03-Dec-2018 16:12:35 DEBUG GEOparse - SAMPLE: GSM3138971\n",
      "03-Dec-2018 16:12:35 DEBUG GEOparse - SAMPLE: GSM3138972\n",
      "03-Dec-2018 16:12:35 DEBUG GEOparse - SAMPLE: GSM3138973\n",
      "03-Dec-2018 16:12:35 DEBUG GEOparse - SAMPLE: GSM3138974\n",
      "03-Dec-2018 16:12:35 DEBUG GEOparse - SAMPLE: GSM3138975\n",
      "03-Dec-2018 16:12:35 DEBUG GEOparse - SAMPLE: GSM3138976\n",
      "03-Dec-2018 16:12:35 DEBUG GEOparse - SAMPLE: GSM3138977\n",
      "03-Dec-2018 16:12:35 DEBUG GEOparse - SAMPLE: GSM3138978\n",
      "03-Dec-2018 16:12:35 DEBUG GEOparse - SAMPLE: GSM3138979\n",
      "03-Dec-2018 16:12:35 DEBUG GEOparse - SAMPLE: GSM3138980\n",
      "03-Dec-2018 16:12:35 DEBUG GEOparse - SAMPLE: GSM3138981\n",
      "03-Dec-2018 16:12:35 DEBUG GEOparse - SAMPLE: GSM3138982\n",
      "03-Dec-2018 16:12:35 DEBUG GEOparse - SAMPLE: GSM3138983\n",
      "03-Dec-2018 16:12:35 DEBUG GEOparse - SAMPLE: GSM3138984\n",
      "03-Dec-2018 16:12:35 DEBUG GEOparse - SAMPLE: GSM3138985\n",
      "03-Dec-2018 16:12:35 DEBUG GEOparse - SAMPLE: GSM3138986\n",
      "03-Dec-2018 16:12:35 DEBUG GEOparse - SAMPLE: GSM3138987\n",
      "03-Dec-2018 16:12:35 DEBUG GEOparse - SAMPLE: GSM3138988\n",
      "03-Dec-2018 16:12:35 DEBUG GEOparse - SAMPLE: GSM3138989\n",
      "03-Dec-2018 16:12:35 DEBUG GEOparse - SAMPLE: GSM3138990\n",
      "03-Dec-2018 16:12:35 DEBUG GEOparse - SAMPLE: GSM3138991\n",
      "03-Dec-2018 16:12:35 DEBUG GEOparse - SAMPLE: GSM3138992\n",
      "03-Dec-2018 16:12:35 DEBUG GEOparse - SAMPLE: GSM3138993\n",
      "03-Dec-2018 16:12:35 DEBUG GEOparse - SAMPLE: GSM3138994\n",
      "03-Dec-2018 16:12:35 DEBUG GEOparse - SAMPLE: GSM3138995\n",
      "03-Dec-2018 16:12:35 DEBUG GEOparse - SAMPLE: GSM3138996\n",
      "03-Dec-2018 16:12:35 DEBUG GEOparse - SAMPLE: GSM3138997\n",
      "03-Dec-2018 16:12:35 DEBUG GEOparse - SAMPLE: GSM3138998\n",
      "03-Dec-2018 16:12:35 DEBUG GEOparse - SAMPLE: GSM3138999\n",
      "03-Dec-2018 16:12:35 DEBUG GEOparse - SAMPLE: GSM3139000\n",
      "03-Dec-2018 16:12:35 DEBUG GEOparse - SAMPLE: GSM3139001\n",
      "03-Dec-2018 16:12:35 DEBUG GEOparse - SAMPLE: GSM3139002\n",
      "03-Dec-2018 16:12:35 DEBUG GEOparse - SAMPLE: GSM3139003\n",
      "03-Dec-2018 16:12:35 DEBUG GEOparse - SAMPLE: GSM3139004\n",
      "03-Dec-2018 16:12:35 DEBUG GEOparse - SAMPLE: GSM3139005\n",
      "03-Dec-2018 16:12:35 DEBUG GEOparse - SAMPLE: GSM3139006\n",
      "03-Dec-2018 16:12:35 DEBUG GEOparse - SAMPLE: GSM3139007\n",
      "03-Dec-2018 16:12:35 DEBUG GEOparse - SAMPLE: GSM3139008\n",
      "03-Dec-2018 16:12:35 DEBUG GEOparse - SAMPLE: GSM3139009\n",
      "03-Dec-2018 16:12:35 DEBUG GEOparse - SAMPLE: GSM3139010\n",
      "03-Dec-2018 16:12:35 DEBUG GEOparse - SAMPLE: GSM3139011\n",
      "03-Dec-2018 16:12:35 DEBUG GEOparse - SAMPLE: GSM3139012\n",
      "03-Dec-2018 16:12:35 DEBUG GEOparse - SAMPLE: GSM3139013\n",
      "03-Dec-2018 16:12:35 DEBUG GEOparse - SAMPLE: GSM3139014\n",
      "03-Dec-2018 16:12:35 DEBUG GEOparse - SAMPLE: GSM3139015\n",
      "03-Dec-2018 16:12:35 DEBUG GEOparse - SAMPLE: GSM3139016\n",
      "03-Dec-2018 16:12:35 DEBUG GEOparse - SAMPLE: GSM3139017\n",
      "03-Dec-2018 16:12:35 DEBUG GEOparse - SAMPLE: GSM3139018\n"
     ]
    },
    {
     "name": "stderr",
     "output_type": "stream",
     "text": [
      "03-Dec-2018 16:12:35 DEBUG GEOparse - SAMPLE: GSM3139019\n",
      "03-Dec-2018 16:12:35 DEBUG GEOparse - SAMPLE: GSM3139020\n",
      "03-Dec-2018 16:12:35 DEBUG GEOparse - SAMPLE: GSM3139021\n",
      "03-Dec-2018 16:12:35 DEBUG GEOparse - SAMPLE: GSM3139022\n",
      "03-Dec-2018 16:12:35 DEBUG GEOparse - SAMPLE: GSM3139023\n",
      "03-Dec-2018 16:12:35 DEBUG GEOparse - SAMPLE: GSM3139024\n",
      "03-Dec-2018 16:12:35 DEBUG GEOparse - SAMPLE: GSM3139025\n",
      "03-Dec-2018 16:12:35 DEBUG GEOparse - SAMPLE: GSM3139026\n",
      "03-Dec-2018 16:12:35 DEBUG GEOparse - SAMPLE: GSM3139027\n",
      "03-Dec-2018 16:12:35 DEBUG GEOparse - SAMPLE: GSM3139028\n",
      "03-Dec-2018 16:12:35 DEBUG GEOparse - SAMPLE: GSM3139029\n",
      "03-Dec-2018 16:12:35 DEBUG GEOparse - SAMPLE: GSM3139030\n",
      "03-Dec-2018 16:12:35 DEBUG GEOparse - SAMPLE: GSM3139031\n",
      "03-Dec-2018 16:12:35 DEBUG GEOparse - SAMPLE: GSM3139032\n",
      "03-Dec-2018 16:12:35 DEBUG GEOparse - SAMPLE: GSM3139033\n",
      "03-Dec-2018 16:12:35 DEBUG GEOparse - SAMPLE: GSM3139034\n",
      "03-Dec-2018 16:12:35 DEBUG GEOparse - SAMPLE: GSM3139035\n",
      "03-Dec-2018 16:12:35 DEBUG GEOparse - SAMPLE: GSM3139036\n",
      "03-Dec-2018 16:12:35 DEBUG GEOparse - SAMPLE: GSM3139037\n",
      "03-Dec-2018 16:12:35 DEBUG GEOparse - SAMPLE: GSM3139038\n",
      "03-Dec-2018 16:12:35 DEBUG GEOparse - SAMPLE: GSM3139039\n",
      "03-Dec-2018 16:12:35 DEBUG GEOparse - SAMPLE: GSM3139040\n",
      "03-Dec-2018 16:12:35 DEBUG GEOparse - SAMPLE: GSM3139041\n",
      "03-Dec-2018 16:12:35 DEBUG GEOparse - SAMPLE: GSM3139042\n",
      "03-Dec-2018 16:12:35 DEBUG GEOparse - SAMPLE: GSM3139043\n",
      "03-Dec-2018 16:12:35 DEBUG GEOparse - SAMPLE: GSM3139044\n",
      "03-Dec-2018 16:12:35 DEBUG GEOparse - SAMPLE: GSM3139045\n",
      "03-Dec-2018 16:12:35 DEBUG GEOparse - SAMPLE: GSM3139046\n",
      "03-Dec-2018 16:12:35 DEBUG GEOparse - SAMPLE: GSM3139047\n",
      "03-Dec-2018 16:12:35 DEBUG GEOparse - SAMPLE: GSM3139048\n",
      "03-Dec-2018 16:12:35 DEBUG GEOparse - SAMPLE: GSM3139049\n",
      "03-Dec-2018 16:12:35 DEBUG GEOparse - SAMPLE: GSM3139050\n",
      "03-Dec-2018 16:12:35 DEBUG GEOparse - SAMPLE: GSM3139051\n",
      "03-Dec-2018 16:12:35 DEBUG GEOparse - SAMPLE: GSM3139052\n",
      "03-Dec-2018 16:12:35 DEBUG GEOparse - SAMPLE: GSM3139053\n",
      "03-Dec-2018 16:12:35 DEBUG GEOparse - SAMPLE: GSM3139054\n",
      "03-Dec-2018 16:12:35 DEBUG GEOparse - SAMPLE: GSM3139055\n",
      "03-Dec-2018 16:12:35 DEBUG GEOparse - SAMPLE: GSM3139056\n",
      "03-Dec-2018 16:12:35 DEBUG GEOparse - SAMPLE: GSM3139057\n",
      "03-Dec-2018 16:12:35 DEBUG GEOparse - SAMPLE: GSM3139058\n",
      "03-Dec-2018 16:12:35 DEBUG GEOparse - SAMPLE: GSM3139059\n",
      "03-Dec-2018 16:12:35 DEBUG GEOparse - SAMPLE: GSM3139060\n",
      "03-Dec-2018 16:12:35 DEBUG GEOparse - SAMPLE: GSM3139061\n",
      "03-Dec-2018 16:12:35 DEBUG GEOparse - SAMPLE: GSM3139062\n",
      "03-Dec-2018 16:12:35 DEBUG GEOparse - SAMPLE: GSM3139063\n",
      "03-Dec-2018 16:12:35 DEBUG GEOparse - SAMPLE: GSM3139064\n",
      "03-Dec-2018 16:12:35 DEBUG GEOparse - SAMPLE: GSM3139065\n",
      "03-Dec-2018 16:12:35 DEBUG GEOparse - SAMPLE: GSM3139066\n",
      "03-Dec-2018 16:12:35 DEBUG GEOparse - SAMPLE: GSM3139067\n",
      "03-Dec-2018 16:12:35 DEBUG GEOparse - SAMPLE: GSM3139068\n",
      "03-Dec-2018 16:12:35 DEBUG GEOparse - SAMPLE: GSM3139069\n",
      "03-Dec-2018 16:12:35 DEBUG GEOparse - SAMPLE: GSM3139070\n",
      "03-Dec-2018 16:12:35 DEBUG GEOparse - SAMPLE: GSM3139071\n",
      "03-Dec-2018 16:12:35 DEBUG GEOparse - SAMPLE: GSM3139072\n",
      "03-Dec-2018 16:12:35 DEBUG GEOparse - SAMPLE: GSM3139073\n",
      "03-Dec-2018 16:12:35 DEBUG GEOparse - SAMPLE: GSM3139074\n",
      "03-Dec-2018 16:12:35 DEBUG GEOparse - SAMPLE: GSM3139075\n",
      "03-Dec-2018 16:12:35 DEBUG GEOparse - SAMPLE: GSM3139076\n",
      "03-Dec-2018 16:12:35 DEBUG GEOparse - SAMPLE: GSM3139077\n",
      "03-Dec-2018 16:12:35 DEBUG GEOparse - SAMPLE: GSM3139078\n",
      "03-Dec-2018 16:12:36 DEBUG GEOparse - SAMPLE: GSM3139079\n",
      "03-Dec-2018 16:12:36 DEBUG GEOparse - SAMPLE: GSM3139080\n",
      "03-Dec-2018 16:12:36 DEBUG GEOparse - SAMPLE: GSM3139081\n",
      "03-Dec-2018 16:12:36 DEBUG GEOparse - SAMPLE: GSM3139082\n",
      "03-Dec-2018 16:12:36 DEBUG GEOparse - SAMPLE: GSM3139083\n",
      "03-Dec-2018 16:12:36 DEBUG GEOparse - SAMPLE: GSM3139084\n",
      "03-Dec-2018 16:12:36 DEBUG GEOparse - SAMPLE: GSM3139085\n",
      "03-Dec-2018 16:12:36 DEBUG GEOparse - SAMPLE: GSM3139086\n",
      "03-Dec-2018 16:12:36 DEBUG GEOparse - SAMPLE: GSM3139087\n",
      "03-Dec-2018 16:12:36 DEBUG GEOparse - SAMPLE: GSM3139088\n",
      "03-Dec-2018 16:12:36 DEBUG GEOparse - SAMPLE: GSM3139089\n",
      "03-Dec-2018 16:12:36 DEBUG GEOparse - SAMPLE: GSM3139090\n",
      "03-Dec-2018 16:12:36 DEBUG GEOparse - SAMPLE: GSM3139091\n",
      "03-Dec-2018 16:12:36 DEBUG GEOparse - SAMPLE: GSM3139092\n",
      "03-Dec-2018 16:12:36 DEBUG GEOparse - SAMPLE: GSM3139093\n",
      "03-Dec-2018 16:12:36 DEBUG GEOparse - SAMPLE: GSM3139094\n",
      "03-Dec-2018 16:12:36 DEBUG GEOparse - SAMPLE: GSM3139095\n",
      "03-Dec-2018 16:12:36 DEBUG GEOparse - SAMPLE: GSM3139096\n",
      "03-Dec-2018 16:12:36 DEBUG GEOparse - SAMPLE: GSM3139097\n",
      "03-Dec-2018 16:12:36 DEBUG GEOparse - SAMPLE: GSM3139098\n",
      "03-Dec-2018 16:12:36 DEBUG GEOparse - SAMPLE: GSM3139099\n",
      "03-Dec-2018 16:12:36 DEBUG GEOparse - SAMPLE: GSM3139100\n",
      "03-Dec-2018 16:12:36 DEBUG GEOparse - SAMPLE: GSM3139101\n",
      "03-Dec-2018 16:12:36 DEBUG GEOparse - SAMPLE: GSM3139102\n",
      "03-Dec-2018 16:12:36 DEBUG GEOparse - SAMPLE: GSM3139103\n",
      "03-Dec-2018 16:12:36 DEBUG GEOparse - SAMPLE: GSM3139104\n",
      "03-Dec-2018 16:12:36 DEBUG GEOparse - SAMPLE: GSM3139105\n",
      "03-Dec-2018 16:12:36 DEBUG GEOparse - SAMPLE: GSM3139106\n",
      "03-Dec-2018 16:12:36 DEBUG GEOparse - SAMPLE: GSM3139107\n",
      "03-Dec-2018 16:12:36 DEBUG GEOparse - SAMPLE: GSM3139108\n",
      "03-Dec-2018 16:12:36 DEBUG GEOparse - SAMPLE: GSM3139109\n",
      "03-Dec-2018 16:12:36 DEBUG GEOparse - SAMPLE: GSM3139110\n",
      "03-Dec-2018 16:12:36 DEBUG GEOparse - SAMPLE: GSM3139111\n",
      "03-Dec-2018 16:12:36 DEBUG GEOparse - SAMPLE: GSM3139112\n",
      "03-Dec-2018 16:12:36 DEBUG GEOparse - SAMPLE: GSM3139113\n",
      "03-Dec-2018 16:12:36 DEBUG GEOparse - SAMPLE: GSM3139114\n",
      "03-Dec-2018 16:12:36 DEBUG GEOparse - SAMPLE: GSM3139115\n",
      "03-Dec-2018 16:12:36 DEBUG GEOparse - SAMPLE: GSM3139116\n",
      "03-Dec-2018 16:12:36 DEBUG GEOparse - SAMPLE: GSM3139117\n",
      "03-Dec-2018 16:12:36 DEBUG GEOparse - SAMPLE: GSM3139118\n",
      "03-Dec-2018 16:12:36 DEBUG GEOparse - SAMPLE: GSM3139119\n",
      "03-Dec-2018 16:12:36 DEBUG GEOparse - SAMPLE: GSM3139120\n",
      "03-Dec-2018 16:12:36 DEBUG GEOparse - SAMPLE: GSM3139121\n",
      "03-Dec-2018 16:12:36 DEBUG GEOparse - SAMPLE: GSM3139122\n",
      "03-Dec-2018 16:12:36 DEBUG GEOparse - SAMPLE: GSM3139123\n",
      "03-Dec-2018 16:12:36 DEBUG GEOparse - SAMPLE: GSM3139124\n",
      "03-Dec-2018 16:12:36 DEBUG GEOparse - SAMPLE: GSM3139125\n",
      "03-Dec-2018 16:12:36 DEBUG GEOparse - SAMPLE: GSM3139126\n",
      "03-Dec-2018 16:12:36 DEBUG GEOparse - SAMPLE: GSM3139127\n",
      "03-Dec-2018 16:12:36 DEBUG GEOparse - SAMPLE: GSM3139128\n",
      "03-Dec-2018 16:12:36 DEBUG GEOparse - SAMPLE: GSM3139129\n",
      "03-Dec-2018 16:12:36 DEBUG GEOparse - SAMPLE: GSM3139130\n",
      "03-Dec-2018 16:12:36 DEBUG GEOparse - SAMPLE: GSM3139131\n",
      "03-Dec-2018 16:12:36 DEBUG GEOparse - SAMPLE: GSM3139132\n",
      "03-Dec-2018 16:12:36 DEBUG GEOparse - SAMPLE: GSM3139133\n",
      "03-Dec-2018 16:12:36 DEBUG GEOparse - SAMPLE: GSM3139134\n",
      "03-Dec-2018 16:12:36 DEBUG GEOparse - SAMPLE: GSM3139135\n",
      "03-Dec-2018 16:12:36 DEBUG GEOparse - SAMPLE: GSM3139136\n",
      "03-Dec-2018 16:12:36 DEBUG GEOparse - SAMPLE: GSM3139137\n",
      "03-Dec-2018 16:12:36 DEBUG GEOparse - SAMPLE: GSM3139138\n",
      "03-Dec-2018 16:12:36 DEBUG GEOparse - SAMPLE: GSM3139139\n",
      "03-Dec-2018 16:12:36 DEBUG GEOparse - SAMPLE: GSM3139140\n",
      "03-Dec-2018 16:12:36 DEBUG GEOparse - SAMPLE: GSM3139141\n",
      "03-Dec-2018 16:12:36 DEBUG GEOparse - SAMPLE: GSM3139142\n",
      "03-Dec-2018 16:12:36 DEBUG GEOparse - SAMPLE: GSM3139143\n",
      "03-Dec-2018 16:12:36 DEBUG GEOparse - SAMPLE: GSM3139144\n",
      "03-Dec-2018 16:12:36 DEBUG GEOparse - SAMPLE: GSM3139145\n",
      "03-Dec-2018 16:12:36 DEBUG GEOparse - SAMPLE: GSM3139146\n",
      "03-Dec-2018 16:12:36 DEBUG GEOparse - SAMPLE: GSM3139147\n",
      "03-Dec-2018 16:12:36 DEBUG GEOparse - SAMPLE: GSM3139148\n",
      "03-Dec-2018 16:12:36 DEBUG GEOparse - SAMPLE: GSM3139149\n",
      "03-Dec-2018 16:12:36 DEBUG GEOparse - SAMPLE: GSM3139150\n",
      "03-Dec-2018 16:12:36 DEBUG GEOparse - SAMPLE: GSM3139151\n",
      "03-Dec-2018 16:12:36 DEBUG GEOparse - SAMPLE: GSM3139152\n",
      "03-Dec-2018 16:12:36 DEBUG GEOparse - SAMPLE: GSM3139153\n",
      "03-Dec-2018 16:12:36 DEBUG GEOparse - SAMPLE: GSM3139154\n",
      "03-Dec-2018 16:12:36 DEBUG GEOparse - SAMPLE: GSM3139155\n",
      "03-Dec-2018 16:12:36 DEBUG GEOparse - SAMPLE: GSM3139156\n",
      "03-Dec-2018 16:12:36 DEBUG GEOparse - SAMPLE: GSM3139157\n",
      "03-Dec-2018 16:12:36 DEBUG GEOparse - SAMPLE: GSM3139158\n",
      "03-Dec-2018 16:12:36 DEBUG GEOparse - SAMPLE: GSM3139159\n",
      "03-Dec-2018 16:12:36 DEBUG GEOparse - SAMPLE: GSM3139160\n",
      "03-Dec-2018 16:12:36 DEBUG GEOparse - SAMPLE: GSM3139161\n",
      "03-Dec-2018 16:12:36 DEBUG GEOparse - SAMPLE: GSM3139162\n"
     ]
    },
    {
     "name": "stderr",
     "output_type": "stream",
     "text": [
      "03-Dec-2018 16:12:36 DEBUG GEOparse - SAMPLE: GSM3139163\n",
      "03-Dec-2018 16:12:36 DEBUG GEOparse - SAMPLE: GSM3139164\n",
      "03-Dec-2018 16:12:36 DEBUG GEOparse - SAMPLE: GSM3139165\n",
      "03-Dec-2018 16:12:36 DEBUG GEOparse - SAMPLE: GSM3139166\n",
      "03-Dec-2018 16:12:36 DEBUG GEOparse - SAMPLE: GSM3139167\n",
      "03-Dec-2018 16:12:36 DEBUG GEOparse - SAMPLE: GSM3139168\n",
      "03-Dec-2018 16:12:36 DEBUG GEOparse - SAMPLE: GSM3139169\n",
      "03-Dec-2018 16:12:36 DEBUG GEOparse - SAMPLE: GSM3139170\n",
      "03-Dec-2018 16:12:36 DEBUG GEOparse - SAMPLE: GSM3139171\n",
      "03-Dec-2018 16:12:36 DEBUG GEOparse - SAMPLE: GSM3139172\n",
      "03-Dec-2018 16:12:36 DEBUG GEOparse - SAMPLE: GSM3146469\n",
      "03-Dec-2018 16:12:36 DEBUG GEOparse - SAMPLE: GSM3146470\n",
      "03-Dec-2018 16:12:36 DEBUG GEOparse - SAMPLE: GSM3146471\n",
      "03-Dec-2018 16:12:36 DEBUG GEOparse - SAMPLE: GSM3146472\n",
      "03-Dec-2018 16:12:36 DEBUG GEOparse - SAMPLE: GSM3146473\n",
      "03-Dec-2018 16:12:36 DEBUG GEOparse - SAMPLE: GSM3146474\n",
      "03-Dec-2018 16:12:36 DEBUG GEOparse - SAMPLE: GSM3146475\n",
      "03-Dec-2018 16:12:36 DEBUG GEOparse - SAMPLE: GSM3146476\n",
      "03-Dec-2018 16:12:36 DEBUG GEOparse - SAMPLE: GSM3146477\n",
      "03-Dec-2018 16:12:36 DEBUG GEOparse - SAMPLE: GSM3146478\n",
      "03-Dec-2018 16:12:36 DEBUG GEOparse - SAMPLE: GSM3146479\n",
      "03-Dec-2018 16:12:36 DEBUG GEOparse - SAMPLE: GSM3146480\n",
      "03-Dec-2018 16:12:36 DEBUG GEOparse - SAMPLE: GSM3146481\n",
      "03-Dec-2018 16:12:36 DEBUG GEOparse - SAMPLE: GSM3146482\n",
      "03-Dec-2018 16:12:36 DEBUG GEOparse - SAMPLE: GSM3146483\n",
      "03-Dec-2018 16:12:36 DEBUG GEOparse - SAMPLE: GSM3146484\n",
      "03-Dec-2018 16:12:36 DEBUG GEOparse - SAMPLE: GSM3146485\n",
      "03-Dec-2018 16:12:36 DEBUG GEOparse - SAMPLE: GSM3146486\n",
      "03-Dec-2018 16:12:36 DEBUG GEOparse - SAMPLE: GSM3146487\n",
      "03-Dec-2018 16:12:36 DEBUG GEOparse - SAMPLE: GSM3146488\n",
      "03-Dec-2018 16:12:36 DEBUG GEOparse - SAMPLE: GSM3146489\n",
      "03-Dec-2018 16:12:36 DEBUG GEOparse - SAMPLE: GSM3146490\n",
      "03-Dec-2018 16:12:36 DEBUG GEOparse - SAMPLE: GSM3146491\n",
      "03-Dec-2018 16:12:36 DEBUG GEOparse - SAMPLE: GSM3146492\n",
      "03-Dec-2018 16:12:36 DEBUG GEOparse - SAMPLE: GSM3146493\n",
      "03-Dec-2018 16:12:36 DEBUG GEOparse - SAMPLE: GSM3146494\n",
      "03-Dec-2018 16:12:36 DEBUG GEOparse - SAMPLE: GSM3146495\n",
      "03-Dec-2018 16:12:36 DEBUG GEOparse - SAMPLE: GSM3146496\n",
      "03-Dec-2018 16:12:36 DEBUG GEOparse - SAMPLE: GSM3146497\n",
      "03-Dec-2018 16:12:36 DEBUG GEOparse - SAMPLE: GSM3146498\n"
     ]
    },
    {
     "ename": "TypeError",
     "evalue": "parse() got an unexpected keyword argument 'encoding'",
     "output_type": "error",
     "traceback": [
      "\u001b[0;31m---------------------------------------------------------------------------\u001b[0m",
      "\u001b[0;31mTypeError\u001b[0m                                 Traceback (most recent call last)",
      "\u001b[0;32m<ipython-input-5-f257c106ff44>\u001b[0m in \u001b[0;36m<module>\u001b[0;34m\u001b[0m\n\u001b[1;32m     52\u001b[0m     \u001b[0;32mwith\u001b[0m \u001b[0mopen\u001b[0m\u001b[0;34m(\u001b[0m\u001b[0;34m'file2.xml'\u001b[0m\u001b[0;34m,\u001b[0m \u001b[0;34m'wb'\u001b[0m\u001b[0;34m)\u001b[0m \u001b[0;32mas\u001b[0m \u001b[0mf\u001b[0m\u001b[0;34m:\u001b[0m\u001b[0;34m\u001b[0m\u001b[0;34m\u001b[0m\u001b[0m\n\u001b[1;32m     53\u001b[0m         \u001b[0mf\u001b[0m\u001b[0;34m.\u001b[0m\u001b[0mwrite\u001b[0m\u001b[0;34m(\u001b[0m\u001b[0mresponse\u001b[0m\u001b[0;34m.\u001b[0m\u001b[0mcontent\u001b[0m\u001b[0;34m)\u001b[0m\u001b[0;34m\u001b[0m\u001b[0;34m\u001b[0m\u001b[0m\n\u001b[0;32m---> 54\u001b[0;31m     \u001b[0mtree\u001b[0m \u001b[0;34m=\u001b[0m \u001b[0mET\u001b[0m\u001b[0;34m.\u001b[0m\u001b[0mparse\u001b[0m\u001b[0;34m(\u001b[0m\u001b[0;34m'file2.xml'\u001b[0m\u001b[0;34m,\u001b[0m\u001b[0mencoding\u001b[0m\u001b[0;34m=\u001b[0m\u001b[0;34m'utf-8'\u001b[0m\u001b[0;34m)\u001b[0m\u001b[0;34m\u001b[0m\u001b[0;34m\u001b[0m\u001b[0m\n\u001b[0m\u001b[1;32m     55\u001b[0m \u001b[0;34m\u001b[0m\u001b[0m\n\u001b[1;32m     56\u001b[0m     \u001b[0;31m#The Data is stored in the child of the root\u001b[0m\u001b[0;34m\u001b[0m\u001b[0;34m\u001b[0m\u001b[0;34m\u001b[0m\u001b[0m\n",
      "\u001b[0;31mTypeError\u001b[0m: parse() got an unexpected keyword argument 'encoding'"
     ]
    }
   ],
   "source": [
    "x = -1\n",
    "for GEOacc in All_GEO_list:\n",
    "    x = x + 1\n",
    "    print(GEOacc)\n",
    "    #Get the GEO information from GEO accession\n",
    "    print(\"Get the GEO information from GEO accession\")\n",
    "    try:\n",
    "        gse = GEOparse.get_GEO(GEOacc)\n",
    "    except:\n",
    "        parseGEO_list.append(GEOacc)\n",
    "        pubID_col.append('N/A')\n",
    "        Title_col.append('N/A')\n",
    "        Authors_col.append('N/A')\n",
    "        Keyword_col.append('N/A')\n",
    "        year_col.append('N/A')\n",
    "        Mouse_col.append('N/A')\n",
    "        Human_col.append('N/A')\n",
    "        continue\n",
    "    #Get metadata\n",
    "    metadata = gse.metadata\n",
    "    #metadata.keys()\n",
    "    #Get Data of interest\n",
    "    try:\n",
    "        pubID_i = gse.metadata['pubmed_id']\n",
    "    except:\n",
    "        try:\n",
    "            geo_title = gse.metadata['title']\n",
    "        except:\n",
    "            geo_title = 'N/A'\n",
    "        try:\n",
    "            geo_authors = gse.metadata['contributor']\n",
    "        except:\n",
    "            geo_authors = 'N/A'\n",
    "            \n",
    "        no_pubmed_Score_list.append(scores_list[x])\n",
    "        no_pubmed_list.append(GEOacc)\n",
    "        geo_title_col.append(geo_title)\n",
    "        geo_authors_col.append(geo_authors)\n",
    "        \n",
    "        continue\n",
    "    pubID = str(pubID_i[0])\n",
    "    pubID_col.append(pubID)\n",
    "    \n",
    "    #Getting infor from pubmed using the pubmed ID\n",
    "    \n",
    "    \n",
    "    #Getting xml format\n",
    "    pubmed_URL_xml = \"https://eutils.ncbi.nlm.nih.gov/entrez/eutils/efetch.fcgi?db=pubmed&id=\" + pubID +\"&retmode=xml\"\n",
    "    #print(pubmed_URL_xml)\n",
    "    response = requests.get(pubmed_URL_xml)\n",
    "#    tree = ET.fromstring(response.content,encoding='utf-8')\n",
    "    with open('file2.xml', 'wb') as f:\n",
    "        f.write(response.content)\n",
    "    tree = ET.parse('file2.xml',encoding='utf-8')\n",
    "    \n",
    "    #The Data is stored in the child of the root\n",
    "    # child = tree.getchildren()\n",
    "    # print(child)\n",
    "    root = tree.getroot()\n",
    "    for i in root:\n",
    "        child = i\n",
    "    \n",
    "    #The data is stored in the child of the root\n",
    "    #The info of interest is in the medlineCitation level\n",
    "    medlineCitation = 'MedlineCitation'\n",
    "    \n",
    "    #This are the elements of interest in this datalevel:\n",
    "    Article = 'Article'\n",
    "    KeywordList = 'KeywordList' #each element only has a single item. no index needed with for loop\n",
    "    \n",
    "    #Elements of Interest in Article level:\n",
    "    AuthorList = 'AuthorList'  # there are several, each item has last name index = 0, first name = 1, and abbrev = 2\n",
    "    ArticleTitle = 'ArticleTitle' # there is only one object so index = 0\n",
    "    ArticleDate = 'ArticleDate' # there are several, each item has a Year index = 0, Month index = 0, and day index = 3\n",
    "    \n",
    "    Author_List = []\n",
    "    keyword_list = []\n",
    "    \n",
    "    for i in child:\n",
    "        if medlineCitation in str(i):\n",
    "            for item in i:\n",
    "                if Article in str(item):\n",
    "                    for ele in item:\n",
    "                        if ArticleTitle in str(ele):\n",
    "                            Article_Title = ele.text\n",
    "                            Title_col.append(Article_Title)\n",
    "                        \n",
    "                        if ArticleDate in str(ele):\n",
    "                            Article_Year = ele[0].text\n",
    "                            year_col.append(Article_Year)\n",
    "                        else:\n",
    "                            Article_Year = ''\n",
    "                            year_col.append(Article_Year)\n",
    "                            \n",
    "                        if AuthorList in str(ele):\n",
    "                            for author in ele:\n",
    "                                if len(author) >= 2:\n",
    "                                    Lname = author[0].text\n",
    "                                    Iname = author[1].text\n",
    "                                    complName = Lname + ', ' + Iname\n",
    "                                else:\n",
    "                                    Lname = author[0].text\n",
    "                                    complName = Lname\n",
    "                                Author_List.append(complName)\n",
    "                        \n",
    "                if KeywordList in str(item):\n",
    "                    for ele in item:\n",
    "                        keyword = ele.text\n",
    "                        keyword_list.append(keyword)\n",
    "    \n",
    "    Authors_col.append(Author_List)\n",
    "    Keyword_col.append(keyword_list)\n",
    "    pubmed_GEO_list.append(GEOacc)\n",
    "    pubmed_Score_list.append(scores_list[x])\n",
    "    \n",
    "    #Getting Info from the GEO website\n",
    "    print(\"Getting Info from the GEO website\")\n",
    "    URL_GEO_web = \"https://www.ncbi.nlm.nih.gov/geo/query/acc.cgi?acc=\" + GEOacc\n",
    "    print(URL_GEO_web) \n",
    "    \n",
    "    response2 = requests.get(URL_GEO_web)\n",
    "    my_file = response2.content.decode()\n",
    "\n",
    "    \n",
    "    #Organism Key Word:\n",
    "    mouse1 = 'Mus musculus'\n",
    "    human1 = 'Homo sapiens'\n",
    "\n",
    "    if mouse1 in my_file:\n",
    "        is_mouse = 'yes'\n",
    "    else:\n",
    "        is_mouse = 'no'\n",
    "    Mouse_col.append(is_mouse)\n",
    "            \n",
    "    if human1 in my_file:\n",
    "        is_human = 'yes'\n",
    "    else:\n",
    "        is_human = 'no'\n",
    "    Human_col.append(is_human)\n",
    "    "
   ]
  },
  {
   "cell_type": "code",
   "execution_count": null,
   "metadata": {},
   "outputs": [],
   "source": [
    "#Make sure the lists the same number of elements"
   ]
  },
  {
   "cell_type": "code",
   "execution_count": null,
   "metadata": {},
   "outputs": [],
   "source": [
    "print(len(pubmed_GEO_list))\n",
    "print(len(pubID_col))\n",
    "print(len(Authors_col))\n",
    "#Technique_col = []\n",
    "print(len(Human_col))\n",
    "print(len(Mouse_col))\n",
    "print(len(Keyword_col))\n",
    "print(len(year_col))\n",
    "print(len(no_pubmed_list))\n",
    "print(len(parseGEO_error_list))\n",
    "print(len(pubmed_Score_list))\n",
    "print(len(no_pubmed_Score_list))\n",
    "print(len(geo_title_col))\n",
    "print(len(geo_authors_col))"
   ]
  },
  {
   "cell_type": "code",
   "execution_count": null,
   "metadata": {},
   "outputs": [],
   "source": []
  },
  {
   "cell_type": "code",
   "execution_count": null,
   "metadata": {},
   "outputs": [],
   "source": [
    "#Check if publications in the list are in the portal"
   ]
  },
  {
   "cell_type": "code",
   "execution_count": null,
   "metadata": {},
   "outputs": [],
   "source": [
    "# get key from file\n",
    "my_key = get_key('default')\n",
    "# all usable env names\n",
    "all_envs = ['data', 'staging', 'fourfront-webdev', 'fourfront-mastertest', 'fourfront-hotseat']\n",
    "# get admin key from s3\n",
    "#my_key = ff_utils.get_authentication_with_server({}, ff_env = 'fourfront-hotseat')"
   ]
  },
  {
   "cell_type": "code",
   "execution_count": null,
   "metadata": {},
   "outputs": [],
   "source": [
    "q = '/search/?type=Publication'\n",
    "results = ff_utils.search_metadata(q, key=my_key)"
   ]
  },
  {
   "cell_type": "code",
   "execution_count": null,
   "metadata": {},
   "outputs": [],
   "source": [
    "res_title_list=[]\n",
    "res_uuid_list =[]\n",
    "for i in results:\n",
    "    res_title_list.append(i['title'])\n",
    "    res_uuid_list.append(i['uuid'])"
   ]
  },
  {
   "cell_type": "code",
   "execution_count": null,
   "metadata": {},
   "outputs": [],
   "source": [
    "print(len(res_title_list))\n",
    "print(len(res_uuid_list))"
   ]
  },
  {
   "cell_type": "code",
   "execution_count": null,
   "metadata": {},
   "outputs": [],
   "source": [
    "print(res_title_list)"
   ]
  },
  {
   "cell_type": "code",
   "execution_count": null,
   "metadata": {},
   "outputs": [],
   "source": []
  },
  {
   "cell_type": "code",
   "execution_count": null,
   "metadata": {},
   "outputs": [],
   "source": [
    "#Get the index of the publications that are already in the portal\n",
    "index_list = []\n",
    "for title in Title_col:\n",
    "    if title in res_title_list:\n",
    "        x = -1\n",
    "        for ele in res_title_list:\n",
    "            x = x + 1\n",
    "            if title == ele:\n",
    "                status = 'submitted'\n",
    "                url = 'https://data.4dnucleome.org/publications/' + res_uuid_list[x]\n",
    "                break\n",
    "                   \n",
    "    else:\n",
    "        status = 'no_submitted'\n",
    "        url = ''\n",
    "    status_col.append(status)      \n",
    "    link_col.append(url)\n",
    "    \n",
    "        "
   ]
  },
  {
   "cell_type": "code",
   "execution_count": null,
   "metadata": {},
   "outputs": [],
   "source": [
    "#Export to excel"
   ]
  },
  {
   "cell_type": "code",
   "execution_count": null,
   "metadata": {},
   "outputs": [],
   "source": [
    "#This is the table of GEO accessions that have a publication\n",
    "COLUMN = ['GEO-Accession','PMID','Title','Authors','Human','Mouse','Keywords', 'Score', 'Status','Link to Portal']\n",
    "Dic = {'GEO-Accession':pubmed_GEO_list,'PMID':pubID_col,'Title':Title_col,'Authors':Authors_col,'Human':Human_col,'Mouse':Mouse_col,'Keywords':Keyword_col,'Score':pubmed_Score_list,'Status':status_col,'Link to Portal':link_col}"
   ]
  },
  {
   "cell_type": "code",
   "execution_count": null,
   "metadata": {},
   "outputs": [],
   "source": [
    "new_df = pandas.DataFrame(Dic, columns=COLUMN)\n"
   ]
  },
  {
   "cell_type": "code",
   "execution_count": null,
   "metadata": {},
   "outputs": [],
   "source": [
    "#This is the table of GEO accessions that do not have a publication\n",
    "COLUMN_t2 = ['GEO-Accession','Title','Contributors']\n",
    "Dic_t2 = {'GEO-Accession':no_pubmed_list,'Title':geo_title_col,'Contributors':geo_authors_col}"
   ]
  },
  {
   "cell_type": "code",
   "execution_count": null,
   "metadata": {},
   "outputs": [],
   "source": [
    "new_df_t2 = pandas.DataFrame(Dic_t2, columns=COLUMN_t2)"
   ]
  },
  {
   "cell_type": "code",
   "execution_count": null,
   "metadata": {},
   "outputs": [],
   "source": [
    "writer = pandas.ExcelWriter('results4.xlsx')"
   ]
  },
  {
   "cell_type": "code",
   "execution_count": null,
   "metadata": {},
   "outputs": [],
   "source": [
    "new_df.to_excel(writer,'sheet1')"
   ]
  },
  {
   "cell_type": "code",
   "execution_count": null,
   "metadata": {},
   "outputs": [],
   "source": [
    "new_df_t2.to_excel(writer,'sheet2')"
   ]
  },
  {
   "cell_type": "code",
   "execution_count": null,
   "metadata": {},
   "outputs": [],
   "source": [
    "writer.save()"
   ]
  },
  {
   "cell_type": "code",
   "execution_count": null,
   "metadata": {},
   "outputs": [],
   "source": []
  },
  {
   "cell_type": "code",
   "execution_count": null,
   "metadata": {},
   "outputs": [],
   "source": [
    "#Filter repeated PMID"
   ]
  },
  {
   "cell_type": "code",
   "execution_count": null,
   "metadata": {},
   "outputs": [],
   "source": [
    "#Getting excel file\n",
    "readExcel = pandas.read_excel(r'/Users/luisa/Documents/Github/dcicwrangling/notebooks/Luisa_scripts/results5.xlsx')\n",
    "new_table_df = DF(readExcel, columns = COLUMN)"
   ]
  },
  {
   "cell_type": "code",
   "execution_count": null,
   "metadata": {},
   "outputs": [],
   "source": [
    "#The PMID should be sorted\n",
    "new_geo_column = []\n",
    "new_PMID_column = []\n",
    "new_Title_column = []\n",
    "new_Authors_column = []\n",
    "new_human_col = []\n",
    "new_mouse_col = []\n",
    "new_keywords_Col = []\n",
    "new_Score_col = []\n",
    "new_status_col = []\n",
    "new_link_col = []\n",
    "x = 0\n",
    "ct = 0\n",
    "new_list = []\n",
    "while x <= 225:\n",
    "    new_list.append(new_table_df['GEO-Accession'][ct])\n",
    "    new_PMID_column.append(new_table_df['PMID'][ct])\n",
    "    new_Title_column.append(new_table_df['Title'][ct])\n",
    "    new_Authors_column.append(new_table_df['Authors'][ct])\n",
    "    new_human_col.append(new_table_df['Human'][ct])\n",
    "    new_mouse_col.append(new_table_df['Mouse'][ct])\n",
    "    new_keywords_Col.append(new_table_df['Keywords'][ct])\n",
    "    new_Score_col.append(new_table_df['Score'][ct])\n",
    "    new_status_col.append(new_table_df['Status'][ct])\n",
    "    new_link_col.append(new_table_df['Link to Portal'][ct])\n",
    "    ct = ct + 1\n",
    "    if ct != 226:\n",
    "        while new_table_df['PMID'][x] == new_table_df['PMID'][ct]:\n",
    "            new_list.append(new_table_df['GEO-Accession'][ct])\n",
    "            ct = ct + 1\n",
    "            if ct == 226:\n",
    "                break\n",
    "    x = ct\n",
    "    new_geo_column.append(new_list)\n",
    "    new_list = []\n"
   ]
  },
  {
   "cell_type": "code",
   "execution_count": null,
   "metadata": {},
   "outputs": [],
   "source": [
    "print(len(new_geo_column))"
   ]
  },
  {
   "cell_type": "code",
   "execution_count": null,
   "metadata": {
    "scrolled": true
   },
   "outputs": [],
   "source": [
    "print(new_geo_column)"
   ]
  },
  {
   "cell_type": "code",
   "execution_count": null,
   "metadata": {},
   "outputs": [],
   "source": [
    "print(len(new_geo_column))\n",
    "print(len(new_PMID_column))\n",
    "print(len(new_Title_column))\n",
    "print(len(new_Authors_column))\n",
    "print(len(new_human_col))\n",
    "print(len(new_keywords_Col))\n",
    "print(len(new_Score_col))\n",
    "print(len(new_status_col))\n",
    "print(len(new_link_col))"
   ]
  },
  {
   "cell_type": "code",
   "execution_count": null,
   "metadata": {},
   "outputs": [],
   "source": [
    "#This is the table of GEO accessions that have a publication\n",
    "COLUMN = ['GEO-Accession','PMID','Title','Authors','Human','Mouse','Keywords', 'Score', 'Status','Link to Portal']\n",
    "Dic = {'GEO-Accession':new_geo_column,'PMID':new_PMID_column,'Title':new_Title_column,'Authors':new_Authors_column,'Human':new_human_col,'Mouse':new_mouse_col,'Keywords':new_keywords_Col,'Score':new_Score_col,'Status':new_status_col,'Link to Portal':new_link_col}\n"
   ]
  },
  {
   "cell_type": "code",
   "execution_count": null,
   "metadata": {},
   "outputs": [],
   "source": [
    "filter_df = pandas.DataFrame(Dic, columns=COLUMN)"
   ]
  },
  {
   "cell_type": "code",
   "execution_count": null,
   "metadata": {},
   "outputs": [],
   "source": [
    "writer = pandas.ExcelWriter('results6.xlsx')\n",
    "filter_df.to_excel(writer,'sheet1')\n",
    "new_df_t2.to_excel(writer,'sheet2')\n",
    "writer.save()"
   ]
  },
  {
   "cell_type": "code",
   "execution_count": null,
   "metadata": {},
   "outputs": [],
   "source": [
    "print(len(link_col))"
   ]
  },
  {
   "cell_type": "code",
   "execution_count": null,
   "metadata": {},
   "outputs": [],
   "source": [
    "print(status_col)"
   ]
  },
  {
   "cell_type": "code",
   "execution_count": null,
   "metadata": {},
   "outputs": [],
   "source": [
    "print(link_col)"
   ]
  },
  {
   "cell_type": "code",
   "execution_count": null,
   "metadata": {},
   "outputs": [],
   "source": [
    "print(Title_col)"
   ]
  },
  {
   "cell_type": "code",
   "execution_count": null,
   "metadata": {},
   "outputs": [],
   "source": [
    "print(res_title_list)"
   ]
  },
  {
   "cell_type": "code",
   "execution_count": null,
   "metadata": {},
   "outputs": [],
   "source": [
    "# for i in Authors_col:\n",
    "#     str_Authors_col = ','.join(str(e) for e in Authors_col)\n",
    "# for i in Keyword_col: \n",
    "#     str_Keyword_col = ','.join(str(e) for e in Keyword_col)\n",
    "    "
   ]
  },
  {
   "cell_type": "code",
   "execution_count": null,
   "metadata": {},
   "outputs": [],
   "source": []
  },
  {
   "cell_type": "code",
   "execution_count": null,
   "metadata": {},
   "outputs": [],
   "source": []
  },
  {
   "cell_type": "code",
   "execution_count": null,
   "metadata": {},
   "outputs": [],
   "source": []
  },
  {
   "cell_type": "code",
   "execution_count": null,
   "metadata": {},
   "outputs": [],
   "source": []
  },
  {
   "cell_type": "code",
   "execution_count": null,
   "metadata": {},
   "outputs": [],
   "source": [
    "#Get the GEO information from GEO accession\n",
    "gse = GEOparse.get_GEO('GSE71831')"
   ]
  },
  {
   "cell_type": "code",
   "execution_count": null,
   "metadata": {},
   "outputs": [],
   "source": [
    "#Get metadata\n",
    "metadata = gse.metadata\n",
    "metadata.keys()"
   ]
  },
  {
   "cell_type": "code",
   "execution_count": null,
   "metadata": {},
   "outputs": [],
   "source": [
    "#Get Data of interest\n",
    "pubID_i = gse.metadata['pubmed_id']\n",
    "contributors = gse.metadata['contributor']\n",
    "summary = gse.metadata['summary']\n",
    "exp_design = gse.metadata['overall_design']\n",
    "exp_type = gse.metadata['type']"
   ]
  },
  {
   "cell_type": "code",
   "execution_count": null,
   "metadata": {},
   "outputs": [],
   "source": [
    "#Getting infor from pubmed using the pubmed ID\n",
    "pubID = str(pubID_i[0])\n",
    "#Getting xml format\n",
    "pubmed_URL_xml = \"https://eutils.ncbi.nlm.nih.gov/entrez/eutils/efetch.fcgi?db=pubmed&id=\" + pubID +\"&retmode=xml\"\n",
    "print(pubmed_URL_xml)\n",
    "response = requests.get(pubmed_URL_xml)\n",
    "with open('file.xml', 'wb') as f:\n",
    "    f.write(response.content)\n",
    "tree = ET.parse('file.xml')\n"
   ]
  },
  {
   "cell_type": "code",
   "execution_count": null,
   "metadata": {},
   "outputs": [],
   "source": [
    "#The Data is stored in the child of the root\n",
    "# child = tree.getchildren()\n",
    "# print(child)\n",
    "root = tree.getroot()\n",
    "for i in root:\n",
    "    child = i\n",
    "print(child)\n"
   ]
  },
  {
   "cell_type": "code",
   "execution_count": null,
   "metadata": {},
   "outputs": [],
   "source": [
    "#The data is stored in the child of the root\n",
    "#The info of interest is in the medlineCitation level\n",
    "medlineCitation = 'MedlineCitation'\n",
    "#This are the elements of interest in this datalevel:\n",
    "Article = 'Article'\n",
    "KeywordList = 'KeywordList' #each element only has a single item. no index needed with for loop\n"
   ]
  },
  {
   "cell_type": "code",
   "execution_count": null,
   "metadata": {},
   "outputs": [],
   "source": [
    "#Elements of Interest in Article level:\n",
    "AuthorList = 'AuthorList'  # there are several, each item has last name index = 0, first name = 1, and abbrev = 2\n",
    "ArticleTitle = 'ArticleTitle' # there is only one object so index = 0\n",
    "ArticleDate = 'ArticleDate' # there are several, each item has a Year index = 0, Month index = 0, and day index = 3"
   ]
  },
  {
   "cell_type": "code",
   "execution_count": null,
   "metadata": {},
   "outputs": [],
   "source": [
    "for i in child:\n",
    "    if medlineCitation in str(i):\n",
    "        for item in i:\n",
    "            print(item)\n",
    "            if Article in str(item):\n",
    "                for ele in item:\n",
    "                    print(ele)\n",
    "                    if ArticleTitle in str(ele):\n",
    "                        Article_Title = ele.text\n",
    "                        print(Article_Title)\n",
    "                        \n",
    "                    if ArticleDate in str(ele):\n",
    "                        Article_Year = ele[0].text\n",
    "                        print(Article_Year)\n",
    "                            \n",
    "                    if AuthorList in str(ele):\n",
    "                        Author_List = []\n",
    "                        for author in ele:\n",
    "                            Lname = author[0].text\n",
    "                            Iname = author[1].text\n",
    "                            complName = Lname + ', ' + Iname\n",
    "                            Author_List.append(complName)\n",
    "                        print(Author_List)\n",
    "                        \n",
    "            \n",
    "            if KeywordList in str(item):\n",
    "                keyword_list = []\n",
    "                for ele in item:\n",
    "                    keyword = ele.text\n",
    "                    keyword_list.append(keyword)\n",
    "                print(keyword_list)\n",
    "    #Getting Info from the GEO website\n",
    "    URL_GEO_web = \"https://www.ncbi.nlm.nih.gov/geo/query/acc.cgi?acc=\" + 'GSE71831'\n",
    "    print(URL_GEO_web)\n",
    "    \n",
    "    response2 = requests.get(URL_GEO_web)\n",
    "    my_file = response2.content.decode()\n",
    "    #Organism Key Word:\n",
    "    mouse1 = 'Mus musculus'\n",
    "    human1 = 'Homo sapiens'\n",
    "\n",
    "    if mouse1 in my_file:\n",
    "        is_mouse = 'yes'\n",
    "        \n",
    "    if human1 in my_file:\n",
    "        print('human')\n",
    "        is_human = 'yes'\n",
    "    \n"
   ]
  },
  {
   "cell_type": "code",
   "execution_count": null,
   "metadata": {},
   "outputs": [],
   "source": [
    "Author_List"
   ]
  },
  {
   "cell_type": "code",
   "execution_count": null,
   "metadata": {},
   "outputs": [],
   "source": [
    "Article_Year"
   ]
  },
  {
   "cell_type": "code",
   "execution_count": null,
   "metadata": {},
   "outputs": [],
   "source": [
    "Article_Title\n"
   ]
  },
  {
   "cell_type": "code",
   "execution_count": null,
   "metadata": {},
   "outputs": [],
   "source": [
    "keyword_list"
   ]
  },
  {
   "cell_type": "code",
   "execution_count": null,
   "metadata": {},
   "outputs": [],
   "source": [
    "#Getting Info from the GEO website\n",
    "URL_GEO_web = \"https://www.ncbi.nlm.nih.gov/geo/query/acc.cgi?acc=\" + GEOacc\n",
    "print(URL_GEO_web)"
   ]
  },
  {
   "cell_type": "code",
   "execution_count": null,
   "metadata": {},
   "outputs": [],
   "source": [
    "response2 = requests.get(URL_GEO_web)\n",
    "my_file = response2.content.decode()\n"
   ]
  },
  {
   "cell_type": "code",
   "execution_count": null,
   "metadata": {},
   "outputs": [],
   "source": [
    "#Organism Key Word:\n",
    "mouse1 = 'Mus musculus'\n",
    "human1 = 'Homo sapiens'\n",
    "\n",
    "if mouse1 in my_file:\n",
    "    print('mouse')\n",
    "    is_mouse = 'yes'\n",
    "if human1 in my_file:\n",
    "    print('human')\n",
    "    is_human = 'yes'"
   ]
  },
  {
   "cell_type": "code",
   "execution_count": null,
   "metadata": {},
   "outputs": [],
   "source": [
    "#New Table\n",
    "pubID_col = []\n",
    "Title_col = []\n",
    "Authors_col = []\n",
    "Technique_col = []\n",
    "Human_col = []\n",
    "Mouse_col = []\n",
    "Keyword_col = []\n",
    "year_col = []\n",
    "score_col = []\n",
    "\n",
    "new_df = pandas.DataFrame({'pubID':pubID_col, 'title':Title_col}, columns=['pubID', 'title'])"
   ]
  },
  {
   "cell_type": "code",
   "execution_count": null,
   "metadata": {},
   "outputs": [],
   "source": [
    "print(year_col)"
   ]
  },
  {
   "cell_type": "code",
   "execution_count": null,
   "metadata": {},
   "outputs": [],
   "source": [
    "print(len(year_col))"
   ]
  },
  {
   "cell_type": "code",
   "execution_count": null,
   "metadata": {},
   "outputs": [],
   "source": []
  }
 ],
 "metadata": {
  "kernelspec": {
   "display_name": "Python 3",
   "language": "python",
   "name": "python3"
  },
  "language_info": {
   "codemirror_mode": {
    "name": "ipython",
    "version": 3
   },
   "file_extension": ".py",
   "mimetype": "text/x-python",
   "name": "python",
   "nbconvert_exporter": "python",
   "pygments_lexer": "ipython3",
   "version": "3.7.1"
  }
 },
 "nbformat": 4,
 "nbformat_minor": 2
}
