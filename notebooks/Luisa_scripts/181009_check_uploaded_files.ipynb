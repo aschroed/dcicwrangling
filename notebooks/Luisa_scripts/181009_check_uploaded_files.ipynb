{
 "cells": [
  {
   "cell_type": "code",
   "execution_count": 1,
   "metadata": {},
<<<<<<< HEAD
   "outputs": [],
   "source": [
    "from dcicutils import ff_utils\n",
    "my_key = ff_utils.get_authentication_with_server({}, ff_env = 'data')\n",
    "#print(my_key)"
=======
   "outputs": [
    {
     "name": "stdout",
     "output_type": "stream",
     "text": [
      "{'secret': '5hphnwwmmfsfb4pj', 'server': 'https://data.4dnucleome.org', 'key': '72BNIR6G'}\n"
     ]
    }
   ],
   "source": [
    "from dcicutils import ff_utils\n",
    "my_key = ff_utils.get_authentication_with_server({}, ff_env = 'data')\n",
    "print(my_key)"
>>>>>>> master
   ]
  },
  {
   "cell_type": "code",
   "execution_count": 5,
   "metadata": {},
   "outputs": [
    {
     "name": "stdout",
     "output_type": "stream",
     "text": [
      "4\n",
      "4DNFI7WNYKKM jennifer-cremins-lab:Communities_genomewideHFFc68kbhg38merge_adjust2_PCA_0.25v2_2 \n",
      " Cremins Lab TAD calls round 1 HFFc6 domains\n",
      "\n",
      "4DNFIU6QMLMW jennifer-cremins-lab:Communities_genomewideES8kbhg38merge_adjust2_PCA_0.25v2_2 \n",
      " Cremins Lab TAD calls round 1 H1-hESC domains\n",
      "\n",
      "4DNFIRNBYTIU jennifer-cremins-lab:Boundaries_genomewideHFFc68kbhg38merge_adjust2_PCA_0.25v2_2 \n",
      " Cremins Lab TAD calls round 1 HFFc6 boundaries\n",
      "\n",
      "4DNFI9LNY6RL jennifer-cremins-lab:Boundaries_genomewideES8kbhg38merge_adjust2_PCA_0.25v2_2 \n",
      " Cremins Lab TAD calls round 1_H1-hESC boundaries\n",
      "\n"
     ]
    }
   ],
   "source": [
    "query = '/search/?lab.display_title=Jennifer+Cremins+Lab%2C+UPENN&type=FileProcessed'\n",
    "res = ff_utils.search_metadata(query, key=my_key)\n",
    "print(len(res))\n",
    "for i in res:\n",
    "    print(i['accession'], i['aliases'][0],'\\n' ,i.get('description'))\n",
    "    print()"
   ]
  },
  {
   "cell_type": "code",
   "execution_count": 6,
   "metadata": {},
   "outputs": [],
   "source": [
    "#Exp/Set  File Acc   Title\n",
    "title = \"JAWG results - Cremins Lab - TAD calls round 1\"\n",
    "Data= [\n",
    "        [\"4DNES2R6PUEK\",  [\"4DNFI7WNYKKM\", \"4DNFIRNBYTIU\"]],\n",
    "        [\"4DNES2M5JIGV\", [\"4DNFIU6QMLMW\", \"4DNFI9LNY6RL\"]]\n",
    "]\n"
   ]
  },
  {
   "cell_type": "code",
   "execution_count": 17,
   "metadata": {},
   "outputs": [
    {
     "name": "stdout",
     "output_type": "stream",
     "text": [
      "{'type': 'archived', 'description': 'Moved from archived_processed_files ', 'files': ['de8fe91e-1260-4d5c-a51f-c7b1546bed0f', '72139936-73af-4e08-98d1-32547207e8d2', 'f6d5ba22-aaf9-48e9-8df4-bc5c131c96af'], 'title': 'Results of 4DN DCIC HiC Pipeline, early version'}\n",
      "{'type': 'supplementary', 'files': ['20ddf280-497e-400c-84f0-77b77bb36dee', '5710f6a6-9e83-4d97-af0f-a14c651f24a9', 'c68c979e-9e83-46b9-850a-7f9b8c14cd1f', 'c87c5d83-6bdf-45ee-8acc-9718cd4854f7'], 'title': 'JAWG results - Dekker Lab'}\n",
      "{'type': 'supplementary', 'files': ['4DNFI7WNYKKM', '4DNFIRNBYTIU'], 'title': 'JAWG results - Cremins Lab - TAD calls round 1'}\n",
      "\n",
      "{'@type': ['result'], '@graph': [{'schema_version': '2', 'submitted_by': '/users/900c5bf0-5b3a-4d7c-a6e6-7918faa19a77/', 'award': '/awards/1U54DK107980-01/', 'link_id': '~experiment-set-replicates~4DNES2R6PUEK~', 'processed_files': ['/files-processed/4DNFIJEOJ221/', '/files-processed/4DNFIFLJLIS5/', '/files-processed/4DNFIB59T7NN/'], 'experiments_in_set': ['/experiments-hi-c/4DNEX7POCO84/', '/experiments-hi-c/4DNEXRAEERUF/'], 'tags': ['4DN Joint Analysis 2018', '2018_01_public', '2018_01_internal', '2018_01_internal_JA'], 'display_title': '4DNES2R6PUEK', 'lab': '/labs/job-dekker-lab/', 'last_modified': {'date_modified': '2018-11-13T21:59:05.681156+00:00', 'modified_by': '/users/986b362f-4eb6-4a9c-8173-3ab267307e3a/'}, 'documents': [], 'other_processed_files': [{'type': 'archived', 'files': ['/files-processed/4DNFICIW3QCJ/', '/files-processed/4DNFIT3ABRQL/', '/files-processed/4DNFIRO3UX7I/'], 'description': 'Moved from archived_processed_files ', 'title': 'Results of 4DN DCIC HiC Pipeline, early version'}, {'type': 'supplementary', 'files': ['/files-processed/4DNFIKX6ZCNN/', '/files-processed/4DNFI39HH6UD/', '/files-processed/4DNFIGQGTTO3/', '/files-processed/4DNFI2U233XO/'], 'title': 'JAWG results - Dekker Lab'}, {'type': 'supplementary', 'files': ['/files-processed/4DNFI7WNYKKM/', '/files-processed/4DNFIRNBYTIU/'], 'title': 'JAWG results - Cremins Lab - TAD calls round 1'}], 'static_headers': ['/static-sections/621e8359-3885-40ce-965d-91894aa7b758/', '/static-sections/298554ad-20e2-4449-a752-ac190123dab7/'], 'public_release': '2017-07-26', 'alternate_accessions': [], 'replicate_exps': [{'tec_rep_no': 1, 'replicate_exp': '/experiments-hi-c/4DNEX7POCO84/', 'bio_rep_no': 1}, {'tec_rep_no': 1, 'replicate_exp': '/experiments-hi-c/4DNEXRAEERUF/', 'bio_rep_no': 2}], 'aliases': ['dekker-lab:ExperimentSet_U54_HFFc6-FA-DpnII'], 'number_of_experiments': 2, 'project_release': '2017-07-26', '@id': '/experiment-set-replicates/4DNES2R6PUEK/', 'description': 'Hi-C on HFFc6 (Tier 1) with DpnII', 'date_created': '2017-10-24T18:18:29.626172+00:00', 'experimentset_type': 'replicate', 'completed_processes': ['HiC_Pipeline_0.2.5'], 'status': 'released', 'accession': '4DNES2R6PUEK', 'dbxrefs': [], 'publications_of_set': [], '@type': ['ExperimentSetReplicate', 'ExperimentSet', 'Item'], 'uuid': 'f5af7c20-211d-4fca-8cc1-d42c8d99a2d4', 'external_references': [], 'principals_allowed': {'audit': ['system.Everyone'], 'edit': ['group.admin'], 'view': ['system.Everyone']}}], 'status': 'success'}\n",
      "\n",
      "{'type': 'archived', 'description': 'Moved from archived_processed_files ', 'files': ['aff4c78b-b07a-4fb0-b568-388f0a8ff0e3', 'd0237baf-973a-45f4-acb3-33ee6cf7c7f6', '2d661756-da8c-44be-ab49-321ec5763ae0'], 'title': 'Results of 4DN DCIC HiC Pipeline, early version'}\n",
      "{'type': 'supplementary', 'files': ['f8e2694b-a874-4840-ae8a-d0b2d5948b6c', '77c30389-1948-48fb-b841-de9f6c9f6c13', '37900b2a-e451-49ee-8f78-0981b5aff7c2', 'a96f747c-4869-44e6-9e2e-16e1640a9d1f'], 'title': 'JAWG results - Dekker Lab'}\n",
      "{'type': 'supplementary', 'files': ['4DNFIU6QMLMW', '4DNFI9LNY6RL'], 'title': 'JAWG results - Cremins Lab - TAD calls round 1'}\n",
      "\n",
      "{'@type': ['result'], '@graph': [{'schema_version': '2', 'submitted_by': '/users/900c5bf0-5b3a-4d7c-a6e6-7918faa19a77/', 'award': '/awards/1U54DK107980-01/', 'processed_files': ['/files-processed/4DNFITU7K8VQ/', '/files-processed/4DNFIQYQWPF5/', '/files-processed/4DNFI6HDY7WZ/'], 'experiments_in_set': ['/experiments-hi-c/4DNEXENKINA2/', '/experiments-hi-c/4DNEXZJZ5EBZ/'], 'tags': ['4DN Joint Analysis 2018', '2018_01_public', '2018_01_internal', '2018_01_internal_JA'], 'display_title': '4DNES2M5JIGV', 'lab': '/labs/job-dekker-lab/', 'last_modified': {'date_modified': '2018-11-13T21:59:06.404030+00:00', 'modified_by': '/users/986b362f-4eb6-4a9c-8173-3ab267307e3a/'}, 'documents': [], 'other_processed_files': [{'type': 'archived', 'files': ['/files-processed/4DNFI3RIKRUJ/', '/files-processed/4DNFI65CBIKX/', '/files-processed/4DNFIY3DJCHA/'], 'description': 'Moved from archived_processed_files ', 'title': 'Results of 4DN DCIC HiC Pipeline, early version'}, {'type': 'supplementary', 'files': ['/files-processed/4DNFIU55UQ2A/', '/files-processed/4DNFI1YUDE7V/', '/files-processed/4DNFIYVA8QOC/', '/files-processed/4DNFIGL6JTBZ/'], 'title': 'JAWG results - Dekker Lab'}, {'type': 'supplementary', 'files': ['/files-processed/4DNFIU6QMLMW/', '/files-processed/4DNFI9LNY6RL/'], 'title': 'JAWG results - Cremins Lab - TAD calls round 1'}], 'static_headers': ['/static-sections/621e8359-3885-40ce-965d-91894aa7b758/', '/static-sections/298554ad-20e2-4449-a752-ac190123dab7/'], 'public_release': '2017-07-26', 'alternate_accessions': [], 'replicate_exps': [{'tec_rep_no': 1, 'replicate_exp': '/experiments-hi-c/4DNEXENKINA2/', 'bio_rep_no': 1}, {'tec_rep_no': 2, 'replicate_exp': '/experiments-hi-c/4DNEXZJZ5EBZ/', 'bio_rep_no': 1}], 'aliases': ['dekker-lab:ExperimentSet_U54_U54-ESC4DN-FA-DpnII-2017524'], 'number_of_experiments': 2, 'project_release': '2017-07-26', '@id': '/experiment-set-replicates/4DNES2M5JIGV/', 'description': 'in situ Hi-C on H1-hESC (Tier 1) with DpnII', 'date_created': '2017-07-13T14:23:13.113468+00:00', 'experimentset_type': 'replicate', 'completed_processes': ['HiC_Pipeline_0.2.5'], 'status': 'released', 'accession': '4DNES2M5JIGV', 'link_id': '~experiment-set-replicates~4DNES2M5JIGV~', 'publications_of_set': [], '@type': ['ExperimentSetReplicate', 'ExperimentSet', 'Item'], 'uuid': '6ba6a5df-dac5-4111-b5f0-299b6bee0f38', 'external_references': [], 'principals_allowed': {'audit': ['system.Everyone'], 'edit': ['group.admin'], 'view': ['system.Everyone']}}], 'status': 'success'}\n",
      "\n"
     ]
    }
   ],
   "source": [
    "for info in Data:\n",
    "    set_acc = info[0]\n",
    "    set_resp = ff_utils.get_metadata(set_acc, key=my_key, add_on = 'frame=raw')\n",
    "    opf = set_resp['other_processed_files']\n",
    "    new_entry = {'type': 'supplementary', \n",
    "                 'files': info[1], \n",
    "                 'title': title}\n",
    "    opf.append(new_entry)\n",
    "    for i in opf:\n",
    "        print(i)\n",
    "    print()\n",
    "    #e = ff_utils.patch_metadata({'other_processed_files':opf}, obj_id = set_acc, key = my_key)\n",
    "    print(e)\n",
    "    print()"
   ]
  },
  {
   "cell_type": "code",
   "execution_count": 2,
   "metadata": {},
   "outputs": [
    {
     "name": "stdout",
     "output_type": "stream",
     "text": [
      "16\n"
     ]
    }
   ],
   "source": [
    "q = '/search/?lab.display_title=4DN+DCIC%2C+HMS&type=FileReference'\n",
    "gen = ff_utils.search_metadata(q, key=my_key)\n",
    "print(len(gen))"
   ]
  },
  {
   "cell_type": "code",
   "execution_count": null,
   "metadata": {},
   "outputs": [],
   "source": [
    "import Sub"
   ]
  }
 ],
 "metadata": {
  "kernelspec": {
   "display_name": "Python 3",
   "language": "python",
   "name": "python3"
  },
  "language_info": {
   "codemirror_mode": {
    "name": "ipython",
    "version": 3
   },
   "file_extension": ".py",
   "mimetype": "text/x-python",
   "name": "python",
   "nbconvert_exporter": "python",
   "pygments_lexer": "ipython3",
   "version": "3.7.1"
  }
 },
 "nbformat": 4,
 "nbformat_minor": 2
}
