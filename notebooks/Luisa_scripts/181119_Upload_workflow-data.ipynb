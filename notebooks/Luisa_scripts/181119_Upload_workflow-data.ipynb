{
 "cells": [
  {
   "cell_type": "code",
   "execution_count": 1,
   "metadata": {},
   "outputs": [
    {
     "name": "stdout",
     "output_type": "stream",
     "text": [
      "Working on https://data.4dnucleome.org\n"
     ]
    }
   ],
   "source": [
    "from dcicutils import ff_utils\n",
    "from functions.notebook_functions import *\n",
    "\n",
    "# get key from file\n",
    "my_key = get_key('default')\n",
    "# all usable env names\n",
    "all_envs = ['data', 'staging', 'fourfront-webdev', 'fourfront-mastertest', 'fourfront-hotseat']\n",
    "# get admin key from s3\n",
    "#my_key = ff_utils.get_authentication_with_server({}, ff_env = 'fourfront-webdev')\n",
    "print('Working on', my_key['server'])\n"
   ]
  },
  {
   "cell_type": "code",
   "execution_count": 4,
   "metadata": {},
   "outputs": [
    {
     "name": "stdout",
     "output_type": "stream",
     "text": [
      "{'accession': '4DNWLM174GGG', 'app_name': 'bedtobeddb', 'app_version': 'dev', 'arguments': [{'argument_format': '69f6d609-f2ac-4c82-9472-1a13331b5ce9', 'argument_type': 'Input file', 'workflow_argument_name': 'bedfile'}, {'argument_format': '76dc8c06-67d8-487b-8fc8-d841752a0b60', 'argument_type': 'Output to-be-extra-input file', 'workflow_argument_name': 'beddbfile'}, {'argument_type': 'parameter', 'workflow_argument_name': 'assembly'}], 'award': '1U01CA200059-01', 'category': 'format conversion', 'cwl_child_filenames': [], 'cwl_directory_url': 'https://raw.githubusercontent.com/4dn-dcic/docker-4dn-bedtobeddb/master/cwl/', 'cwl_main_filename': 'bedtobeddb.cwl', 'cwl_pointer': '', 'data_types': ['Hi-C', 'DAM-ID'], 'description': 'Converting bed to beddb', 'docker_image_name': '4dn-dcic/docker-4dn-bedtobeddb', 'docker_registry_url': 'https://hub.docker.com/', 'lab': '4dn-dcic-lab', 'name': 'bedtobeddb', 'steps': [{'inputs': [{'meta': {'cardinality': 'single', 'file_format': '69f6d609-f2ac-4c82-9472-1a13331b5ce9', 'global': True, 'type': 'data file'}, 'name': 'bedfile', 'source': [{'name': 'bedfile'}]}, {'meta': {'cardinality': 'single', 'file_format': 'd13d06cf-218e-4f61-55f0-93f226248b2c', 'global': True, 'type': 'reference file'}}], 'meta': {'analysis_step_types': ['file format conversion'], 'software_used': []}, 'name': 'bedtobeddb', 'outputs': [{'meta': {'cardinality': 'single', 'file_format': 'd1311111-218e-4f61-aaf0-91f226248b2c', 'global': True, 'type': 'data file'}, 'name': 'beddbfile', 'target': [{'name': 'beddbfile'}]}]}], 'title': 'Converting bed to beddb', 'uuid': '9d575e99-5ffe-4ea4-b74f-ad40f621cd39', 'workflow_diagram': '', 'workflow_type': 'Other'}\n"
     ]
    }
   ],
   "source": [
    "# load json file\n",
    "import json\n",
    "my_file = \"/Users/luisa/Documents/4DN/bedtobeddb_workflow/bed2beddb_insert_workflow.json\"\n",
    "with open(my_file) as f:\n",
    "    data = json.load(f)\n",
    "print(data)"
   ]
  },
  {
   "cell_type": "code",
   "execution_count": 3,
   "metadata": {},
   "outputs": [
    {
     "name": "stdout",
     "output_type": "stream",
     "text": [
      "@graph\n",
      "[{'description': 'Converting bed to beddb', 'cwl_pointer': '', '@type': ['Workflow', 'Item'], 'link_id': '~workflows~9d575e99-5ffe-4ea4-b74f-ad40f621cd39~', 'workflow_language': 'CWL', 'award': '/awards/1U01CA200059-01/', 'cwl_main_filename': 'bedtobeddb.cwl', 'name': 'bedtobeddb', 'data_types': ['Hi-C', 'DAM-ID'], 'status': 'in review by lab', 'app_version': 'dev', 'principals_allowed': {'view': ['award.b0b9c607-f8b4-4f02-93f4-9895b461334b', 'group.admin', 'group.read-only-admin', 'lab.828cd4fe-ebb0-4b36-a94a-d2e3a36cc989', 'remoteuser.EMBED', 'remoteuser.INDEXER'], 'audit': ['system.Everyone'], 'edit': ['group.admin', 'submits_for.828cd4fe-ebb0-4b36-a94a-d2e3a36cc989']}, 'workflow_diagram': '', 'docker_registry_url': 'https://hub.docker.com/', 'workflow_type': 'Other', 'cwl_directory_url': 'https://raw.githubusercontent.com/4dn-dcic/docker-4dn-bedtobeddb/master/cwl/', 'title': 'Converting bed to beddb', 'schema_version': '5', 'lab': '/labs/4dn-dcic-lab/', 'date_created': '2018-11-20T20:51:03.978056+00:00', '@id': '/workflows/9d575e99-5ffe-4ea4-b74f-ad40f621cd39/', 'arguments': [{'argument_type': 'Input file', 'argument_format': '/file-formats/bed/', 'workflow_argument_name': 'bedfile'}, {'argument_type': 'Output to-be-extra-input file', 'argument_format': '/file-formats/beddb/', 'workflow_argument_name': 'beddbfile'}, {'argument_type': 'parameter', 'workflow_argument_name': 'assembly'}], 'submitted_by': '/users/56c9c683-bb11-471b-b590-c656f7dc03c1/', 'accession': '4DNWLM174GGG', 'external_references': [], 'docker_image_name': '4dn-dcic/docker-4dn-bedtobeddb', 'uuid': '9d575e99-5ffe-4ea4-b74f-ad40f621cd39', 'category': 'format conversion', 'steps': [{'meta': {'software_used': [], 'analysis_step_types': ['file format conversion']}, 'inputs': [{'meta': {'global': True, 'cardinality': 'single', 'type': 'data file', 'file_format': '/file-formats/bed/'}, 'source': [{'name': 'bedfile'}], 'name': 'bedfile'}, {'meta': {'global': True, 'cardinality': 'single', 'type': 'reference file', 'file_format': '/file-formats/chromsizes/'}}], 'outputs': [{'meta': {'global': True, 'cardinality': 'single', 'type': 'data file', 'file_format': 'd1311111-218e-4f61-aaf0-91f226248b2c'}, 'target': [{'name': 'beddbfile'}], 'name': 'beddbfile'}], 'name': 'bedtobeddb'}], 'cwl_child_filenames': [], 'app_name': 'bedtobeddb', 'display_title': 'Converting bed to beddb - 4DNWLM174GGG', 'last_modified': {'modified_by': '/users/56c9c683-bb11-471b-b590-c656f7dc03c1/', 'date_modified': '2018-11-20T20:51:03.990826+00:00'}}]\n",
      "\n",
      "status\n",
      "success\n",
      "\n",
      "@type\n",
      "['result']\n",
      "\n"
     ]
    }
   ],
   "source": [
    "e = ff_utils.post_metadata(data,'workflow', my_key)\n",
    "for key in e:\n",
    "    print(key)\n",
    "    print(e[key])\n",
    "    print()"
   ]
  },
  {
   "cell_type": "code",
   "execution_count": 2,
   "metadata": {},
   "outputs": [],
   "source": [
    "myuuid = str(uuid.uuid4())"
   ]
  },
  {
   "cell_type": "code",
   "execution_count": 3,
   "metadata": {},
   "outputs": [
    {
     "name": "stdout",
     "output_type": "stream",
     "text": [
      "9d575e99-5ffe-4ea4-b74f-ad40f621cd39\n"
     ]
    }
   ],
   "source": [
    "print(myuuid)"
   ]
  },
  {
   "cell_type": "code",
   "execution_count": null,
   "metadata": {},
   "outputs": [],
   "source": []
  }
 ],
 "metadata": {
  "kernelspec": {
   "display_name": "Python 3",
   "language": "python",
   "name": "python3"
  },
  "language_info": {
   "codemirror_mode": {
    "name": "ipython",
    "version": 3
   },
   "file_extension": ".py",
   "mimetype": "text/x-python",
   "name": "python",
   "nbconvert_exporter": "python",
   "pygments_lexer": "ipython3",
   "version": "3.7.1"
  }
 },
 "nbformat": 4,
 "nbformat_minor": 2
}
