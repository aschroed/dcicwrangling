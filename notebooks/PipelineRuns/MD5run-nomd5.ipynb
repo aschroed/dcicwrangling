{
 "cells": [
  {
   "cell_type": "code",
   "execution_count": 3,
   "metadata": {},
   "outputs": [
    {
     "name": "stdout",
     "output_type": "stream",
     "text": [
      "65\n"
     ]
    }
   ],
   "source": [
    "import time\n",
    "from dcicutils import s3Utils\n",
    "from dcicutils import ff_utils\n",
    "from functions.wfr import *\n",
    "from functions.wfr_settings import *\n",
    "from functions.notebook_functions import *\n",
    "\n",
    "# get key from keypairs.json\n",
    "my_env = 'data'\n",
    "my_auth = get_key('koray_data')\n",
    "\n",
    "my_s3_util = s3Utils(env=my_env)\n",
    "raw_bucket = my_s3_util.raw_file_bucket\n",
    "out_bucket = my_s3_util.outfile_bucket\n",
    "\n",
    "file_url = '/search/?type=FileFastq&status=uploading&status=upload failed&limit=all'\n",
    "#file_url = '/search/?type=FileReference&status=uploading&status=upload failed&limit=all'\n",
    "#file_url = '/search/?type=FileProcessed&status=uploading&status=upload failed&limit=all'\n",
    "file_url = \"/search/?lab.display_title=Job+Dekker%2C+UMMS&status=uploading&status=upload+failed&type=FileFastq\"\n",
    "\n",
    "\n",
    "#to do \n",
    "delete old\n",
    "release new\n",
    "\n",
    "https://data.4dnucleome.org/search/?content_md5sum=No+value&status=released&type=FileFastq\n",
    "    \n",
    "\n",
    "file_url = '/search/?md5sum=No+value&status=released&status=released+to+project&status=uploaded&type=FileCalibration&type=FileFastq&type=FileReference&type=FileMicroscopy'\n",
    "\n",
    "all_files = ff_utils.search_metadata(file_url, key=my_auth)\n",
    "\n",
    "print(len(all_files))"
   ]
  },
  {
   "cell_type": "code",
   "execution_count": 8,
   "metadata": {
    "scrolled": false
   },
   "outputs": [
    {
     "name": "stdout",
     "output_type": "stream",
     "text": [
      "['/files-reference/4DNFIS1ZVUWO/', '/files-reference/4DNFIBEEN92C/', '/files-fastq/4DNFIPLDA6QM/', '/files-fastq/4DNFI1W4JRH3/', '/files-fastq/4DNFIXS2US9H/', '/files-fastq/4DNFII9FCYYW/', '/files-fastq/4DNFIUAPAXL1/', '/files-fastq/4DNFISH4FPSW/', '/files-fastq/4DNFIUX841K8/', '/files-fastq/4DNFIS94W8RK/', '/files-fastq/4DNFIJEUX4GL/', '/files-microscopy/4DNFI4KZIPV7/', '/files-microscopy/4DNFIW3788O9/', '/files-reference/4DNFI0NK4G14/', '/files-reference/4DNFI3HVC1SE/', '/files-reference/4DNFI3HVU20D/', '/files-reference/4DNFIMIV7AHJ/', '/files-reference/4DNFI9P2SCZ7/', '/files-reference/4DNFI4FLO6VF/', '/files-fastq/4DNFIYU8DDMX/', '/files-reference/4DNFI3UBJ3HZ/', '/files-fastq/4DNFIT2OY9HJ/', '/files-fastq/4DNFIVJZKL9R/', '/files-fastq/4DNFISY5ED3Q/', '/files-fastq/4DNFIDCLJ6LY/', '/files-fastq/4DNFI82SFXBP/', '/files-fastq/4DNFIF58NXJY/', '/files-fastq/4DNFIPBQPYG5/', '/files-fastq/4DNFIZUZHKUP/', '/files-fastq/4DNFIWE1ZP5N/', '/files-fastq/4DNFINU3572Y/', '/files-fastq/4DNFIJ3SS1X6/', '/files-microscopy/4DNFIH57WWDH/', '/files-microscopy/4DNFITENF6R5/', '/files-microscopy/4DNFIOKBYAQN/', '/files-microscopy/4DNFIQ63721G/', '/files-calibration/4DNFIUS321IU/', '/files-calibration/4DNFI6YRVRKH/', '/files-calibration/4DNFIZ5AO5IR/', '/files-reference/4DNFI823MBKE/', '/files-fastq/4DNFIQMXJRKV/', '/files-fastq/4DNFIQNT4H9T/', '/files-fastq/4DNFID4RGP8C/', '/files-fastq/4DNFI5VLWJVD/', '/files-fastq/4DNFI95L8H33/', '/files-fastq/4DNFID9QK6SH/', '/files-fastq/4DNFI2CD8S67/', '/files-fastq/4DNFIULWI1B3/', '/files-fastq/4DNFIRGIBV63/', '/files-fastq/4DNFIA7QCP4U/', '/files-reference/4DNFI823LSII/', '/files-reference/4DNFI823L812/', '/files-reference/4DNFI823L811/', '/files-reference/4DNFI823L888/', '/files-reference/4DNFI823LSI8/', '/files-reference/4DNFIZQZ39L9/', '/files-fastq/4DNFIPPD9LQX/', '/files-calibration/4DNFI84C1FHM/', '/files-calibration/4DNFIFL9Q6XO/', '/files-calibration/4DNFIKEPY1D4/', '/files-calibration/4DNFIJS9QYHN/', '/files-calibration/4DNFIIDYXJY6/', '/files-calibration/4DNFIVMFPM8R/', '/files-calibration/4DNFICAVAIV4/', '/files-calibration/4DNFIMNAPJXH/']\n"
     ]
    }
   ],
   "source": [
    "print([i['@id'] for i in all_files])"
   ]
  },
  {
   "cell_type": "code",
   "execution_count": 4,
   "metadata": {
    "scrolled": false
   },
   "outputs": [
    {
     "name": "stdout",
     "output_type": "stream",
     "text": [
      "Do you wanna run md5 if missing? (md5/none)md5\n",
      "4DNFIS1ZVUWO does not have the md5sum calculated during upload\n"
     ]
    },
    {
     "data": {
      "text/html": [
       "<a href='https://console.aws.amazon.com/states/home?region=us-east-1#/executions/details/arn:aws:states:us-east-1:643366669028:execution:tibanna_pony:md5_4DNFIS1ZVUWO' target='_blank'>RUNNING</a>"
      ],
      "text/plain": [
       "<IPython.core.display.HTML object>"
      ]
     },
     "metadata": {},
     "output_type": "display_data"
    },
    {
     "name": "stdout",
     "output_type": "stream",
     "text": [
      "4DNFIBEEN92C does not have the md5sum calculated during upload\n"
     ]
    },
    {
     "data": {
      "text/html": [
       "<a href='https://console.aws.amazon.com/states/home?region=us-east-1#/executions/details/arn:aws:states:us-east-1:643366669028:execution:tibanna_pony:md5_4DNFIBEEN92C' target='_blank'>RUNNING</a>"
      ],
      "text/plain": [
       "<IPython.core.display.HTML object>"
      ]
     },
     "metadata": {},
     "output_type": "display_data"
    },
    {
     "name": "stdout",
     "output_type": "stream",
     "text": [
      "4DNFIPLDA6QM does not have the md5sum calculated during upload\n"
     ]
    },
    {
     "data": {
      "text/html": [
       "<a href='https://console.aws.amazon.com/states/home?region=us-east-1#/executions/details/arn:aws:states:us-east-1:643366669028:execution:tibanna_pony:md5_4DNFIPLDA6QM' target='_blank'>RUNNING</a>"
      ],
      "text/plain": [
       "<IPython.core.display.HTML object>"
      ]
     },
     "metadata": {},
     "output_type": "display_data"
    },
    {
     "name": "stdout",
     "output_type": "stream",
     "text": [
      "4DNFI1W4JRH3 does not have the md5sum calculated during upload\n"
     ]
    },
    {
     "data": {
      "text/html": [
       "<a href='https://console.aws.amazon.com/states/home?region=us-east-1#/executions/details/arn:aws:states:us-east-1:643366669028:execution:tibanna_pony:md5_4DNFI1W4JRH3' target='_blank'>RUNNING</a>"
      ],
      "text/plain": [
       "<IPython.core.display.HTML object>"
      ]
     },
     "metadata": {},
     "output_type": "display_data"
    },
    {
     "name": "stdout",
     "output_type": "stream",
     "text": [
      "4DNFIXS2US9H does not have the md5sum calculated during upload\n"
     ]
    },
    {
     "data": {
      "text/html": [
       "<a href='https://console.aws.amazon.com/states/home?region=us-east-1#/executions/details/arn:aws:states:us-east-1:643366669028:execution:tibanna_pony:md5_4DNFIXS2US9H' target='_blank'>RUNNING</a>"
      ],
      "text/plain": [
       "<IPython.core.display.HTML object>"
      ]
     },
     "metadata": {},
     "output_type": "display_data"
    },
    {
     "name": "stdout",
     "output_type": "stream",
     "text": [
      "4DNFII9FCYYW does not have the md5sum calculated during upload\n"
     ]
    },
    {
     "data": {
      "text/html": [
       "<a href='https://console.aws.amazon.com/states/home?region=us-east-1#/executions/details/arn:aws:states:us-east-1:643366669028:execution:tibanna_pony:md5_4DNFII9FCYYW' target='_blank'>RUNNING</a>"
      ],
      "text/plain": [
       "<IPython.core.display.HTML object>"
      ]
     },
     "metadata": {},
     "output_type": "display_data"
    },
    {
     "name": "stdout",
     "output_type": "stream",
     "text": [
      "4DNFIUAPAXL1 does not have the md5sum calculated during upload\n"
     ]
    },
    {
     "data": {
      "text/html": [
       "<a href='https://console.aws.amazon.com/states/home?region=us-east-1#/executions/details/arn:aws:states:us-east-1:643366669028:execution:tibanna_pony:md5_4DNFIUAPAXL1c799c96d-05e4-4140-b4e0-c0b8d94d4f4c' target='_blank'>RUNNING</a>"
      ],
      "text/plain": [
       "<IPython.core.display.HTML object>"
      ]
     },
     "metadata": {},
     "output_type": "display_data"
    },
    {
     "name": "stdout",
     "output_type": "stream",
     "text": [
      "4DNFISH4FPSW does not have the md5sum calculated during upload\n"
     ]
    },
    {
     "data": {
      "text/html": [
       "<a href='https://console.aws.amazon.com/states/home?region=us-east-1#/executions/details/arn:aws:states:us-east-1:643366669028:execution:tibanna_pony:md5_4DNFISH4FPSW3ba47df1-a500-4ddc-af0b-b75c53cc38d7' target='_blank'>RUNNING</a>"
      ],
      "text/plain": [
       "<IPython.core.display.HTML object>"
      ]
     },
     "metadata": {},
     "output_type": "display_data"
    },
    {
     "name": "stdout",
     "output_type": "stream",
     "text": [
      "4DNFIUX841K8 does not have the md5sum calculated during upload\n"
     ]
    },
    {
     "data": {
      "text/html": [
       "<a href='https://console.aws.amazon.com/states/home?region=us-east-1#/executions/details/arn:aws:states:us-east-1:643366669028:execution:tibanna_pony:md5_4DNFIUX841K8ac25024b-ccc1-4c30-adbc-b64300712adc' target='_blank'>RUNNING</a>"
      ],
      "text/plain": [
       "<IPython.core.display.HTML object>"
      ]
     },
     "metadata": {},
     "output_type": "display_data"
    },
    {
     "name": "stdout",
     "output_type": "stream",
     "text": [
      "4DNFIS94W8RK does not have the md5sum calculated during upload\n"
     ]
    },
    {
     "data": {
      "text/html": [
       "<a href='https://console.aws.amazon.com/states/home?region=us-east-1#/executions/details/arn:aws:states:us-east-1:643366669028:execution:tibanna_pony:md5_4DNFIS94W8RKe33ca6b0-c9dc-475a-92d2-a8dc7a64c6a2' target='_blank'>RUNNING</a>"
      ],
      "text/plain": [
       "<IPython.core.display.HTML object>"
      ]
     },
     "metadata": {},
     "output_type": "display_data"
    },
    {
     "name": "stdout",
     "output_type": "stream",
     "text": [
      "4DNFIJEUX4GL does not have the md5sum calculated during upload\n"
     ]
    },
    {
     "data": {
      "text/html": [
       "<a href='https://console.aws.amazon.com/states/home?region=us-east-1#/executions/details/arn:aws:states:us-east-1:643366669028:execution:tibanna_pony:md5_4DNFIJEUX4GL' target='_blank'>RUNNING</a>"
      ],
      "text/plain": [
       "<IPython.core.display.HTML object>"
      ]
     },
     "metadata": {},
     "output_type": "display_data"
    },
    {
     "name": "stdout",
     "output_type": "stream",
     "text": [
      "4DNFI4KZIPV7 does not have the md5sum calculated during upload\n"
     ]
    },
    {
     "data": {
      "text/html": [
       "<a href='https://console.aws.amazon.com/states/home?region=us-east-1#/executions/details/arn:aws:states:us-east-1:643366669028:execution:tibanna_pony:md5_4DNFI4KZIPV7' target='_blank'>RUNNING</a>"
      ],
      "text/plain": [
       "<IPython.core.display.HTML object>"
      ]
     },
     "metadata": {},
     "output_type": "display_data"
    },
    {
     "name": "stdout",
     "output_type": "stream",
     "text": [
      "4DNFIW3788O9 does not have the md5sum calculated during upload\n"
     ]
    },
    {
     "data": {
      "text/html": [
       "<a href='https://console.aws.amazon.com/states/home?region=us-east-1#/executions/details/arn:aws:states:us-east-1:643366669028:execution:tibanna_pony:md5_4DNFIW3788O9' target='_blank'>RUNNING</a>"
      ],
      "text/plain": [
       "<IPython.core.display.HTML object>"
      ]
     },
     "metadata": {},
     "output_type": "display_data"
    },
    {
     "name": "stdout",
     "output_type": "stream",
     "text": [
      "4DNFI0NK4G14 does not have the md5sum calculated during upload\n"
     ]
    },
    {
     "data": {
      "text/html": [
       "<a href='https://console.aws.amazon.com/states/home?region=us-east-1#/executions/details/arn:aws:states:us-east-1:643366669028:execution:tibanna_pony:md5_4DNFI0NK4G14' target='_blank'>RUNNING</a>"
      ],
      "text/plain": [
       "<IPython.core.display.HTML object>"
      ]
     },
     "metadata": {},
     "output_type": "display_data"
    },
    {
     "name": "stdout",
     "output_type": "stream",
     "text": [
      "4DNFI3HVC1SE does not have the md5sum calculated during upload\n"
     ]
    },
    {
     "data": {
      "text/html": [
       "<a href='https://console.aws.amazon.com/states/home?region=us-east-1#/executions/details/arn:aws:states:us-east-1:643366669028:execution:tibanna_pony:md5_4DNFI3HVC1SE' target='_blank'>RUNNING</a>"
      ],
      "text/plain": [
       "<IPython.core.display.HTML object>"
      ]
     },
     "metadata": {},
     "output_type": "display_data"
    },
    {
     "name": "stdout",
     "output_type": "stream",
     "text": [
      "4DNFI3HVU20D does not have the md5sum calculated during upload\n"
     ]
    },
    {
     "data": {
      "text/html": [
       "<a href='https://console.aws.amazon.com/states/home?region=us-east-1#/executions/details/arn:aws:states:us-east-1:643366669028:execution:tibanna_pony:md5_4DNFI3HVU20D' target='_blank'>RUNNING</a>"
      ],
      "text/plain": [
       "<IPython.core.display.HTML object>"
      ]
     },
     "metadata": {},
     "output_type": "display_data"
    },
    {
     "name": "stdout",
     "output_type": "stream",
     "text": [
      "4DNFIMIV7AHJ does not have the md5sum calculated during upload\n"
     ]
    },
    {
     "data": {
      "text/html": [
       "<a href='https://console.aws.amazon.com/states/home?region=us-east-1#/executions/details/arn:aws:states:us-east-1:643366669028:execution:tibanna_pony:md5_4DNFIMIV7AHJ' target='_blank'>RUNNING</a>"
      ],
      "text/plain": [
       "<IPython.core.display.HTML object>"
      ]
     },
     "metadata": {},
     "output_type": "display_data"
    },
    {
     "name": "stdout",
     "output_type": "stream",
     "text": [
      "4DNFI9P2SCZ7 does not have the md5sum calculated during upload\n"
     ]
    },
    {
     "data": {
      "text/html": [
       "<a href='https://console.aws.amazon.com/states/home?region=us-east-1#/executions/details/arn:aws:states:us-east-1:643366669028:execution:tibanna_pony:md5_4DNFI9P2SCZ7' target='_blank'>RUNNING</a>"
      ],
      "text/plain": [
       "<IPython.core.display.HTML object>"
      ]
     },
     "metadata": {},
     "output_type": "display_data"
    },
    {
     "name": "stdout",
     "output_type": "stream",
     "text": [
      "4DNFI4FLO6VF does not have the md5sum calculated during upload\n"
     ]
    },
    {
     "data": {
      "text/html": [
       "<a href='https://console.aws.amazon.com/states/home?region=us-east-1#/executions/details/arn:aws:states:us-east-1:643366669028:execution:tibanna_pony:md5_4DNFI4FLO6VF' target='_blank'>RUNNING</a>"
      ],
      "text/plain": [
       "<IPython.core.display.HTML object>"
      ]
     },
     "metadata": {},
     "output_type": "display_data"
    },
    {
     "name": "stdout",
     "output_type": "stream",
     "text": [
      "4DNFIYU8DDMX does not have the md5sum calculated during upload\n"
     ]
    },
    {
     "data": {
      "text/html": [
       "<a href='https://console.aws.amazon.com/states/home?region=us-east-1#/executions/details/arn:aws:states:us-east-1:643366669028:execution:tibanna_pony:md5_4DNFIYU8DDMX' target='_blank'>RUNNING</a>"
      ],
      "text/plain": [
       "<IPython.core.display.HTML object>"
      ]
     },
     "metadata": {},
     "output_type": "display_data"
    },
    {
     "name": "stdout",
     "output_type": "stream",
     "text": [
      "4DNFI3UBJ3HZ does not have the md5sum calculated during upload\n"
     ]
    },
    {
     "data": {
      "text/html": [
       "<a href='https://console.aws.amazon.com/states/home?region=us-east-1#/executions/details/arn:aws:states:us-east-1:643366669028:execution:tibanna_pony:md5_4DNFI3UBJ3HZ' target='_blank'>RUNNING</a>"
      ],
      "text/plain": [
       "<IPython.core.display.HTML object>"
      ]
     },
     "metadata": {},
     "output_type": "display_data"
    },
    {
     "name": "stdout",
     "output_type": "stream",
     "text": [
      "4DNFIT2OY9HJ does not have the md5sum calculated during upload\n"
     ]
    },
    {
     "data": {
      "text/html": [
       "<a href='https://console.aws.amazon.com/states/home?region=us-east-1#/executions/details/arn:aws:states:us-east-1:643366669028:execution:tibanna_pony:md5_4DNFIT2OY9HJ' target='_blank'>RUNNING</a>"
      ],
      "text/plain": [
       "<IPython.core.display.HTML object>"
      ]
     },
     "metadata": {},
     "output_type": "display_data"
    },
    {
     "name": "stdout",
     "output_type": "stream",
     "text": [
      "4DNFIVJZKL9R does not have the md5sum calculated during upload\n"
     ]
    },
    {
     "data": {
      "text/html": [
       "<a href='https://console.aws.amazon.com/states/home?region=us-east-1#/executions/details/arn:aws:states:us-east-1:643366669028:execution:tibanna_pony:md5_4DNFIVJZKL9R' target='_blank'>RUNNING</a>"
      ],
      "text/plain": [
       "<IPython.core.display.HTML object>"
      ]
     },
     "metadata": {},
     "output_type": "display_data"
    },
    {
     "name": "stdout",
     "output_type": "stream",
     "text": [
      "4DNFISY5ED3Q does not have the md5sum calculated during upload\n"
     ]
    },
    {
     "data": {
      "text/html": [
       "<a href='https://console.aws.amazon.com/states/home?region=us-east-1#/executions/details/arn:aws:states:us-east-1:643366669028:execution:tibanna_pony:md5_4DNFISY5ED3Q' target='_blank'>RUNNING</a>"
      ],
      "text/plain": [
       "<IPython.core.display.HTML object>"
      ]
     },
     "metadata": {},
     "output_type": "display_data"
    },
    {
     "name": "stdout",
     "output_type": "stream",
     "text": [
      "4DNFIDCLJ6LY does not have the md5sum calculated during upload\n"
     ]
    },
    {
     "data": {
      "text/html": [
       "<a href='https://console.aws.amazon.com/states/home?region=us-east-1#/executions/details/arn:aws:states:us-east-1:643366669028:execution:tibanna_pony:md5_4DNFIDCLJ6LY' target='_blank'>RUNNING</a>"
      ],
      "text/plain": [
       "<IPython.core.display.HTML object>"
      ]
     },
     "metadata": {},
     "output_type": "display_data"
    },
    {
     "name": "stdout",
     "output_type": "stream",
     "text": [
      "4DNFI82SFXBP does not have the md5sum calculated during upload\n"
     ]
    },
    {
     "data": {
      "text/html": [
       "<a href='https://console.aws.amazon.com/states/home?region=us-east-1#/executions/details/arn:aws:states:us-east-1:643366669028:execution:tibanna_pony:md5_4DNFI82SFXBP' target='_blank'>RUNNING</a>"
      ],
      "text/plain": [
       "<IPython.core.display.HTML object>"
      ]
     },
     "metadata": {},
     "output_type": "display_data"
    },
    {
     "name": "stdout",
     "output_type": "stream",
     "text": [
      "4DNFIF58NXJY does not have the md5sum calculated during upload\n"
     ]
    },
    {
     "data": {
      "text/html": [
       "<a href='https://console.aws.amazon.com/states/home?region=us-east-1#/executions/details/arn:aws:states:us-east-1:643366669028:execution:tibanna_pony:md5_4DNFIF58NXJY' target='_blank'>RUNNING</a>"
      ],
      "text/plain": [
       "<IPython.core.display.HTML object>"
      ]
     },
     "metadata": {},
     "output_type": "display_data"
    },
    {
     "name": "stdout",
     "output_type": "stream",
     "text": [
      "4DNFIPBQPYG5 does not have the md5sum calculated during upload\n"
     ]
    },
    {
     "data": {
      "text/html": [
       "<a href='https://console.aws.amazon.com/states/home?region=us-east-1#/executions/details/arn:aws:states:us-east-1:643366669028:execution:tibanna_pony:md5_4DNFIPBQPYG5' target='_blank'>RUNNING</a>"
      ],
      "text/plain": [
       "<IPython.core.display.HTML object>"
      ]
     },
     "metadata": {},
     "output_type": "display_data"
    },
    {
     "name": "stdout",
     "output_type": "stream",
     "text": [
      "4DNFIZUZHKUP does not have the md5sum calculated during upload\n"
     ]
    },
    {
     "data": {
      "text/html": [
       "<a href='https://console.aws.amazon.com/states/home?region=us-east-1#/executions/details/arn:aws:states:us-east-1:643366669028:execution:tibanna_pony:md5_4DNFIZUZHKUP' target='_blank'>RUNNING</a>"
      ],
      "text/plain": [
       "<IPython.core.display.HTML object>"
      ]
     },
     "metadata": {},
     "output_type": "display_data"
    },
    {
     "name": "stdout",
     "output_type": "stream",
     "text": [
      "4DNFIWE1ZP5N does not have the md5sum calculated during upload\n"
     ]
    },
    {
     "data": {
      "text/html": [
       "<a href='https://console.aws.amazon.com/states/home?region=us-east-1#/executions/details/arn:aws:states:us-east-1:643366669028:execution:tibanna_pony:md5_4DNFIWE1ZP5N' target='_blank'>RUNNING</a>"
      ],
      "text/plain": [
       "<IPython.core.display.HTML object>"
      ]
     },
     "metadata": {},
     "output_type": "display_data"
    },
    {
     "name": "stdout",
     "output_type": "stream",
     "text": [
      "4DNFINU3572Y does not have the md5sum calculated during upload\n"
     ]
    },
    {
     "data": {
      "text/html": [
       "<a href='https://console.aws.amazon.com/states/home?region=us-east-1#/executions/details/arn:aws:states:us-east-1:643366669028:execution:tibanna_pony:md5_4DNFINU3572Y' target='_blank'>RUNNING</a>"
      ],
      "text/plain": [
       "<IPython.core.display.HTML object>"
      ]
     },
     "metadata": {},
     "output_type": "display_data"
    },
    {
     "name": "stdout",
     "output_type": "stream",
     "text": [
      "4DNFIJ3SS1X6 does not have the md5sum calculated during upload\n"
     ]
    },
    {
     "data": {
      "text/html": [
       "<a href='https://console.aws.amazon.com/states/home?region=us-east-1#/executions/details/arn:aws:states:us-east-1:643366669028:execution:tibanna_pony:md5_4DNFIJ3SS1X6' target='_blank'>RUNNING</a>"
      ],
      "text/plain": [
       "<IPython.core.display.HTML object>"
      ]
     },
     "metadata": {},
     "output_type": "display_data"
    },
    {
     "name": "stdout",
     "output_type": "stream",
     "text": [
      "4DNFIH57WWDH does not have the md5sum calculated during upload\n"
     ]
    },
    {
     "data": {
      "text/html": [
       "<a href='https://console.aws.amazon.com/states/home?region=us-east-1#/executions/details/arn:aws:states:us-east-1:643366669028:execution:tibanna_pony:md5_4DNFIH57WWDH' target='_blank'>RUNNING</a>"
      ],
      "text/plain": [
       "<IPython.core.display.HTML object>"
      ]
     },
     "metadata": {},
     "output_type": "display_data"
    },
    {
     "name": "stdout",
     "output_type": "stream",
     "text": [
      "4DNFITENF6R5 does not have the md5sum calculated during upload\n"
     ]
    },
    {
     "data": {
      "text/html": [
       "<a href='https://console.aws.amazon.com/states/home?region=us-east-1#/executions/details/arn:aws:states:us-east-1:643366669028:execution:tibanna_pony:md5_4DNFITENF6R5' target='_blank'>RUNNING</a>"
      ],
      "text/plain": [
       "<IPython.core.display.HTML object>"
      ]
     },
     "metadata": {},
     "output_type": "display_data"
    },
    {
     "name": "stdout",
     "output_type": "stream",
     "text": [
      "4DNFIOKBYAQN does not have the md5sum calculated during upload\n"
     ]
    },
    {
     "data": {
      "text/html": [
       "<a href='https://console.aws.amazon.com/states/home?region=us-east-1#/executions/details/arn:aws:states:us-east-1:643366669028:execution:tibanna_pony:md5_4DNFIOKBYAQN' target='_blank'>RUNNING</a>"
      ],
      "text/plain": [
       "<IPython.core.display.HTML object>"
      ]
     },
     "metadata": {},
     "output_type": "display_data"
    },
    {
     "name": "stdout",
     "output_type": "stream",
     "text": [
      "4DNFIQ63721G does not have the md5sum calculated during upload\n"
     ]
    },
    {
     "data": {
      "text/html": [
       "<a href='https://console.aws.amazon.com/states/home?region=us-east-1#/executions/details/arn:aws:states:us-east-1:643366669028:execution:tibanna_pony:md5_4DNFIQ63721G' target='_blank'>RUNNING</a>"
      ],
      "text/plain": [
       "<IPython.core.display.HTML object>"
      ]
     },
     "metadata": {},
     "output_type": "display_data"
    },
    {
     "name": "stdout",
     "output_type": "stream",
     "text": [
      "4DNFIUS321IU does not have the md5sum calculated during upload\n"
     ]
    },
    {
     "data": {
      "text/html": [
       "<a href='https://console.aws.amazon.com/states/home?region=us-east-1#/executions/details/arn:aws:states:us-east-1:643366669028:execution:tibanna_pony:md5_4DNFIUS321IU' target='_blank'>RUNNING</a>"
      ],
      "text/plain": [
       "<IPython.core.display.HTML object>"
      ]
     },
     "metadata": {},
     "output_type": "display_data"
    },
    {
     "name": "stdout",
     "output_type": "stream",
     "text": [
      "4DNFI6YRVRKH does not have the md5sum calculated during upload\n"
     ]
    },
    {
     "data": {
      "text/html": [
       "<a href='https://console.aws.amazon.com/states/home?region=us-east-1#/executions/details/arn:aws:states:us-east-1:643366669028:execution:tibanna_pony:md5_4DNFI6YRVRKH' target='_blank'>RUNNING</a>"
      ],
      "text/plain": [
       "<IPython.core.display.HTML object>"
      ]
     },
     "metadata": {},
     "output_type": "display_data"
    },
    {
     "name": "stdout",
     "output_type": "stream",
     "text": [
      "4DNFIZ5AO5IR does not have the md5sum calculated during upload\n"
     ]
    },
    {
     "data": {
      "text/html": [
       "<a href='https://console.aws.amazon.com/states/home?region=us-east-1#/executions/details/arn:aws:states:us-east-1:643366669028:execution:tibanna_pony:md5_4DNFIZ5AO5IR' target='_blank'>RUNNING</a>"
      ],
      "text/plain": [
       "<IPython.core.display.HTML object>"
      ]
     },
     "metadata": {},
     "output_type": "display_data"
    },
    {
     "name": "stdout",
     "output_type": "stream",
     "text": [
      "4DNFI823MBKE does not have the md5sum calculated during upload\n"
     ]
    },
    {
     "data": {
      "text/html": [
       "<a href='https://console.aws.amazon.com/states/home?region=us-east-1#/executions/details/arn:aws:states:us-east-1:643366669028:execution:tibanna_pony:md5_4DNFI823MBKE' target='_blank'>RUNNING</a>"
      ],
      "text/plain": [
       "<IPython.core.display.HTML object>"
      ]
     },
     "metadata": {},
     "output_type": "display_data"
    },
    {
     "name": "stdout",
     "output_type": "stream",
     "text": [
      "4DNFIQMXJRKV does not have the md5sum calculated during upload\n"
     ]
    },
    {
     "data": {
      "text/html": [
       "<a href='https://console.aws.amazon.com/states/home?region=us-east-1#/executions/details/arn:aws:states:us-east-1:643366669028:execution:tibanna_pony:md5_4DNFIQMXJRKV' target='_blank'>RUNNING</a>"
      ],
      "text/plain": [
       "<IPython.core.display.HTML object>"
      ]
     },
     "metadata": {},
     "output_type": "display_data"
    },
    {
     "name": "stdout",
     "output_type": "stream",
     "text": [
      "4DNFIQNT4H9T does not have the md5sum calculated during upload\n"
     ]
    },
    {
     "data": {
      "text/html": [
       "<a href='https://console.aws.amazon.com/states/home?region=us-east-1#/executions/details/arn:aws:states:us-east-1:643366669028:execution:tibanna_pony:md5_4DNFIQNT4H9T' target='_blank'>RUNNING</a>"
      ],
      "text/plain": [
       "<IPython.core.display.HTML object>"
      ]
     },
     "metadata": {},
     "output_type": "display_data"
    },
    {
     "name": "stdout",
     "output_type": "stream",
     "text": [
      "4DNFID4RGP8C does not have the md5sum calculated during upload\n"
     ]
    },
    {
     "data": {
      "text/html": [
       "<a href='https://console.aws.amazon.com/states/home?region=us-east-1#/executions/details/arn:aws:states:us-east-1:643366669028:execution:tibanna_pony:md5_4DNFID4RGP8C' target='_blank'>RUNNING</a>"
      ],
      "text/plain": [
       "<IPython.core.display.HTML object>"
      ]
     },
     "metadata": {},
     "output_type": "display_data"
    },
    {
     "name": "stdout",
     "output_type": "stream",
     "text": [
      "4DNFI5VLWJVD does not have the md5sum calculated during upload\n"
     ]
    },
    {
     "data": {
      "text/html": [
       "<a href='https://console.aws.amazon.com/states/home?region=us-east-1#/executions/details/arn:aws:states:us-east-1:643366669028:execution:tibanna_pony:md5_4DNFI5VLWJVD' target='_blank'>RUNNING</a>"
      ],
      "text/plain": [
       "<IPython.core.display.HTML object>"
      ]
     },
     "metadata": {},
     "output_type": "display_data"
    },
    {
     "name": "stdout",
     "output_type": "stream",
     "text": [
      "4DNFI95L8H33 does not have the md5sum calculated during upload\n"
     ]
    },
    {
     "data": {
      "text/html": [
       "<a href='https://console.aws.amazon.com/states/home?region=us-east-1#/executions/details/arn:aws:states:us-east-1:643366669028:execution:tibanna_pony:md5_4DNFI95L8H33' target='_blank'>RUNNING</a>"
      ],
      "text/plain": [
       "<IPython.core.display.HTML object>"
      ]
     },
     "metadata": {},
     "output_type": "display_data"
    },
    {
     "name": "stdout",
     "output_type": "stream",
     "text": [
      "4DNFID9QK6SH does not have the md5sum calculated during upload\n"
     ]
    },
    {
     "data": {
      "text/html": [
       "<a href='https://console.aws.amazon.com/states/home?region=us-east-1#/executions/details/arn:aws:states:us-east-1:643366669028:execution:tibanna_pony:md5_4DNFID9QK6SH' target='_blank'>RUNNING</a>"
      ],
      "text/plain": [
       "<IPython.core.display.HTML object>"
      ]
     },
     "metadata": {},
     "output_type": "display_data"
    },
    {
     "name": "stdout",
     "output_type": "stream",
     "text": [
      "4DNFI2CD8S67 does not have the md5sum calculated during upload\n"
     ]
    },
    {
     "data": {
      "text/html": [
       "<a href='https://console.aws.amazon.com/states/home?region=us-east-1#/executions/details/arn:aws:states:us-east-1:643366669028:execution:tibanna_pony:md5_4DNFI2CD8S67' target='_blank'>RUNNING</a>"
      ],
      "text/plain": [
       "<IPython.core.display.HTML object>"
      ]
     },
     "metadata": {},
     "output_type": "display_data"
    },
    {
     "name": "stdout",
     "output_type": "stream",
     "text": [
      "4DNFIULWI1B3 does not have the md5sum calculated during upload\n"
     ]
    },
    {
     "data": {
      "text/html": [
       "<a href='https://console.aws.amazon.com/states/home?region=us-east-1#/executions/details/arn:aws:states:us-east-1:643366669028:execution:tibanna_pony:md5_4DNFIULWI1B3' target='_blank'>RUNNING</a>"
      ],
      "text/plain": [
       "<IPython.core.display.HTML object>"
      ]
     },
     "metadata": {},
     "output_type": "display_data"
    },
    {
     "name": "stdout",
     "output_type": "stream",
     "text": [
      "4DNFIRGIBV63 does not have the md5sum calculated during upload\n"
     ]
    },
    {
     "data": {
      "text/html": [
       "<a href='https://console.aws.amazon.com/states/home?region=us-east-1#/executions/details/arn:aws:states:us-east-1:643366669028:execution:tibanna_pony:md5_4DNFIRGIBV63' target='_blank'>RUNNING</a>"
      ],
      "text/plain": [
       "<IPython.core.display.HTML object>"
      ]
     },
     "metadata": {},
     "output_type": "display_data"
    },
    {
     "name": "stdout",
     "output_type": "stream",
     "text": [
      "4DNFIA7QCP4U does not have the md5sum calculated during upload\n"
     ]
    },
    {
     "data": {
      "text/html": [
       "<a href='https://console.aws.amazon.com/states/home?region=us-east-1#/executions/details/arn:aws:states:us-east-1:643366669028:execution:tibanna_pony:md5_4DNFIA7QCP4U' target='_blank'>RUNNING</a>"
      ],
      "text/plain": [
       "<IPython.core.display.HTML object>"
      ]
     },
     "metadata": {},
     "output_type": "display_data"
    },
    {
     "name": "stdout",
     "output_type": "stream",
     "text": [
      "4DNFI823LSII does not have the md5sum calculated during upload\n"
     ]
    },
    {
     "data": {
      "text/html": [
       "<a href='https://console.aws.amazon.com/states/home?region=us-east-1#/executions/details/arn:aws:states:us-east-1:643366669028:execution:tibanna_pony:md5_4DNFI823LSII' target='_blank'>RUNNING</a>"
      ],
      "text/plain": [
       "<IPython.core.display.HTML object>"
      ]
     },
     "metadata": {},
     "output_type": "display_data"
    },
    {
     "name": "stdout",
     "output_type": "stream",
     "text": [
      "4DNFI823L812 does not have the md5sum calculated during upload\n"
     ]
    },
    {
     "data": {
      "text/html": [
       "<a href='https://console.aws.amazon.com/states/home?region=us-east-1#/executions/details/arn:aws:states:us-east-1:643366669028:execution:tibanna_pony:md5_4DNFI823L812' target='_blank'>RUNNING</a>"
      ],
      "text/plain": [
       "<IPython.core.display.HTML object>"
      ]
     },
     "metadata": {},
     "output_type": "display_data"
    },
    {
     "name": "stdout",
     "output_type": "stream",
     "text": [
      "4DNFI823L811 does not have the md5sum calculated during upload\n"
     ]
    },
    {
     "data": {
      "text/html": [
       "<a href='https://console.aws.amazon.com/states/home?region=us-east-1#/executions/details/arn:aws:states:us-east-1:643366669028:execution:tibanna_pony:md5_4DNFI823L811' target='_blank'>RUNNING</a>"
      ],
      "text/plain": [
       "<IPython.core.display.HTML object>"
      ]
     },
     "metadata": {},
     "output_type": "display_data"
    },
    {
     "name": "stdout",
     "output_type": "stream",
     "text": [
      "4DNFI823L888 does not have the md5sum calculated during upload\n"
     ]
    },
    {
     "data": {
      "text/html": [
       "<a href='https://console.aws.amazon.com/states/home?region=us-east-1#/executions/details/arn:aws:states:us-east-1:643366669028:execution:tibanna_pony:md5_4DNFI823L888' target='_blank'>RUNNING</a>"
      ],
      "text/plain": [
       "<IPython.core.display.HTML object>"
      ]
     },
     "metadata": {},
     "output_type": "display_data"
    },
    {
     "name": "stdout",
     "output_type": "stream",
     "text": [
      "4DNFI823LSI8 does not have the md5sum calculated during upload\n"
     ]
    },
    {
     "data": {
      "text/html": [
       "<a href='https://console.aws.amazon.com/states/home?region=us-east-1#/executions/details/arn:aws:states:us-east-1:643366669028:execution:tibanna_pony:md5_4DNFI823LSI8' target='_blank'>RUNNING</a>"
      ],
      "text/plain": [
       "<IPython.core.display.HTML object>"
      ]
     },
     "metadata": {},
     "output_type": "display_data"
    },
    {
     "name": "stdout",
     "output_type": "stream",
     "text": [
      "4DNFIZQZ39L9 does not have the md5sum calculated during upload\n"
     ]
    },
    {
     "data": {
      "text/html": [
       "<a href='https://console.aws.amazon.com/states/home?region=us-east-1#/executions/details/arn:aws:states:us-east-1:643366669028:execution:tibanna_pony:md5_4DNFIZQZ39L9' target='_blank'>RUNNING</a>"
      ],
      "text/plain": [
       "<IPython.core.display.HTML object>"
      ]
     },
     "metadata": {},
     "output_type": "display_data"
    },
    {
     "name": "stdout",
     "output_type": "stream",
     "text": [
      "4DNFIPPD9LQX does not have the md5sum calculated during upload\n"
     ]
    },
    {
     "data": {
      "text/html": [
       "<a href='https://console.aws.amazon.com/states/home?region=us-east-1#/executions/details/arn:aws:states:us-east-1:643366669028:execution:tibanna_pony:md5_4DNFIPPD9LQX' target='_blank'>RUNNING</a>"
      ],
      "text/plain": [
       "<IPython.core.display.HTML object>"
      ]
     },
     "metadata": {},
     "output_type": "display_data"
    },
    {
     "name": "stdout",
     "output_type": "stream",
     "text": [
      "4DNFI84C1FHM does not have the md5sum calculated during upload\n"
     ]
    },
    {
     "data": {
      "text/html": [
       "<a href='https://console.aws.amazon.com/states/home?region=us-east-1#/executions/details/arn:aws:states:us-east-1:643366669028:execution:tibanna_pony:md5_4DNFI84C1FHM' target='_blank'>RUNNING</a>"
      ],
      "text/plain": [
       "<IPython.core.display.HTML object>"
      ]
     },
     "metadata": {},
     "output_type": "display_data"
    },
    {
     "name": "stdout",
     "output_type": "stream",
     "text": [
      "4DNFIFL9Q6XO does not have the md5sum calculated during upload\n"
     ]
    },
    {
     "data": {
      "text/html": [
       "<a href='https://console.aws.amazon.com/states/home?region=us-east-1#/executions/details/arn:aws:states:us-east-1:643366669028:execution:tibanna_pony:md5_4DNFIFL9Q6XO' target='_blank'>RUNNING</a>"
      ],
      "text/plain": [
       "<IPython.core.display.HTML object>"
      ]
     },
     "metadata": {},
     "output_type": "display_data"
    },
    {
     "name": "stdout",
     "output_type": "stream",
     "text": [
      "4DNFIKEPY1D4 does not have the md5sum calculated during upload\n"
     ]
    },
    {
     "data": {
      "text/html": [
       "<a href='https://console.aws.amazon.com/states/home?region=us-east-1#/executions/details/arn:aws:states:us-east-1:643366669028:execution:tibanna_pony:md5_4DNFIKEPY1D4' target='_blank'>RUNNING</a>"
      ],
      "text/plain": [
       "<IPython.core.display.HTML object>"
      ]
     },
     "metadata": {},
     "output_type": "display_data"
    },
    {
     "name": "stdout",
     "output_type": "stream",
     "text": [
      "4DNFIJS9QYHN does not have the md5sum calculated during upload\n"
     ]
    },
    {
     "data": {
      "text/html": [
       "<a href='https://console.aws.amazon.com/states/home?region=us-east-1#/executions/details/arn:aws:states:us-east-1:643366669028:execution:tibanna_pony:md5_4DNFIJS9QYHN' target='_blank'>RUNNING</a>"
      ],
      "text/plain": [
       "<IPython.core.display.HTML object>"
      ]
     },
     "metadata": {},
     "output_type": "display_data"
    },
    {
     "name": "stdout",
     "output_type": "stream",
     "text": [
      "4DNFIIDYXJY6 does not have the md5sum calculated during upload\n"
     ]
    },
    {
     "data": {
      "text/html": [
       "<a href='https://console.aws.amazon.com/states/home?region=us-east-1#/executions/details/arn:aws:states:us-east-1:643366669028:execution:tibanna_pony:md5_4DNFIIDYXJY6' target='_blank'>RUNNING</a>"
      ],
      "text/plain": [
       "<IPython.core.display.HTML object>"
      ]
     },
     "metadata": {},
     "output_type": "display_data"
    },
    {
     "name": "stdout",
     "output_type": "stream",
     "text": [
      "4DNFIVMFPM8R does not have the md5sum calculated during upload\n"
     ]
    },
    {
     "data": {
      "text/html": [
       "<a href='https://console.aws.amazon.com/states/home?region=us-east-1#/executions/details/arn:aws:states:us-east-1:643366669028:execution:tibanna_pony:md5_4DNFIVMFPM8R' target='_blank'>RUNNING</a>"
      ],
      "text/plain": [
       "<IPython.core.display.HTML object>"
      ]
     },
     "metadata": {},
     "output_type": "display_data"
    },
    {
     "name": "stdout",
     "output_type": "stream",
     "text": [
      "4DNFICAVAIV4 does not have the md5sum calculated during upload\n"
     ]
    },
    {
     "data": {
      "text/html": [
       "<a href='https://console.aws.amazon.com/states/home?region=us-east-1#/executions/details/arn:aws:states:us-east-1:643366669028:execution:tibanna_pony:md5_4DNFICAVAIV4' target='_blank'>RUNNING</a>"
      ],
      "text/plain": [
       "<IPython.core.display.HTML object>"
      ]
     },
     "metadata": {},
     "output_type": "display_data"
    },
    {
     "name": "stdout",
     "output_type": "stream",
     "text": [
      "4DNFIMNAPJXH does not have the md5sum calculated during upload\n"
     ]
    },
    {
     "data": {
      "text/html": [
       "<a href='https://console.aws.amazon.com/states/home?region=us-east-1#/executions/details/arn:aws:states:us-east-1:643366669028:execution:tibanna_pony:md5_4DNFIMNAPJXH' target='_blank'>RUNNING</a>"
      ],
      "text/plain": [
       "<IPython.core.display.HTML object>"
      ]
     },
     "metadata": {},
     "output_type": "display_data"
    },
    {
     "name": "stdout",
     "output_type": "stream",
     "text": [
      "FINAL : 65 of 65 missing md5, 0 had no files on s3\n",
      "FINAL : 65 of 0 started, 0 started (had complete run before)\n"
     ]
    }
   ],
   "source": [
    "run_md5 = input(\"Do you wanna run md5 if missing? (md5/none)\")\n",
    "\n",
    "from contextlib import contextmanager\n",
    "import sys, os\n",
    "\n",
    "# supress output when activated (with supress_stdout():)\n",
    "@contextmanager\n",
    "def suppress_stdout():\n",
    "    with open(os.devnull, \"w\") as devnull:\n",
    "        old_stdout = sys.stdout\n",
    "        sys.stdout = devnull\n",
    "        try:  \n",
    "            yield\n",
    "        finally:\n",
    "            sys.stdout = old_stdout\n",
    "\n",
    "\n",
    "no_md5 = 0\n",
    "no_s3_file = 0\n",
    "started_missing = 0\n",
    "started_weird = 0\n",
    "\n",
    "printn = 0\n",
    "counter = 0\n",
    "for a_file in all_files:\n",
    "\n",
    "    counter += 1\n",
    "    # check for deleted or weird cases\n",
    "    try:\n",
    "        if a_file['status'] == 'deleted':\n",
    "            print(\"Deleted File\", a_file)\n",
    "            continue\n",
    "    except:\n",
    "        print(a_file)\n",
    "        break\n",
    "        \n",
    "    if counter-printn > 100:\n",
    "        rep = \"---{c} of {m} missing md5, {s3} had no files on s3\".format(c=counter, m=no_md5, s3=no_s3_file)\n",
    "        rep2 = \"---{c} of {s} started, {sw} started (had complete run before)\".format(c=counter, s=started_missing, sw=started_weird)\n",
    "        print(rep)\n",
    "        print(rep2)\n",
    "        printn = counter\n",
    "\n",
    "    if 'FileProcessed' in a_file['@type']:\n",
    "            my_bucket = out_bucket\n",
    "    else:  # covers cases of FileFastq, FileReference, FileMicroscopy\n",
    "            my_bucket = raw_bucket       \n",
    " \n",
    "    # check if file is in s3\n",
    "    with suppress_stdout():\n",
    "        head_info = my_s3_util.does_key_exist(a_file['upload_key'], my_bucket)\n",
    "    \n",
    "    if not head_info:\n",
    "        no_s3_file += 1\n",
    "        #print(a_file['accession'], a_file.get('aliases')[0], \"does not have a file in S3\")\n",
    "        continue\n",
    "        \n",
    "    # print(head_info['LastModified'])\n",
    "\n",
    "    file_id = a_file['accession']\n",
    "    status = a_file.get('status')\n",
    "    attributions = get_attribution(a_file)\n",
    "    \n",
    "    # is there md5sum for gzip\n",
    "    if not a_file.get('md5sum'):\n",
    "        print(file_id,\"does not have the md5sum calculated during upload\")\n",
    "        no_md5 += 1\n",
    "        \n",
    "        inp_f = {'input_file':a_file['@id']}\n",
    "        run_missing_wfr(step_settings('md5', 'no_organism', attributions), inp_f, file_id, my_auth, my_env, tag=\"\")\n",
    "   \n",
    "    \n",
    "#     # Assumes workflow_runs come in time ordered list, and grabs the last ones for each wf run\n",
    "#     md5_report = get_wfr_out(a_file['uuid'], \"md5\", my_auth, md_qc = True, run=12)\n",
    "    \n",
    "#     if md5_report['status'] == 'running':\n",
    "#         print(file_id, 'still running')\n",
    "#         continue \n",
    "    \n",
    "#     # Most probably the trigger did not work, and we run it manually \n",
    "#     if status in [\"uploading\", \"upload failed\"] and md5_report['status'] != 'complete':\n",
    "#         # if not, shall we run it?\n",
    "#         if run_md5 == 'md5':\n",
    "            \n",
    "#             print('md5 running for', file_id)\n",
    "#             inp_f = {'input_file':a_file['@id']}\n",
    "#             run_missing_wfr(step_settings('md5', 'no_organism', attributions), inp_f, file_id, my_auth, my_env, tag=\"\")\n",
    "#             started_missing += 1\n",
    "#             print()\n",
    "#         # user does not want it to be run, so just report\n",
    "#         else:\n",
    "#             print('md5 run missing for', file_id)\n",
    "    \n",
    "#     # There is a successful run, but status is not switched, happens whe a file is reuploaded. \n",
    "#     elif status in [\"uploading\", \"upload failed\"] and md5_report['status'] == 'complete':\n",
    "#         # if not, shall we run it?\n",
    "#         if run_md5 == 'md5':\n",
    "#             print('md5 running for', file_id, 'had a successful run and wrong status')\n",
    "#             inp_f = {'input_file':a_file['@id']}\n",
    "#             run_missing_wfr(step_settings('md5', 'no_organism', attributions), inp_f, file_id, my_auth, my_env, tag=\"\")\n",
    "#             started_weird += 1\n",
    "#             print()\n",
    "#         else:\n",
    "#             print('md5 run missing for', file_id, 'had a successful run and wrong status')\n",
    "#     else:\n",
    "#         print(\"SHOULD NOT PASS\", a_file['accession'], md5_report)\n",
    "        \n",
    "#     elif md5_status != 'complete':\n",
    "#         if a_file.get('content_md5sum'):\n",
    "#             print('md5run not linked to file')\n",
    "#             if run_md5 == 'md5':\n",
    "#                 print('md5 running for', file_id)\n",
    "#                 inp_f = {'input_file':a_file['@id']}\n",
    "#                 run_missing_wfr(step_settings('md5', 'no_organism', attributions), inp_f, file_id, my_auth, my_env, tag=\"\")\n",
    "#                 print()\n",
    "#         else:\n",
    "#             print(file_id,md5_status, status, 'switched status file does not have md5 run or content_md5sum')\n",
    "#             # if not, shall we run it?\n",
    "#             if run_md5 == 'md5':\n",
    "#                 print('md5 running for', file_id)\n",
    "#                 inp_f = {'input_file':a_file['@id']}\n",
    "#                 run_missing_wfr(step_settings('md5', 'no_organism', attributions), inp_f, file_id, my_auth, my_env, tag=\"\")\n",
    "#                 print()\n",
    "#     print()\n",
    "\n",
    "rep = \"FINAL : {c} of {m} missing md5, {s3} had no files on s3\".format(c=counter, m=no_md5, s3=no_s3_file)\n",
    "print(rep)\n",
    "rep2 = \"FINAL : {c} of {s} started, {sw} started (had complete run before)\".format(c=counter, s=started_missing, sw=started_weird)\n",
    "print(rep2)"
   ]
  },
  {
   "cell_type": "code",
   "execution_count": 15,
   "metadata": {},
   "outputs": [
    {
     "name": "stdout",
     "output_type": "stream",
     "text": [
      "5101\n",
      "pre-release in review by lab\n",
      "pre-release in review by lab\n",
      "pre-release in review by lab\n",
      "pre-release in review by lab\n",
      "pre-release in review by lab\n",
      "pre-release in review by lab\n",
      "pre-release in review by lab\n",
      "pre-release in review by lab\n",
      "pre-release in review by lab\n",
      "pre-release in review by lab\n",
      "pre-release in review by lab\n",
      "pre-release in review by lab\n",
      "pre-release in review by lab\n",
      "pre-release in review by lab\n",
      "pre-release in review by lab\n",
      "pre-release in review by lab\n",
      "pre-release in review by lab\n",
      "pre-release in review by lab\n",
      "pre-release in review by lab\n",
      "pre-release in review by lab\n",
      "pre-release in review by lab\n",
      "pre-release in review by lab\n",
      "pre-release in review by lab\n",
      "pre-release in review by lab\n",
      "pre-release in review by lab\n",
      "pre-release in review by lab\n",
      "pre-release in review by lab\n",
      "pre-release in review by lab\n",
      "pre-release in review by lab\n",
      "pre-release in review by lab\n",
      "pre-release in review by lab\n",
      "pre-release in review by lab\n",
      "pre-release in review by lab\n",
      "pre-release in review by lab\n",
      "pre-release in review by lab\n",
      "pre-release in review by lab\n",
      "pre-release in review by lab\n",
      "pre-release in review by lab\n",
      "pre-release in review by lab\n",
      "pre-release in review by lab\n",
      "pre-release in review by lab\n",
      "pre-release in review by lab\n",
      "pre-release in review by lab\n",
      "pre-release in review by lab\n",
      "pre-release in review by lab\n",
      "pre-release in review by lab\n",
      "pre-release in review by lab\n",
      "pre-release in review by lab\n",
      "pre-release in review by lab\n",
      "pre-release in review by lab\n",
      "pre-release in review by lab\n",
      "pre-release in review by lab\n",
      "pre-release in review by lab\n",
      "pre-release in review by lab\n",
      "pre-release in review by lab\n",
      "pre-release in review by lab\n",
      "pre-release in review by lab\n",
      "pre-release in review by lab\n",
      "pre-release in review by lab\n",
      "pre-release in review by lab\n",
      "pre-release in review by lab\n",
      "pre-release in review by lab\n",
      "pre-release in review by lab\n",
      "pre-release in review by lab\n",
      "pre-release in review by lab\n",
      "pre-release in review by lab\n",
      "pre-release in review by lab\n",
      "pre-release in review by lab\n",
      "pre-release in review by lab\n",
      "pre-release in review by lab\n",
      "pre-release in review by lab\n",
      "pre-release in review by lab\n",
      "pre-release in review by lab\n",
      "pre-release in review by lab\n",
      "pre-release in review by lab\n",
      "pre-release in review by lab\n",
      "pre-release in review by lab\n",
      "pre-release in review by lab\n",
      "pre-release in review by lab\n",
      "pre-release in review by lab\n",
      "pre-release in review by lab\n",
      "pre-release in review by lab\n",
      "pre-release in review by lab\n",
      "pre-release in review by lab\n",
      "pre-release in review by lab\n",
      "pre-release in review by lab\n",
      "pre-release in review by lab\n",
      "pre-release in review by lab\n",
      "pre-release in review by lab\n",
      "pre-release in review by lab\n",
      "pre-release in review by lab\n",
      "pre-release in review by lab\n",
      "pre-release in review by lab\n",
      "pre-release in review by lab\n",
      "pre-release in review by lab\n",
      "pre-release in review by lab\n",
      "released to project in review by lab\n",
      "released to project in review by lab\n",
      "released to project in review by lab\n",
      "released to project in review by lab\n",
      "released to project in review by lab\n",
      "released to project in review by lab\n",
      "released to project in review by lab\n",
      "replaced in review by lab\n",
      "replaced in review by lab\n",
      "replaced in review by lab\n",
      "replaced in review by lab\n",
      "replaced in review by lab\n",
      "108\n"
     ]
    }
   ],
   "source": [
    "### Check if md5 runs are in sync with file status\n",
    "import time\n",
    "from dcicutils import s3Utils\n",
    "from dcicutils import ff_utils\n",
    "from functions.wfr import *\n",
    "from functions.wfr_settings import *\n",
    "from functions.notebook_functions import *\n",
    "\n",
    "# get key from keypairs.json\n",
    "my_env = 'data'\n",
    "my_key = get_key('koray_data')\n",
    "\n",
    "\n",
    "md5_runs = '/search/?run_status=complete&status=in+review+by+lab&type=WorkflowRunAwsem&workflow.title=md5'\n",
    "md5_hits = ff_utils.search_metadata(md5_runs , key=my_key)\n",
    "\n",
    "print(len(md5_hits))\n",
    "\n",
    "prob = 0\n",
    "for a_run in md5_hits:\n",
    "    f_status = a_run['input_files'][0]['value']['status']\n",
    "    if f_status == 'uploaded':\n",
    "        continue\n",
    "    if f_status != a_run['status']:\n",
    "        print(f_status, a_run['status'])\n",
    "        prob += 1\n",
    "    \n",
    "print(prob)\n",
    "\n",
    "\n",
    "patch = True\n",
    "need_patch = 0\n",
    "need_patch_run = 0\n",
    "counter = 0"
   ]
  },
  {
   "cell_type": "code",
   "execution_count": 16,
   "metadata": {},
   "outputs": [
    {
     "name": "stdout",
     "output_type": "stream",
     "text": [
      "\n",
      "100\n",
      "\n",
      "200\n",
      "\n",
      "300\n",
      "\n",
      "400\n",
      "\n",
      "500\n",
      "\n",
      "600\n",
      "\n",
      "700\n",
      "\n",
      "800\n",
      "\n",
      "900\n",
      "\n",
      "1000\n",
      "\n",
      "1100\n",
      "\n",
      "1200\n",
      "\n",
      "1300\n",
      "pre-release in review by lab\n",
      "pre-release in review by lab\n",
      "pre-release in review by lab\n",
      "pre-release in review by lab\n",
      "pre-release in review by lab\n",
      "pre-release in review by lab\n",
      "pre-release in review by lab\n",
      "pre-release in review by lab\n",
      "pre-release in review by lab\n",
      "pre-release in review by lab\n",
      "pre-release in review by lab\n",
      "pre-release in review by lab\n",
      "pre-release in review by lab\n",
      "pre-release in review by lab\n",
      "pre-release in review by lab\n",
      "pre-release in review by lab\n",
      "pre-release in review by lab\n",
      "pre-release in review by lab\n",
      "pre-release in review by lab\n",
      "pre-release in review by lab\n",
      "pre-release in review by lab\n",
      "pre-release in review by lab\n",
      "pre-release in review by lab\n",
      "pre-release in review by lab\n",
      "pre-release in review by lab\n",
      "pre-release in review by lab\n",
      "pre-release in review by lab\n",
      "pre-release in review by lab\n",
      "pre-release in review by lab\n",
      "pre-release in review by lab\n",
      "pre-release in review by lab\n",
      "pre-release in review by lab\n",
      "pre-release in review by lab\n",
      "pre-release in review by lab\n",
      "pre-release in review by lab\n",
      "pre-release in review by lab\n",
      "pre-release in review by lab\n",
      "pre-release in review by lab\n",
      "pre-release in review by lab\n",
      "pre-release in review by lab\n",
      "pre-release in review by lab\n",
      "pre-release in review by lab\n",
      "pre-release in review by lab\n",
      "pre-release in review by lab\n",
      "pre-release in review by lab\n",
      "pre-release in review by lab\n",
      "pre-release in review by lab\n",
      "pre-release in review by lab\n",
      "pre-release in review by lab\n",
      "pre-release in review by lab\n",
      "pre-release in review by lab\n",
      "pre-release in review by lab\n",
      "pre-release in review by lab\n",
      "pre-release in review by lab\n",
      "pre-release in review by lab\n",
      "pre-release in review by lab\n",
      "pre-release in review by lab\n",
      "pre-release in review by lab\n",
      "\n",
      "1400\n",
      "pre-release in review by lab\n",
      "pre-release in review by lab\n",
      "pre-release in review by lab\n",
      "pre-release in review by lab\n",
      "pre-release in review by lab\n",
      "pre-release in review by lab\n",
      "pre-release in review by lab\n",
      "pre-release in review by lab\n",
      "pre-release in review by lab\n",
      "pre-release in review by lab\n",
      "pre-release in review by lab\n",
      "pre-release in review by lab\n",
      "pre-release in review by lab\n",
      "pre-release in review by lab\n",
      "pre-release in review by lab\n",
      "pre-release in review by lab\n",
      "pre-release in review by lab\n",
      "pre-release in review by lab\n",
      "pre-release in review by lab\n",
      "pre-release in review by lab\n",
      "pre-release in review by lab\n",
      "pre-release in review by lab\n",
      "pre-release in review by lab\n",
      "pre-release in review by lab\n",
      "pre-release in review by lab\n",
      "pre-release in review by lab\n",
      "pre-release in review by lab\n",
      "pre-release in review by lab\n",
      "pre-release in review by lab\n",
      "pre-release in review by lab\n",
      "pre-release in review by lab\n",
      "pre-release in review by lab\n",
      "pre-release in review by lab\n",
      "pre-release in review by lab\n",
      "pre-release in review by lab\n",
      "pre-release in review by lab\n",
      "pre-release in review by lab\n",
      "pre-release in review by lab\n",
      "released to project in review by lab\n",
      "released to project in review by lab\n",
      "released to project in review by lab\n",
      "\n",
      "1500\n",
      "\n",
      "1600\n",
      "\n",
      "1700\n",
      "\n",
      "1800\n",
      "\n",
      "1900\n",
      "\n",
      "2000\n",
      "\n",
      "2100\n",
      "\n",
      "2200\n",
      "\n",
      "2300\n",
      "\n",
      "2400\n",
      "\n",
      "2500\n",
      "\n",
      "2600\n",
      "\n",
      "2700\n",
      "\n",
      "2800\n",
      "\n",
      "2900\n",
      "\n",
      "3000\n",
      "\n",
      "3100\n",
      "\n",
      "3200\n",
      "\n",
      "3300\n",
      "\n",
      "3400\n",
      "\n",
      "3500\n",
      "\n",
      "3600\n",
      "\n",
      "3700\n",
      "\n",
      "3800\n",
      "released to project in review by lab\n",
      "released to project in review by lab\n",
      "released to project in review by lab\n",
      "released to project in review by lab\n",
      "\n",
      "3900\n",
      "\n",
      "4000\n",
      "\n",
      "4100\n",
      "\n",
      "4200\n",
      "\n",
      "4300\n",
      "\n",
      "4400\n",
      "\n",
      "4500\n",
      "\n",
      "4600\n",
      "\n",
      "4700\n",
      "\n",
      "4800\n",
      "\n",
      "4900\n",
      "\n",
      "5000\n",
      "\n",
      "5100\n",
      "5101\n"
     ]
    }
   ],
   "source": [
    "# patch the status\n",
    "counter = 0\n",
    "for a_run in md5_hits:\n",
    "    counter += 1\n",
    "    if counter % 100 == 0:\n",
    "        print()\n",
    "        print(counter)\n",
    "    f_status = a_run['input_files'][0]['value']['status']\n",
    "    if f_status in ['archived', 'released', 'released to project', 'pre-release']:\n",
    "        print(f_status, a_run['status'])\n",
    "        ff_utils.patch_metadata({\"status\": f_status}, obj_id=a_run['uuid'] ,key=my_key)\n",
    "print(counter)\n",
    "    \n",
    "       "
   ]
  },
  {
   "cell_type": "code",
   "execution_count": null,
   "metadata": {},
   "outputs": [],
   "source": []
  }
 ],
 "metadata": {
  "anaconda-cloud": {},
  "kernelspec": {
   "display_name": "Python 3",
   "language": "python",
   "name": "python3"
  },
  "language_info": {
   "codemirror_mode": {
    "name": "ipython",
    "version": 3
   },
   "file_extension": ".py",
   "mimetype": "text/x-python",
   "name": "python",
   "nbconvert_exporter": "python",
   "pygments_lexer": "ipython3",
   "version": "3.5.2"
  }
 },
 "nbformat": 4,
 "nbformat_minor": 2
}
