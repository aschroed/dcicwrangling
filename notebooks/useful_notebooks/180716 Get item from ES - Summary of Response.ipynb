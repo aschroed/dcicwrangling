{
 "cells": [
  {
   "cell_type": "code",
   "execution_count": 5,
   "metadata": {},
   "outputs": [
    {
     "name": "stdout",
     "output_type": "stream",
     "text": [
      "#SUMMARY\n",
      "[uuid]       item uuid is dfc5e2b1-ccc7-4337-a292-fce5b519099f\n",
      "[item_type] item type is experiment_hi_c\n",
      "\n",
      "#FRAMES\n",
      "[properties] raw frame has 38 keys (uuid is not in)\n",
      "[object]     object frame has 50 keys\n",
      "[embedded]   embedded frame has 50 keys\n",
      "\n",
      "#CONNECTIONS\n",
      "[links]          has 22 fields which are linkTo\n",
      "[links]          has 26 linkTo items\n",
      "[uuids_rev_linked_to_me] has 16 other items linking to item of interest\n",
      "[linked_uuids]   has 48 total linked items (items whose change will effect this one)\n",
      "\n",
      "OTHER keys from response\n",
      "['paths', 'principals_allowed', 'propsheets', 'sid', 'uuids_rev_linked_to_me', 'unique_keys', 'audit']\n",
      "{'static_headers': [], 'badges~badge': [], 'lab': ['06d4f485-ccf2-4332-b226-d8a05e5497db'], 'references': [], 'award': ['12a92962-8265-4fc0-b2f8-cf14f05db58b'], 'experiment_relation~experiment': ['cf441a1c-23ce-4390-ad19-8e20d54c09cc', 'cbabaf13-d076-4ed0-83ed-b8b58e829b17'], 'processed_files': [], 'sop_mapping~sop_map': [], 'filesets': [], 'other_processed_files~files': [], 'protocol_variation': [], 'documents': [], 'biosample': ['92f95a5e-e8dd-43a8-a7d1-11617cfb7258'], 'contributing_labs': ['82ebab19-8a20-47c5-baeb-9a08a9524b10'], 'protocol': ['a5ee0c2d-aa4a-4a39-a84d-c022bc2b0096'], 'reference_files': [], 'authentication_docs': [], 'last_modified~modified_by': ['e2324f87-0625-4bbc-803b-d47677aebe08'], 'submitted_by': ['986b362f-4eb6-4a9c-8173-3ab267307e3a'], 'digestion_enzyme': ['2ace2f00-c913-4bac-a6ef-0b316bc2108e'], 'quality_metric_flags': [], 'files': ['5085bdd6-ecb2-4034-994b-2165ef4d8551', '9a63efb3-68ac-457a-b744-c1a588795f4e', '2ffe62d8-b217-421a-8ba6-ebf5d9dd0727', '9b6b5992-e023-4625-bac3-80a647c45b82', '8af639ee-1f46-491d-9bc1-b98835a60afd', 'ee750cc1-f13a-485f-969f-ae760ddf5a74', '05c15f05-334b-4aae-b194-6fad149f3074', '376f9a1a-4c86-4291-9301-c8181c55993d', '3a765324-a124-46ea-a9e8-f0bcd79171c9', 'b3c97391-27ce-4df4-9d30-6939e12d5dd2', 'd39dd0e2-8e57-49a2-b282-90cd7f26ff3d', '6e388e20-9ac7-4653-a724-95f6ff737448', '1c943d9b-182f-4cc7-a604-570f864c517d', '0fda1df4-2031-4f13-95d9-e6b793c82d73', '71e602dd-98ee-492a-acc1-8ad3e3f47ec8', 'c443771a-2409-4523-9b0e-7e36e76b4024']}\n",
      "static_headers\n",
      "badges~badge\n",
      "lab\n",
      "references\n",
      "award\n",
      "experiment_relation~experiment\n",
      "processed_files\n",
      "sop_mapping~sop_map\n",
      "filesets\n",
      "other_processed_files~files\n",
      "protocol_variation\n",
      "documents\n",
      "biosample\n",
      "contributing_labs\n",
      "protocol\n",
      "reference_files\n",
      "authentication_docs\n",
      "last_modified~modified_by\n",
      "submitted_by\n",
      "digestion_enzyme\n",
      "quality_metric_flags\n",
      "files\n"
     ]
    }
   ],
   "source": [
    "### PLEASE COPY NOTEBOOKS TO YOUR FOLDERS TO PREVENT COMMIT CONFLICTS\n",
    "\n",
    "# The ES database can be accessed directly (as opposed to getting items from Fourfront)\n",
    "# The item contains all frames, and also linked uuids.\n",
    "# Here is a sample script to get some items from es database\n",
    "\n",
    "from dcicutils import ff_utils\n",
    "from functions.notebook_functions import get_key\n",
    "\n",
    "my_key = get_key('koray_data')\n",
    "test_item = 'dfc5e2b1-ccc7-4337-a292-fce5b519099f'\n",
    "\n",
    "res = ff_utils.get_es_metadata([test_item], key=my_key)[0]\n",
    "print('#SUMMARY')\n",
    "print('[uuid]       item uuid is', res['uuid'])\n",
    "print('[item_type] item type is', res['item_type'])\n",
    "print('\\n#FRAMES')\n",
    "print('[properties] raw frame has', len(res['properties'].keys()), 'keys (uuid is not in)')\n",
    "print('[object]     object frame has', len(res['object'].keys()), 'keys')\n",
    "print('[embedded]   embedded frame has', len(res['embedded'].keys()), 'keys')\n",
    "print('\\n#CONNECTIONS')\n",
    "print('[links]          has', len(res['links'].keys()), 'fields which are linkTo')\n",
    "direct_links = []\n",
    "for key in res['links']:\n",
    "    direct_links.extend(res['links'][key])\n",
    "print('[links]          has', len(direct_links), 'linkTo items')\n",
    "print('[uuids_rev_linked_to_me] has', len(res['uuids_rev_linked_to_me']), 'other items linking to item of interest')\n",
    "print('[linked_uuids]   has', len(res['linked_uuids']), 'total linked items (items whose change will effect this one)')\n",
    "\n",
    "print('\\nOTHER keys from response')\n",
    "print([i for i in res.keys() if i not in 'uuid item_type properties object embedded links linked_uuids'.split(' ')])\n",
    "\n",
    "print(res['links'])\n",
    "for i in res['links']:\n",
    "    print(i)"
   ]
  },
  {
   "cell_type": "code",
   "execution_count": null,
   "metadata": {},
   "outputs": [],
   "source": []
  }
 ],
 "metadata": {
  "kernelspec": {
   "display_name": "Python 3",
   "language": "python",
   "name": "python3"
  },
  "language_info": {
   "codemirror_mode": {
    "name": "ipython",
    "version": 3
   },
   "file_extension": ".py",
   "mimetype": "text/x-python",
   "name": "python",
   "nbconvert_exporter": "python",
   "pygments_lexer": "ipython3",
   "version": "3.5.2"
  }
 },
 "nbformat": 4,
 "nbformat_minor": 2
}
