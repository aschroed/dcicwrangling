{
 "cells": [
  {
   "cell_type": "code",
   "execution_count": 1,
   "metadata": {},
   "outputs": [
    {
     "name": "stdout",
     "output_type": "stream",
     "text": [
      "WORKING ON https://data.4dnucleome.org \n",
      "\n",
      "dict_keys(['experiment_hi_c'])\n",
      "3\n",
      "\n",
      "dict_keys(['file_processed', 'award', 'file_format', 'user', 'static_section', 'protocol', 'ontology_term', 'biosample_cell_culture', 'biosource', 'organism', 'individual_mouse', 'biosample', 'lab', 'modification', 'ontology', 'imaging_path', 'microscope_setting_a2', 'vendor', 'experiment_mic', 'experiment_set_replicate', 'target'])\n",
      "60\n"
     ]
    }
   ],
   "source": [
    "### PLEASE COPY NOTEBOOKS TO YOUR FOLDERS TO PREVENT COMMIT CONFLICTS\n",
    "from dcicutils import ff_utils\n",
    "from functions.notebook_functions import *\n",
    "import json\n",
    "\n",
    "# get key from keypairs.json\n",
    "my_key = get_key('koray_data')\n",
    "schema_name = get_schema_names(my_key) \n",
    "print('WORKING ON', my_key['server'], '\\n')\n",
    "\n",
    "##### COLLECT ITEMS TO Release #####\n",
    "# use either a starting item to fetch all linked items\n",
    "\n",
    "# Use a starting item to find linked ones\n",
    "# starting_items = ['46db06ad-b399-4cf4-9acc-07b3e25ef132']\n",
    "#add_items = get_query_or_linked(my_key, linked=starting_items)\n",
    "\n",
    "# or a search query\n",
    "#my_query = '/search/?q=GOLD&type=Item&limit=all'\n",
    "#add_items = get_query_or_linked(my_key, query=my_query)\n",
    "\n",
    "# if you want you can dump them to separate json files (will work as test insert)\n",
    "# dump_to_json(add_items, destination folder)\n",
    "\n",
    "my_query = '/search/?biosample.biosource.individual.organism.name=mouse&biosample.biosource_summary=ES-E14&experiment_type=in%20situ%20Hi-C&type=ExperimentHiC'\n",
    "store = get_query_or_linked(my_key, query=my_query)\n",
    "print(store.keys())\n",
    "print(len([i['uuid'] for key in store for i in store[key]]))\n",
    "print()\n",
    "\n",
    "find_linked = ['a137500c-b54e-4076-9a6b-3628281d701e']\n",
    "store = get_query_or_linked(my_key, linked=find_linked)\n",
    "print(store.keys())\n",
    "print(len([i['uuid'] for key in store for i in store[key]]))\n"
   ]
  },
  {
   "cell_type": "code",
   "execution_count": 2,
   "metadata": {},
   "outputs": [
    {
     "name": "stdout",
     "output_type": "stream",
     "text": [
      "{'accession': '4DNBSSOXLHCL', 'uuid': 'f170ccae-b91a-43b2-81a1-4458a130874b', 'biosample_type': 'stem cells', 'external_references': [], 'description': '', '@id': '/biosamples/4DNBSSOXLHCL/', 'treatments': [], 'project_release': '2018-07-27', 'lab': '/labs/xavier-darzacq-lab/', 'link_id': '~biosamples~4DNBSSOXLHCL~', 'aliases': ['xavier-darzacq-lab:spot_on_biosample_jm8n4T2_halo_flag_sox2_4'], 'public_release': '2018-07-27', 'last_modified': {'date_modified': '2018-07-27T19:44:07.384216+00:00', 'modified_by': '/users/986b362f-4eb6-4a9c-8173-3ab267111888/'}, 'treatments_summary': 'None', 'schema_version': '1', 'date_created': '2018-07-20T20:29:51.569863+00:00', 'biosample_protocols': ['/protocols/5869253d-48bb-413c-8486-518d01e53400/'], 'award': '/awards/1U01EB021236-01/', 'principals_allowed': {'view': ['system.Everyone'], 'audit': ['system.Everyone'], 'edit': ['group.admin']}, 'display_title': '4DNBSSOXLHCL', 'modifications_summary': 'Crispr', '@type': ['Biosample', 'Item'], 'biosource': ['/biosources/4DNSRHAXQ8PG/'], 'modifications_summary_short': 'Crispr', 'cell_culture_details': '/biosample-cell-cultures/cd4e7606-896f-4887-a9b3-cbfd42d30e5c/', 'submitted_by': '/users/014c48c0-a6de-485d-8ba8-5a88f20cc3ba/', 'modifications': ['/modifications/d448b665-36a5-4215-ac8a-1bec636ad52a/'], 'biosource_summary': 'JM8.N4 (Tier 2)', 'status': 'released'}\n"
     ]
    }
   ],
   "source": [
    "print(store['biosample'][0])"
   ]
  },
  {
   "cell_type": "code",
   "execution_count": null,
   "metadata": {},
   "outputs": [],
   "source": [
    "# Sample code to Release the items, modify as you wish\n",
    "action = input('Do you want to perform patches, or only reporting (True/False):')\n",
    "change_status = 'released'\n",
    "\n",
    "counter = 0\n",
    "for a_type in store:\n",
    "    for raw_data in store[a_type]:\n",
    "        item_status = raw_data['status']\n",
    "        if item_status in ['deleted']: \n",
    "            print('Deleted data', a_type ,raw_data['uuid'])\n",
    "            continue\n",
    "        if item_status in ['current', 'released', change_status]:\n",
    "            print('Already has status', item_status, a_type ,raw_data['uuid'])\n",
    "            continue\n",
    "             \n",
    "        counter +=1\n",
    "        print(a_type, raw_data['status'], raw_data['uuid'])\n",
    "        patch_data = {'status': change_status}\n",
    "        if action:\n",
    "            resp = 'n'\n",
    "            if a_type in ['publication', 'user', 'award', 'vendor', 'organism', ]:\n",
    "                q = 'Do you want to update item {} to status to CURRENT? (y/n):'.format(a_type+'/'+raw_data['uuid'])\n",
    "                resp = input(q)\n",
    "                if resp == 'y':\n",
    "                    ff_utils.patch_metadata({'status': 'current'}, obj_id=raw_data['uuid'] ,key=my_auth)\n",
    "            else:\n",
    "                ff_utils.patch_metadata(patch_data, obj_id=raw_data['uuid'] ,key=my_auth)\n",
    "\n",
    "            \n",
    "print(counter)"
   ]
  },
  {
   "cell_type": "code",
   "execution_count": null,
   "metadata": {},
   "outputs": [],
   "source": []
  }
 ],
 "metadata": {
  "kernelspec": {
   "display_name": "Python 3",
   "language": "python",
   "name": "python3"
  },
  "language_info": {
   "codemirror_mode": {
    "name": "ipython",
    "version": 3
   },
   "file_extension": ".py",
   "mimetype": "text/x-python",
   "name": "python",
   "nbconvert_exporter": "python",
   "pygments_lexer": "ipython3",
   "version": "3.5.2"
  }
 },
 "nbformat": 4,
 "nbformat_minor": 2
}
