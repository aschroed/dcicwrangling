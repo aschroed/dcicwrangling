{
 "cells": [
  {
   "cell_type": "code",
   "execution_count": 15,
   "metadata": {},
   "outputs": [],
   "source": [
    "from dcicutils import ff_utils\n",
    "from functions.notebook_functions import *\n",
    "\n",
    "# get key from file\n",
    "my_key = get_key('koray_data')\n",
    "# all usable env names\n",
    "all_envs = ['data', 'staging', 'fourfront-webdev', 'fourfront-mastertest', 'fourfront-hotseat']\n",
    "# get admin key from s3\n",
    "my_key = ff_utils.get_authentication_with_server({}, ff_env = 'fourfront-hotseat')"
   ]
  },
  {
   "cell_type": "code",
   "execution_count": 16,
   "metadata": {},
   "outputs": [
    {
     "name": "stdout",
     "output_type": "stream",
     "text": [
      "49\n"
     ]
    }
   ],
   "source": [
    "q = '/search/?type=FileReference'\n",
    "gen = ff_utils.search_metadata(q, key=my_key)\n",
    "print(len(gen))"
   ]
  },
  {
   "cell_type": "code",
   "execution_count": 17,
   "metadata": {},
   "outputs": [
    {
     "name": "stdout",
     "output_type": "stream",
     "text": [
      "acc is fine\n",
      "4DNFI0NK4G14 4DNFIONK4G14\n",
      "acc is fine\n",
      "4DNFI3HVU20D 4DNFI3HVU2OD\n",
      "acc is fine\n",
      "4DNFIBNAPW30 4DNFIBNAPW3O\n"
     ]
    }
   ],
   "source": [
    "for f in gen:\n",
    "    if '0' in f['accession']:\n",
    "        acc = f['accession'].replace('0', 'O')\n",
    "        try:\n",
    "            e = ff_utils.get_metadata(acc, key = my_key)\n",
    "            print('accession with O exists already, skipped')\n",
    "            continue\n",
    "        except:\n",
    "            print('acc is fine')\n",
    "        \n",
    "        #ff_utils.patch_metadata({'accession':acc}, obj_id=f['uuid'], key = my_key)\n",
    "        \n",
    "        \n",
    "        print(f['accession'], acc)\n"
   ]
  },
  {
   "cell_type": "code",
   "execution_count": null,
   "metadata": {},
   "outputs": [],
   "source": []
  }
 ],
 "metadata": {
  "kernelspec": {
   "display_name": "Python 3",
   "language": "python",
   "name": "python3"
  },
  "language_info": {
   "codemirror_mode": {
    "name": "ipython",
    "version": 3
   },
   "file_extension": ".py",
   "mimetype": "text/x-python",
   "name": "python",
   "nbconvert_exporter": "python",
   "pygments_lexer": "ipython3",
   "version": "3.5.2"
  }
 },
 "nbformat": 4,
 "nbformat_minor": 2
}
