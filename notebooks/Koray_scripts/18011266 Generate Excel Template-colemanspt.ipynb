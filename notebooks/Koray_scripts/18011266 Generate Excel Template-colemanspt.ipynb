{
 "cells": [
  {
   "cell_type": "code",
   "execution_count": 42,
   "metadata": {},
   "outputs": [
    {
     "name": "stdout",
     "output_type": "stream",
     "text": [
      "Python 3.5.2\r\n"
     ]
    }
   ],
   "source": [
    "!python --version"
   ]
  },
  {
   "cell_type": "code",
   "execution_count": 16,
   "metadata": {},
   "outputs": [],
   "source": [
    "### PLEASE COPY NOTEBOOKS TO YOUR FOLDERS TO PREVENT COMMIT CONFLICTS\n",
    "\n",
    "from dcicutils import ff_utils\n",
    "from functions.notebook_functions import *\n",
    "import xlrd\n",
    "import xlwt\n",
    "import json\n",
    "\n",
    "# get key from keypairs.json\n",
    "my_key = get_key('koray_data')\n",
    "schema_name = get_schema_names(my_key) \n",
    "\n",
    "# template excel\n",
    "excel_file = '/Users/koray/Desktop/Wrangling/Labs/Coleman/160515_spt_template.xls'\n",
    "\n",
    "# summary excel\n",
    "summary_file = '/Users/koray/Desktop/Wrangling/Labs/Coleman/4DN_SubmissionInfo_Kenworthy.xlsx'\n",
    "\n",
    "#alias pre text\n",
    "submitter_lab = 'robert-coleman-lab:'\n",
    "\n",
    "#biosource\n",
    "bio_source = '4dn-dcic-lab:u2os_cells'\n",
    "\n",
    "#project_name\n",
    "project = 'BAF180'"
   ]
  },
  {
   "cell_type": "code",
   "execution_count": 17,
   "metadata": {},
   "outputs": [
    {
     "name": "stdout",
     "output_type": "stream",
     "text": [
      "56 lines on summary file\n",
      "{'Experiment Sets (alias root)': 'Halo_BAF180WT_SAHA', 'Set Description': 'SPT experiments on U2OS Cells stably expressing Halo-BAF180WT following SAHA treatment ', 'Cell Line': 'U20S', 'index': None, 'Number of Raw Files': 5.0, 'Number of Processed Files': 5, 'Biosample (alias root)': 'Halo_BAF180WT_SAHA_B1', 'Experiment (alias root)': 'Halo_BAF180WT_SAHA_B1'}\n"
     ]
    }
   ],
   "source": [
    "import pandas as pd\n",
    "# turn excel to pandas dataframe\n",
    "df_sum= pd.read_excel(summary_file, index_col=None)\n",
    "# create a new index\n",
    "df_sum.reset_index(inplace=True)\n",
    "# convert nan to None\n",
    "df_sum = df_sum.where((pd.notnull(df_sum)), None)\n",
    "# convert pandas dataframe to python list of dict\n",
    "sum_list = df_sum.to_dict(orient='records')\n",
    "print(len(sum_list), \"lines on summary file\")\n",
    "print(sum_list[0])"
   ]
  },
  {
   "cell_type": "code",
   "execution_count": 18,
   "metadata": {},
   "outputs": [
    {
     "name": "stdout",
     "output_type": "stream",
     "text": [
      "{'biosample_cell_culture': [], 'imaging_path': [], 'file_microscopy': [], 'protocol': [], 'experiment_mic': [], 'file_processed': [], 'biosample': [], 'experiment_set_replicate': [], 'publication': [], 'microscope_setting_a2': [{'tier_level': 'A2', 'aliases': ['robert-coleman-lab:mic_set_BAF180']}]}\n"
     ]
    }
   ],
   "source": [
    "TEMPO = {'imaging_path': [], \n",
    "        'protocol': [], \n",
    "        'file_processed': [],\n",
    "        'file_microscopy': [],\n",
    "        'experiment_mic': [], \n",
    "        'microscope_setting_a2': [], \n",
    "        'biosample_cell_culture': [], \n",
    "        'biosample': [], \n",
    "        'experiment_set_replicate': [],\n",
    "        'publication':[]}\n",
    "\n",
    "# Generate settings that is common to all\n",
    "setting_alias = submitter_lab + 'mic_set_' + project\n",
    "TEMPO['microscope_setting_a2'].append({'aliases':[setting_alias], 'tier_level': 'A2'})\n",
    "print(TEMPO)\n",
    "\n",
    "# Generate 2 protocols\n",
    "experiment_protocol = submitter_lab + 'protocol_experiment_' + project\n",
    "\n",
    "biosample_protocol = submitter_lab + 'protocol_biosample_' + project\n",
    "\n",
    "TEMPO['protocol'].extend(\n",
    "    [\n",
    "    {'aliases':[experiment_protocol], \n",
    "     \"protocol_type\": \"Experimental protocol\"\n",
    "    },\n",
    "    {'aliases':[biosample_protocol],\n",
    "     \"protocol_type\":\"Cell culture protocol\"\n",
    "    }\n",
    "    ]\n",
    ")\n"
   ]
  },
  {
   "cell_type": "code",
   "execution_count": 19,
   "metadata": {
    "scrolled": false
   },
   "outputs": [
    {
     "name": "stdout",
     "output_type": "stream",
     "text": [
      "robert-coleman-lab:Halo_BAF180WT_SAHA\n",
      "robert-coleman-lab:Halo_BAF180WT_DMSO\n",
      "robert-coleman-lab:Halo_BAF180_BDdel_SAHA\n",
      "robert-coleman-lab:Halo_BAF180_Bddel_DMSO\n",
      "robert-coleman-lab:Halo_BAF180WT_SNAP_HP1a\n",
      "robert-coleman-lab:Halo_BAF180WT_H3.3_SNAP\n",
      "robert-coleman-lab:Halo_BAF180_Bddel_SNAP_HP1a\n",
      "robert-coleman-lab:Halo_BAF180_Bddel_H3.3_SNAP\n"
     ]
    }
   ],
   "source": [
    "def add_to_dict(pre_alias, typ, main_dict, other_val={}):\n",
    "    dict_to_add = {}\n",
    "    dict_to_add['aliases'] = [pre_alias,]\n",
    "    if other_val:\n",
    "        for i in other_val:\n",
    "            dict_to_add[i] = other_val[i]\n",
    "    main_dict[typ].append(dict_to_add)\n",
    "    return main_dict\n",
    "\n",
    "\n",
    "import copy\n",
    "TEMP = copy.deepcopy(TEMPO)\n",
    "\n",
    "all_sets = []\n",
    "for num, line in enumerate(sum_list): \n",
    "    #ADD SET\n",
    "    if line['Experiment Sets (alias root)']:\n",
    "        my_set = submitter_lab + line['Experiment Sets (alias root)']\n",
    "        print(my_set)\n",
    "        all_sets.append(my_set)\n",
    "        TEMP = add_to_dict(my_set, 'experiment_set_replicate', TEMP, {'description':line['Set Description']})\n",
    "    #ADD BCC\n",
    "    my_bcc = submitter_lab + 'bcc_' + line['Biosample (alias root)']\n",
    "    TEMP = add_to_dict(my_bcc, 'biosample_cell_culture' , TEMP)\n",
    "    #ADD BIOSAMPLE\n",
    "    my_biosample = submitter_lab+'biosample_' + line['Biosample (alias root)']\n",
    "    extra = {'biosource':bio_source, 'cell_culture_details': my_bcc, 'biosample_protocols':biosample_protocol}\n",
    "    TEMP = add_to_dict(my_biosample, 'biosample', TEMP, extra)\n",
    "    \n",
    "    \n",
    "    #DEFINE EXPERIMENT\n",
    "    my_exp = submitter_lab + line['Experiment (alias root)']\n",
    "    \n",
    "    # ADD FILES\n",
    "    raw_files = []\n",
    "    proc_files = []\n",
    "    \n",
    "    if line['Number of Raw Files']:\n",
    "        for n in range(int(line['Number of Raw Files'])):\n",
    "            raw_f_alias = my_exp + '_raw_file_' + str(n+1)\n",
    "            raw_files.append(raw_f_alias)\n",
    "            TEMP = add_to_dict(raw_f_alias, 'file_microscopy', TEMP)\n",
    "  \n",
    "    if line['Number of Processed Files']:\n",
    "        for n in range(int(line['Number of Processed Files'])):\n",
    "            extra = {'file_format': 'spt',\n",
    "                    'file_type': 'spt results'}\n",
    "            proc_f_alias = my_exp + '_proc_file_' + str(n+1)\n",
    "            proc_files.append(proc_f_alias)\n",
    "            TEMP = add_to_dict(proc_f_alias, 'file_processed', TEMP, extra)\n",
    "\n",
    "    \n",
    "    #ADD EXPERIMENT\n",
    "    extra = {'replicate_set':my_set, 'protocol':experiment_protocol, 'biosample':my_biosample,\n",
    "             'experiment_type': \"SPT\", \"microscope_settings_master\": setting_alias}\n",
    "    if raw_files:\n",
    "        extra['files'] = raw_files\n",
    "    if proc_files:\n",
    "        extra['processed_files'] = proc_files\n",
    "    exp_pieces = my_exp.split('_')\n",
    "    if exp_pieces[-1].startswith('B'):\n",
    "        extra['bio_rep_no'] = exp_pieces[-1][1:]\n",
    "        extra['tec_rep_no'] = '1'\n",
    "    elif exp_pieces[-1].startswith('T'):\n",
    "        extra['bio_rep_no'] = exp_pieces[-2][1:]\n",
    "        extra['tec_rep_no'] = exp_pieces[-1][1:]\n",
    "    TEMP = add_to_dict(my_exp, 'experiment_mic', TEMP, extra)\n",
    "    \n",
    "# ADD PUBLICATION\n",
    "my_pub = submitter_lab + 'publication_' + project\n",
    "extra = {'exp_sets_prod_in_pub': all_sets}\n",
    "TEMP = add_to_dict(my_pub, 'publication', TEMP, extra)\n",
    "\n",
    "# for i in TEMP:\n",
    "#     print(i)\n",
    "#     if TEMP[i]:\n",
    "#         for x in TEMP[i]:\n",
    "#             print(x)\n",
    "#         print()\n",
    "#     print()\n",
    "#     print('--------------')\n",
    "            \n",
    "    "
   ]
  },
  {
   "cell_type": "code",
   "execution_count": 20,
   "metadata": {},
   "outputs": [],
   "source": [
    "# duplicate mic to mic path\n",
    "TEMP['experiment_mic_path'] = TEMP['experiment_mic']\n",
    "schema_name = get_schema_names(my_key) \n",
    "schema_name['ExperimentMic_Path'] = 'experiment_mic_path'"
   ]
  },
  {
   "cell_type": "code",
   "execution_count": 21,
   "metadata": {},
   "outputs": [
    {
     "name": "stdout",
     "output_type": "stream",
     "text": [
      "new excel is stored as /Users/koray/Desktop/Wrangling/Labs/Coleman/160515_spt_template_with_items.xls\n"
     ]
    }
   ],
   "source": [
    "append_items_to_xls(excel_file, TEMP, schema_name, comment = False)"
   ]
  },
  {
   "cell_type": "code",
   "execution_count": 7,
   "metadata": {},
   "outputs": [
    {
     "name": "stdout",
     "output_type": "stream",
     "text": [
      "robert-coleman-lab:Halo_BAF180WT_SAHA, robert-coleman-lab:Halo_BAF180WT_DMSO, robert-coleman-lab:Halo_BAF180_BDdel_SAHA, robert-coleman-lab:Halo_BAF180_Bddel_DMSO, robert-coleman-lab:Halo_BAF180WT_SNAP_HP1a, robert-coleman-lab:Halo_BAF180WT_H3.3_SNAP, robert-coleman-lab:Halo_BAF180_Bddel_SNAP_HP1a, robert-coleman-lab:Halo_BAF180_Bddel_H3.3_SNAP, robert-coleman-lab:Halo_BAF180_Bddel_H3.3_SNAP\n"
     ]
    }
   ],
   "source": [
    "t = \"\"\"robert-coleman-lab:Halo_BAF180WT_SAHA\n",
    "robert-coleman-lab:Halo_BAF180WT_DMSO\n",
    "robert-coleman-lab:Halo_BAF180_BDdel_SAHA\n",
    "robert-coleman-lab:Halo_BAF180_Bddel_DMSO\n",
    "robert-coleman-lab:Halo_BAF180WT_SNAP_HP1a\n",
    "robert-coleman-lab:Halo_BAF180WT_H3.3_SNAP\n",
    "robert-coleman-lab:Halo_BAF180_Bddel_SNAP_HP1a\n",
    "robert-coleman-lab:Halo_BAF180_Bddel_H3.3_SNAP\n",
    "robert-coleman-lab:Halo_BAF180_Bddel_H3.3_SNAP\"\"\"\n",
    "\n",
    "print(', '.join(t.split('\\n')))"
   ]
  },
  {
   "cell_type": "code",
   "execution_count": null,
   "metadata": {},
   "outputs": [],
   "source": []
  }
 ],
 "metadata": {
  "anaconda-cloud": {},
  "kernelspec": {
   "display_name": "Python 3",
   "language": "python",
   "name": "python3"
  },
  "language_info": {
   "codemirror_mode": {
    "name": "ipython",
    "version": 3
   },
   "file_extension": ".py",
   "mimetype": "text/x-python",
   "name": "python",
   "nbconvert_exporter": "python",
   "pygments_lexer": "ipython3",
   "version": "3.5.2"
  }
 },
 "nbformat": 4,
 "nbformat_minor": 2
}
