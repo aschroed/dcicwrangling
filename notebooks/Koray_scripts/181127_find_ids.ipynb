{
 "cells": [
  {
   "cell_type": "code",
   "execution_count": 1,
   "metadata": {},
   "outputs": [],
   "source": [
    "from dcicutils import ff_utils\n",
    "from functions.notebook_functions import *\n",
    "\n",
    "# get key from file\n",
    "my_key = get_key('koray_data')\n",
    "# all usable env names\n",
    "all_envs = ['data', 'staging', 'fourfront-webdev', 'fourfront-mastertest', 'fourfront-hotseat']\n",
    "# get admin key from s3\n",
    "#my_key = ff_utils.get_authentication_with_server({}, ff_env = 'data')"
   ]
  },
  {
   "cell_type": "code",
   "execution_count": 1,
   "metadata": {},
   "outputs": [
    {
     "name": "stdout",
     "output_type": "stream",
     "text": [
      "12\n"
     ]
    }
   ],
   "source": [
    "ch12 = '''misteli:path_296_farred\tmisteli:path_186_red\n",
    "misteli:path_193_farred\tmisteli:path_141_red\n",
    "misteli:path_296_farred\tmisteli:path_186_red\n",
    "misteli:path_163_farred\tmisteli:path_141_red\n",
    "misteli:path_11_18_farred\tmisteli:path_89_18_red\n",
    "misteli:path_193_farred\tmisteli:path_123_red\n",
    "misteli:path_186_farred\tmisteli:path_163_red\n",
    "misteli:path_141_farred\tmisteli:path_89_18_red\n",
    "misteli:path_303_farred\tmisteli:path_250_red\n",
    "misteli:path_296_farred\tmisteli:path_250_red\n",
    "misteli:path_193_farred\tmisteli:path_186_red\n",
    "misteli:path_163_farred\tmisteli:path_141_red'''\n",
    "\n",
    "lips= [i.split('\\t') for i in ch12.split('\\n')]\n",
    "print(len(lips))\n"
   ]
  },
  {
   "cell_type": "code",
   "execution_count": 2,
   "metadata": {},
   "outputs": [
    {
     "name": "stdout",
     "output_type": "stream",
     "text": [
      "296 \t 186\n",
      "193 \t 141\n",
      "296 \t 186\n",
      "163 \t 141\n",
      "11_18 \t 89_18\n",
      "193 \t 123\n",
      "186 \t 163\n",
      "141 \t 89_18\n",
      "303 \t 250\n",
      "296 \t 250\n",
      "193 \t 186\n",
      "163 \t 141\n"
     ]
    }
   ],
   "source": [
    "def cleaner(a):\n",
    "    a= a.split('path_')[1]\n",
    "    a= a.replace('_red', \"\")\n",
    "    a= a.replace('_green', \"\")\n",
    "    a= a.replace('_farred', \"\")\n",
    "    return a\n",
    "\n",
    "for a, b in lips:\n",
    "    at = cleaner(a)\n",
    "    bt = cleaner(b)\n",
    "    \n",
    "    \n",
    "    print(at,'\\t',bt)\n"
   ]
  },
  {
   "cell_type": "code",
   "execution_count": 9,
   "metadata": {},
   "outputs": [
    {
     "name": "stdout",
     "output_type": "stream",
     "text": [
      "358e2395-aca3-40ba-9fa5-c89383e99e07\n",
      "c948f0c3-2ad5-4de6-821b-291fae30db4d\n",
      "b54223f9-e081-4a68-a164-21065ba0c1b6\n",
      "f658ce96-b237-4eaf-87da-aa9e6acb72ee\n",
      "6537b162-32d9-4dbb-bb5e-bbc1f4a2f003\n",
      "8339a80c-bf79-43fd-be22-f95c4193608e\n",
      "f91f0c28-895c-47df-9e84-abc3a59a826e\n",
      "7a828168-e073-4848-a73d-b1fcad4e6bb8\n",
      "36760c94-2f27-4ecc-965c-723388ed9a0b\n",
      "7ef86e3e-cb2b-4940-9f00-6004d7a3baca\n",
      "f97954d2-0542-4a41-880e-6e2f96d2e37a\n",
      "79308d01-d7a6-4ba4-8483-079e43fea983\n",
      "a8622f4a-0a23-4888-bb79-daa12eedfc5a\n",
      "aceddadd-c488-47bf-9eb6-9a57ba989a38\n",
      "18e3ab7a-f66d-4824-a835-12147c36e940\n",
      "70bb7f59-a98f-4852-92bc-ffb30bcf8aba\n",
      "23f5f1ca-d122-413e-b27f-eedbfff66e9a\n",
      "841584fa-1c0d-4b72-a5ad-8fa536b4f489\n",
      "99dfe8e1-50a1-4d3a-a641-ac044db545fb\n",
      "36671b99-8eb7-4a8b-b162-23f5f4508f06\n",
      "6ae6234f-d466-46f5-83c5-0e338a9f9c0e\n",
      "72960120-5932-41a5-aa3a-0006311fdf50\n",
      "7128a8c5-eae3-4600-a98a-5e00f622e96b\n",
      "4d8791cd-f2af-4afa-bf5f-c8bb666945c7\n",
      "0519f8ba-853b-4748-8a19-e2734968d6c3\n",
      "cbddfadd-5c37-4dd3-a06c-7076f5f87f16\n",
      "185e37eb-d9a4-438c-8b37-8ada294b270c\n",
      "4cea845d-9864-4562-a4cc-c096ec67266f\n",
      "b9a817bf-f71f-423e-a129-d30e08b8db1a\n",
      "1c37fe33-4c22-4188-95e1-288106b72b84\n",
      "ede4ee7c-09d8-47ab-ad66-431b7c62519f\n",
      "e308345f-97b5-4bb4-bdce-7ad3f9381de7\n",
      "663033a2-7855-4d77-a988-54fee07a5e8b\n",
      "085e01f2-f272-4411-a355-683e0f357f02\n",
      "51baaf06-3484-4c38-a398-43f6494b7b89\n",
      "921a031e-8d58-42d4-8f54-0c90eed4d12e\n"
     ]
    }
   ],
   "source": [
    "for i in remove_exp_list:\n",
    "    print(i)"
   ]
  },
  {
   "cell_type": "code",
   "execution_count": 12,
   "metadata": {},
   "outputs": [
    {
     "name": "stdout",
     "output_type": "stream",
     "text": [
      "misteli:161005_8\n",
      "[{'bio_rep_no': 1, 'tec_rep_no': 1, 'replicate_exp': 'a4931f2e-3491-4900-b621-d3849ca76903'}, {'bio_rep_no': 1, 'tec_rep_no': 2, 'replicate_exp': '90625f78-a8b7-434b-8bff-661f65190a76'}, {'bio_rep_no': 1, 'tec_rep_no': 3, 'replicate_exp': 'b42ce010-fb9d-416d-ba4d-7835ec71709c'}]\n",
      "misteli:161005_5\n",
      "[{'bio_rep_no': 1, 'tec_rep_no': 1, 'replicate_exp': '8a8ba015-85ac-4ca2-acd7-accfdc915bfb'}, {'bio_rep_no': 1, 'tec_rep_no': 2, 'replicate_exp': '653ad4e3-8d9e-4977-9c94-89accd86abe6'}, {'bio_rep_no': 1, 'tec_rep_no': 3, 'replicate_exp': '90bf30cd-351b-4335-aca3-74ca477211a5'}]\n",
      "misteli:161005_3\n",
      "[{'bio_rep_no': 1, 'tec_rep_no': 1, 'replicate_exp': 'add9b564-2b34-4cb6-9e36-805445e649dc'}, {'bio_rep_no': 1, 'tec_rep_no': 2, 'replicate_exp': '42891153-d893-4c35-a4ab-24c0a7830f22'}, {'bio_rep_no': 1, 'tec_rep_no': 3, 'replicate_exp': '2cf4487b-9b18-4448-ad8b-b31cfd7cd45a'}]\n",
      "misteli:161005_11\n",
      "[{'bio_rep_no': 1, 'tec_rep_no': 1, 'replicate_exp': '20dd9c9e-008d-432b-b2fe-8a3040ab7fcc'}, {'bio_rep_no': 1, 'tec_rep_no': 2, 'replicate_exp': '8ccd5ad7-42fc-44cd-8a06-b52356eb0f39'}, {'bio_rep_no': 1, 'tec_rep_no': 3, 'replicate_exp': 'a71b1491-75b0-4c3c-b2a8-a8640aa262b6'}]\n",
      "misteli:161005_4\n",
      "[{'bio_rep_no': 1, 'tec_rep_no': 1, 'replicate_exp': '811a6b12-f7da-4118-aaba-d14d3b930f9c'}, {'bio_rep_no': 1, 'tec_rep_no': 2, 'replicate_exp': 'fc8c5fc7-1a38-49bb-b9ff-7616358d083b'}, {'bio_rep_no': 1, 'tec_rep_no': 3, 'replicate_exp': '15dcc906-ee63-4d60-85cb-f7895f6c8de9'}]\n",
      "misteli:161005_10\n",
      "[{'bio_rep_no': 1, 'tec_rep_no': 1, 'replicate_exp': '2e4b7f9a-61c3-42d2-b965-d5adec594e8b'}, {'bio_rep_no': 1, 'tec_rep_no': 2, 'replicate_exp': '923a15ea-9ef4-45d4-89ac-b7447afc29e3'}, {'bio_rep_no': 1, 'tec_rep_no': 3, 'replicate_exp': '95ada403-0833-4139-b9f5-09bc273390c5'}]\n",
      "misteli:161005_7\n",
      "[{'bio_rep_no': 1, 'tec_rep_no': 1, 'replicate_exp': '8b13ca65-9a7a-4d68-b1b6-9cf2fb080b30'}, {'bio_rep_no': 1, 'tec_rep_no': 2, 'replicate_exp': 'b93eaa2a-a275-402a-9649-4b67a8f0e415'}, {'bio_rep_no': 1, 'tec_rep_no': 3, 'replicate_exp': '45ee27bd-f273-4c6b-aaca-a2f44939d428'}]\n",
      "misteli:161005_1\n",
      "[{'bio_rep_no': 1, 'tec_rep_no': 1, 'replicate_exp': '3755ee08-200c-4ff6-aa0e-eff54281227f'}, {'bio_rep_no': 1, 'tec_rep_no': 2, 'replicate_exp': 'cff0a420-5dac-4c08-84b5-34da96b7630d'}, {'bio_rep_no': 1, 'tec_rep_no': 3, 'replicate_exp': '194e449f-696c-43eb-b0d5-1c94a8af0f63'}]\n",
      "misteli:161005_12\n",
      "[{'bio_rep_no': 1, 'tec_rep_no': 1, 'replicate_exp': '56ab4cf5-03e1-43f4-9add-c3f4739edaec'}, {'bio_rep_no': 1, 'tec_rep_no': 2, 'replicate_exp': '3858dbb9-29cc-4b92-9096-5410503c870d'}, {'bio_rep_no': 1, 'tec_rep_no': 3, 'replicate_exp': '368f13c5-7411-4ef3-b90e-d96c445772c2'}]\n",
      "misteli:161005_9\n",
      "[{'bio_rep_no': 1, 'tec_rep_no': 1, 'replicate_exp': 'cf41961e-5210-4c36-9bfc-0a2f504a0188'}, {'bio_rep_no': 1, 'tec_rep_no': 2, 'replicate_exp': 'af8ca09e-daa1-40ef-a8df-8ba12931ea86'}, {'bio_rep_no': 1, 'tec_rep_no': 3, 'replicate_exp': '4c7655d2-04df-4e58-b1e6-b76cb8d55111'}]\n",
      "misteli:161005_6\n",
      "[{'bio_rep_no': 1, 'tec_rep_no': 1, 'replicate_exp': 'f15d04b1-77b9-4dc1-beb1-fbb92c9f677c'}, {'bio_rep_no': 1, 'tec_rep_no': 2, 'replicate_exp': '4c8db444-1a4a-4c3c-be21-457ee84a810c'}, {'bio_rep_no': 1, 'tec_rep_no': 3, 'replicate_exp': 'd2e74867-44cf-422a-9bb3-aa88eca0f306'}]\n",
      "misteli:161005_2\n",
      "[{'bio_rep_no': 1, 'tec_rep_no': 1, 'replicate_exp': '82f5932f-d92b-4a97-a9c2-aead8cf67553'}, {'bio_rep_no': 1, 'tec_rep_no': 2, 'replicate_exp': '8dc07550-8de0-4beb-bd1c-8f8bbce72d34'}, {'bio_rep_no': 1, 'tec_rep_no': 3, 'replicate_exp': '05f3a298-dfdb-42c8-a103-1411ce64c829'}]\n"
     ]
    }
   ],
   "source": [
    "for a_set in clean_sets.split('\\n'):\n",
    "    print(a_set)\n",
    "    resp = ff_utils.get_metadata(a_set, key=my_key, add_on='frame=raw')\n",
    "    replicate_exps = resp['replicate_exps']\n",
    "    patch_data = []\n",
    "    for a_rep in replicate_exps:\n",
    "        if a_rep['replicate_exp'] in remove_exp_list:\n",
    "            print('foundone')\n",
    "            continue\n",
    "        else:\n",
    "            patch_data.append(a_rep)\n",
    "    print(patch_data)\n",
    "    #ff_utils.patch_metadata({'replicate_exps':patch_data}, obj_id = a_set, key=my_key)"
   ]
  },
  {
   "cell_type": "code",
   "execution_count": null,
   "metadata": {},
   "outputs": [],
   "source": []
  }
 ],
 "metadata": {
  "kernelspec": {
   "display_name": "Python 3",
   "language": "python",
   "name": "python3"
  },
  "language_info": {
   "codemirror_mode": {
    "name": "ipython",
    "version": 3
   },
   "file_extension": ".py",
   "mimetype": "text/x-python",
   "name": "python",
   "nbconvert_exporter": "python",
   "pygments_lexer": "ipython3",
   "version": "3.5.2"
  }
 },
 "nbformat": 4,
 "nbformat_minor": 2
}
