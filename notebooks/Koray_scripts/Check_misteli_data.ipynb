{
 "cells": [
  {
   "cell_type": "code",
   "execution_count": null,
   "metadata": {},
   "outputs": [],
   "source": [
    "from dcicutils import ff_utils\n",
    "from functions.notebook_functions import *\n",
    "\n",
    "# get key from file\n",
    "my_key = get_key('koray_data')\n",
    "# all usable env names\n",
    "all_envs = ['data', 'staging', 'fourfront-webdev', 'fourfront-mastertest', 'fourfront-hotseat']\n",
    "# get admin key from s3\n",
    "#my_key = ff_utils.get_authentication_with_server({}, ff_env = 'data')"
   ]
  },
  {
   "cell_type": "code",
   "execution_count": null,
   "metadata": {},
   "outputs": [],
   "source": [
    "q = '/search/?lab.display_title=4DN+DCIC%2C+HMS&type=FileReference'\n",
    "gen = ff_utils.search_metadata(q, key=my_key)\n",
    "print(len(gen))"
   ]
  },
  {
   "cell_type": "code",
   "execution_count": 1,
   "metadata": {},
   "outputs": [
    {
     "data": {
      "text/plain": [
       "(1025357, 12)"
      ]
     },
     "execution_count": 1,
     "metadata": {},
     "output_type": "execute_result"
    }
   ],
   "source": [
    "file = '/Users/koray/Desktop/Wrangling/Labs/Gianluca/181027FinnProcessed/minDist.All.DCIC.txt'\n",
    "import pandas as pd\n",
    "df = pd.read_csv(file, sep = '\\t')\n",
    "df.shape"
   ]
  },
  {
   "cell_type": "code",
   "execution_count": 4,
   "metadata": {},
   "outputs": [
    {
     "data": {
      "text/plain": [
       "array(['assay.id', 'nrow', 'ncol', 'Bait', 'Target', 'chr', 'FieldIndex',\n",
       "       'CellIndex', 'BaitSpotIndex', 'TargetSpotIndex', 'SpotDist.2D',\n",
       "       'SpotDist.3D'], dtype=object)"
      ]
     },
     "execution_count": 4,
     "metadata": {},
     "output_type": "execute_result"
    }
   ],
   "source": [
    "df.columns.values"
   ]
  },
  {
   "cell_type": "code",
   "execution_count": 5,
   "metadata": {},
   "outputs": [
    {
     "data": {
      "text/html": [
       "<div>\n",
       "<style scoped>\n",
       "    .dataframe tbody tr th:only-of-type {\n",
       "        vertical-align: middle;\n",
       "    }\n",
       "\n",
       "    .dataframe tbody tr th {\n",
       "        vertical-align: top;\n",
       "    }\n",
       "\n",
       "    .dataframe thead th {\n",
       "        text-align: right;\n",
       "    }\n",
       "</style>\n",
       "<table border=\"1\" class=\"dataframe\">\n",
       "  <thead>\n",
       "    <tr style=\"text-align: right;\">\n",
       "      <th></th>\n",
       "      <th>assay.id</th>\n",
       "      <th>nrow</th>\n",
       "      <th>ncol</th>\n",
       "      <th>Bait</th>\n",
       "      <th>Target</th>\n",
       "      <th>chr</th>\n",
       "      <th>FieldIndex</th>\n",
       "      <th>CellIndex</th>\n",
       "      <th>BaitSpotIndex</th>\n",
       "      <th>TargetSpotIndex</th>\n",
       "      <th>SpotDist.2D</th>\n",
       "      <th>SpotDist.3D</th>\n",
       "    </tr>\n",
       "  </thead>\n",
       "  <tbody>\n",
       "    <tr>\n",
       "      <th>0</th>\n",
       "      <td>BC_161212</td>\n",
       "      <td>2</td>\n",
       "      <td>2</td>\n",
       "      <td>607.0</td>\n",
       "      <td>610.0</td>\n",
       "      <td>4</td>\n",
       "      <td>1</td>\n",
       "      <td>1</td>\n",
       "      <td>1</td>\n",
       "      <td>1</td>\n",
       "      <td>0.108333</td>\n",
       "      <td>0.511601</td>\n",
       "    </tr>\n",
       "    <tr>\n",
       "      <th>1</th>\n",
       "      <td>BC_161212</td>\n",
       "      <td>2</td>\n",
       "      <td>2</td>\n",
       "      <td>607.0</td>\n",
       "      <td>610.0</td>\n",
       "      <td>4</td>\n",
       "      <td>1</td>\n",
       "      <td>1</td>\n",
       "      <td>2</td>\n",
       "      <td>2</td>\n",
       "      <td>0.390600</td>\n",
       "      <td>0.390600</td>\n",
       "    </tr>\n",
       "    <tr>\n",
       "      <th>2</th>\n",
       "      <td>BC_161212</td>\n",
       "      <td>2</td>\n",
       "      <td>2</td>\n",
       "      <td>607.0</td>\n",
       "      <td>610.0</td>\n",
       "      <td>4</td>\n",
       "      <td>1</td>\n",
       "      <td>2</td>\n",
       "      <td>1</td>\n",
       "      <td>1</td>\n",
       "      <td>0.216666</td>\n",
       "      <td>0.216666</td>\n",
       "    </tr>\n",
       "    <tr>\n",
       "      <th>3</th>\n",
       "      <td>BC_161212</td>\n",
       "      <td>2</td>\n",
       "      <td>2</td>\n",
       "      <td>607.0</td>\n",
       "      <td>610.0</td>\n",
       "      <td>4</td>\n",
       "      <td>1</td>\n",
       "      <td>2</td>\n",
       "      <td>2</td>\n",
       "      <td>2</td>\n",
       "      <td>0.433332</td>\n",
       "      <td>0.433332</td>\n",
       "    </tr>\n",
       "    <tr>\n",
       "      <th>4</th>\n",
       "      <td>BC_161212</td>\n",
       "      <td>2</td>\n",
       "      <td>2</td>\n",
       "      <td>607.0</td>\n",
       "      <td>610.0</td>\n",
       "      <td>4</td>\n",
       "      <td>1</td>\n",
       "      <td>4</td>\n",
       "      <td>1</td>\n",
       "      <td>1</td>\n",
       "      <td>0.459618</td>\n",
       "      <td>0.459618</td>\n",
       "    </tr>\n",
       "  </tbody>\n",
       "</table>\n",
       "</div>"
      ],
      "text/plain": [
       "    assay.id  nrow  ncol   Bait  Target  chr  FieldIndex  CellIndex  \\\n",
       "0  BC_161212     2     2  607.0   610.0    4           1          1   \n",
       "1  BC_161212     2     2  607.0   610.0    4           1          1   \n",
       "2  BC_161212     2     2  607.0   610.0    4           1          2   \n",
       "3  BC_161212     2     2  607.0   610.0    4           1          2   \n",
       "4  BC_161212     2     2  607.0   610.0    4           1          4   \n",
       "\n",
       "   BaitSpotIndex  TargetSpotIndex  SpotDist.2D  SpotDist.3D  \n",
       "0              1                1     0.108333     0.511601  \n",
       "1              2                2     0.390600     0.390600  \n",
       "2              1                1     0.216666     0.216666  \n",
       "3              2                2     0.433332     0.433332  \n",
       "4              1                1     0.459618     0.459618  "
      ]
     },
     "execution_count": 5,
     "metadata": {},
     "output_type": "execute_result"
    }
   ],
   "source": [
    "df.head()"
   ]
  },
  {
   "cell_type": "code",
   "execution_count": 11,
   "metadata": {},
   "outputs": [],
   "source": [
    "df_simple = df[['assay.id', 'Bait', 'Target', 'chr']].copy()"
   ]
  },
  {
   "cell_type": "code",
   "execution_count": 17,
   "metadata": {},
   "outputs": [],
   "source": []
  },
  {
   "cell_type": "code",
   "execution_count": 19,
   "metadata": {},
   "outputs": [],
   "source": [
    "df_unique = df_simple.drop_duplicates()\n",
    "df_unique.to_csv('/Users/koray/Desktop/Wrangling/Labs/Gianluca/181027FinnProcessed/unique_min_dist.txt')"
   ]
  },
  {
   "cell_type": "code",
   "execution_count": 20,
   "metadata": {},
   "outputs": [
    {
     "data": {
      "text/plain": [
       "(76892, 18)"
      ]
     },
     "execution_count": 20,
     "metadata": {},
     "output_type": "execute_result"
    }
   ],
   "source": [
    "file2 = '/Users/koray/Desktop/Wrangling/Labs/Gianluca/181027FinnProcessed/BC_160210_SpotLocs_simp.txt'\n",
    "import pandas as pd\n",
    "df = pd.read_csv(file2, sep = '\\t')\n",
    "df.shape"
   ]
  },
  {
   "cell_type": "code",
   "execution_count": 22,
   "metadata": {},
   "outputs": [
    {
     "data": {
      "text/html": [
       "<div>\n",
       "<style scoped>\n",
       "    .dataframe tbody tr th:only-of-type {\n",
       "        vertical-align: middle;\n",
       "    }\n",
       "\n",
       "    .dataframe tbody tr th {\n",
       "        vertical-align: top;\n",
       "    }\n",
       "\n",
       "    .dataframe thead th {\n",
       "        text-align: right;\n",
       "    }\n",
       "</style>\n",
       "<table border=\"1\" class=\"dataframe\">\n",
       "  <thead>\n",
       "    <tr style=\"text-align: right;\">\n",
       "      <th></th>\n",
       "      <th>Localization_ID</th>\n",
       "      <th>C</th>\n",
       "      <th>X</th>\n",
       "      <th>Y</th>\n",
       "      <th>Z</th>\n",
       "      <th>Experiment_ID</th>\n",
       "      <th>Row_ID</th>\n",
       "      <th>Col_ID</th>\n",
       "      <th>Probe_Green</th>\n",
       "      <th>Probe_Red</th>\n",
       "      <th>Probe_FarRed</th>\n",
       "      <th>chr</th>\n",
       "      <th>Field_ID</th>\n",
       "      <th>Cell_ID</th>\n",
       "      <th>Spot_ID_inCell</th>\n",
       "      <th>Green_NumberofSpots_inCell</th>\n",
       "      <th>Red_NumberofSpots_inCell</th>\n",
       "      <th>FarRed_NumberofSpots_inCell</th>\n",
       "    </tr>\n",
       "  </thead>\n",
       "  <tbody>\n",
       "    <tr>\n",
       "      <th>0</th>\n",
       "      <td>1</td>\n",
       "      <td>Green</td>\n",
       "      <td>81.6937</td>\n",
       "      <td>9.0412</td>\n",
       "      <td>0</td>\n",
       "      <td>BC_160210</td>\n",
       "      <td>2</td>\n",
       "      <td>3</td>\n",
       "      <td>52</td>\n",
       "      <td>11</td>\n",
       "      <td>91</td>\n",
       "      <td>1</td>\n",
       "      <td>1</td>\n",
       "      <td>1</td>\n",
       "      <td>1</td>\n",
       "      <td>2</td>\n",
       "      <td>2</td>\n",
       "      <td>2</td>\n",
       "    </tr>\n",
       "    <tr>\n",
       "      <th>1</th>\n",
       "      <td>2</td>\n",
       "      <td>Green</td>\n",
       "      <td>78.4647</td>\n",
       "      <td>15.4992</td>\n",
       "      <td>1</td>\n",
       "      <td>BC_160210</td>\n",
       "      <td>2</td>\n",
       "      <td>3</td>\n",
       "      <td>52</td>\n",
       "      <td>11</td>\n",
       "      <td>91</td>\n",
       "      <td>1</td>\n",
       "      <td>1</td>\n",
       "      <td>1</td>\n",
       "      <td>2</td>\n",
       "      <td>2</td>\n",
       "      <td>2</td>\n",
       "      <td>2</td>\n",
       "    </tr>\n",
       "    <tr>\n",
       "      <th>2</th>\n",
       "      <td>3</td>\n",
       "      <td>Green</td>\n",
       "      <td>128.8371</td>\n",
       "      <td>14.8534</td>\n",
       "      <td>1</td>\n",
       "      <td>BC_160210</td>\n",
       "      <td>2</td>\n",
       "      <td>3</td>\n",
       "      <td>52</td>\n",
       "      <td>11</td>\n",
       "      <td>91</td>\n",
       "      <td>1</td>\n",
       "      <td>1</td>\n",
       "      <td>3</td>\n",
       "      <td>1</td>\n",
       "      <td>2</td>\n",
       "      <td>2</td>\n",
       "      <td>2</td>\n",
       "    </tr>\n",
       "    <tr>\n",
       "      <th>3</th>\n",
       "      <td>4</td>\n",
       "      <td>Green</td>\n",
       "      <td>128.1913</td>\n",
       "      <td>23.2488</td>\n",
       "      <td>0</td>\n",
       "      <td>BC_160210</td>\n",
       "      <td>2</td>\n",
       "      <td>3</td>\n",
       "      <td>52</td>\n",
       "      <td>11</td>\n",
       "      <td>91</td>\n",
       "      <td>1</td>\n",
       "      <td>1</td>\n",
       "      <td>3</td>\n",
       "      <td>2</td>\n",
       "      <td>2</td>\n",
       "      <td>2</td>\n",
       "      <td>2</td>\n",
       "    </tr>\n",
       "    <tr>\n",
       "      <th>4</th>\n",
       "      <td>5</td>\n",
       "      <td>Green</td>\n",
       "      <td>198.9064</td>\n",
       "      <td>24.2175</td>\n",
       "      <td>1</td>\n",
       "      <td>BC_160210</td>\n",
       "      <td>2</td>\n",
       "      <td>3</td>\n",
       "      <td>52</td>\n",
       "      <td>11</td>\n",
       "      <td>91</td>\n",
       "      <td>1</td>\n",
       "      <td>1</td>\n",
       "      <td>4</td>\n",
       "      <td>1</td>\n",
       "      <td>2</td>\n",
       "      <td>2</td>\n",
       "      <td>2</td>\n",
       "    </tr>\n",
       "  </tbody>\n",
       "</table>\n",
       "</div>"
      ],
      "text/plain": [
       "   Localization_ID      C         X        Y  Z Experiment_ID  Row_ID  Col_ID  \\\n",
       "0                1  Green   81.6937   9.0412  0     BC_160210       2       3   \n",
       "1                2  Green   78.4647  15.4992  1     BC_160210       2       3   \n",
       "2                3  Green  128.8371  14.8534  1     BC_160210       2       3   \n",
       "3                4  Green  128.1913  23.2488  0     BC_160210       2       3   \n",
       "4                5  Green  198.9064  24.2175  1     BC_160210       2       3   \n",
       "\n",
       "   Probe_Green  Probe_Red  Probe_FarRed  chr  Field_ID  Cell_ID  \\\n",
       "0           52         11            91    1         1        1   \n",
       "1           52         11            91    1         1        1   \n",
       "2           52         11            91    1         1        3   \n",
       "3           52         11            91    1         1        3   \n",
       "4           52         11            91    1         1        4   \n",
       "\n",
       "   Spot_ID_inCell  Green_NumberofSpots_inCell  Red_NumberofSpots_inCell  \\\n",
       "0               1                           2                         2   \n",
       "1               2                           2                         2   \n",
       "2               1                           2                         2   \n",
       "3               2                           2                         2   \n",
       "4               1                           2                         2   \n",
       "\n",
       "   FarRed_NumberofSpots_inCell  \n",
       "0                            2  \n",
       "1                            2  \n",
       "2                            2  \n",
       "3                            2  \n",
       "4                            2  "
      ]
     },
     "execution_count": 22,
     "metadata": {},
     "output_type": "execute_result"
    }
   ],
   "source": [
    "df.head()"
   ]
  },
  {
   "cell_type": "code",
   "execution_count": 21,
   "metadata": {},
   "outputs": [
    {
     "data": {
      "text/plain": [
       "array(['Localization_ID', 'C', 'X', 'Y', 'Z', 'Experiment_ID', 'Row_ID',\n",
       "       'Col_ID', 'Probe_Green', 'Probe_Red', 'Probe_FarRed', 'chr',\n",
       "       'Field_ID', 'Cell_ID', 'Spot_ID_inCell',\n",
       "       'Green_NumberofSpots_inCell', 'Red_NumberofSpots_inCell',\n",
       "       'FarRed_NumberofSpots_inCell'], dtype=object)"
      ]
     },
     "execution_count": 21,
     "metadata": {},
     "output_type": "execute_result"
    }
   ],
   "source": [
    "df.columns.values"
   ]
  },
  {
   "cell_type": "code",
   "execution_count": 23,
   "metadata": {},
   "outputs": [],
   "source": [
    "df_simple = df[['Experiment_ID', 'chr', 'Probe_Green', 'Probe_Red', 'Probe_FarRed']].copy()"
   ]
  },
  {
   "cell_type": "code",
   "execution_count": 24,
   "metadata": {},
   "outputs": [],
   "source": [
    "df_unique = df_simple.drop_duplicates()\n",
    "df_unique.to_csv('/Users/koray/Desktop/Wrangling/Labs/Gianluca/181027FinnProcessed/BC_160210_SpotLocs_unique.txt')"
   ]
  },
  {
   "cell_type": "code",
   "execution_count": null,
   "metadata": {},
   "outputs": [],
   "source": []
  }
 ],
 "metadata": {
  "kernelspec": {
   "display_name": "Python 3",
   "language": "python",
   "name": "python3"
  },
  "language_info": {
   "codemirror_mode": {
    "name": "ipython",
    "version": 3
   },
   "file_extension": ".py",
   "mimetype": "text/x-python",
   "name": "python",
   "nbconvert_exporter": "python",
   "pygments_lexer": "ipython3",
   "version": "3.5.2"
  }
 },
 "nbformat": 4,
 "nbformat_minor": 2
}
