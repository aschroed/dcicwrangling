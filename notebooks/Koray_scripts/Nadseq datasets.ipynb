{
 "cells": [
  {
   "cell_type": "code",
   "execution_count": 4,
   "metadata": {},
   "outputs": [],
   "source": [
    "from dcicutils import ff_utils\n",
    "from functions.notebook_functions import *\n",
    "\n",
    "# get key from file\n",
    "my_key = get_key('koray_data')\n",
    "# all usable env names\n",
    "all_envs = ['data', 'staging', 'fourfront-webdev', 'fourfront-mastertest', 'fourfront-hotseat']\n",
    "# get admin key from s3\n",
    "#my_key = ff_utils.get_authentication_with_server({}, ff_env = 'data')"
   ]
  },
  {
   "cell_type": "code",
   "execution_count": 5,
   "metadata": {},
   "outputs": [
    {
     "name": "stdout",
     "output_type": "stream",
     "text": [
      "10\n"
     ]
    }
   ],
   "source": [
    "q = '/search/?award.project=4DN&experimentset_type=replicate&lab.display_title=Paul+Kaufman%2C+UMMS&type=ExperimentSetReplicate'\n",
    "gen = ff_utils.search_metadata(q, key=my_key)\n",
    "print(len(gen))"
   ]
  },
  {
   "cell_type": "code",
   "execution_count": 12,
   "metadata": {},
   "outputs": [
    {
     "name": "stdout",
     "output_type": "stream",
     "text": [
      "4DNES15QV1OO DNAseq of nucleolar-associated DNA from non-crosslinked MEF cells (form UMASS core)\n",
      "4DNES8D85R8H WGS seq of total genomic DNA from non-crosslinked MEF cells (from UMASS core)\n",
      "4DNESV4F9PFH DNAseq of nucleolar-associated DNA from crosslinked H1 cells\n",
      "4DNESV9Q2PMB WGS seq of total genomic DNA from crosslinked H1 cells\n",
      "4DNESVA79ZRN DNAseq of nucleolar-associated DNA from crosslinked HFFc6 cells\n",
      "4DNESFN9RH2P WGS seq of total genomic DNA from crosslinked HFFc6 cells\n",
      "4DNESR3K7VRN DNAseq of nucleolar-associated DNA from crosslinked MEF cells\n",
      "4DNES4U7AY3P WGS seq of total genomic DNA from crosslinked MEF cells\n",
      "4DNESNEBF9W4 DNAseq of nucleolar-associated DNA from non-crosslinked MEF cells\n",
      "4DNES7SVJXAI WGS seq of total genomic DNA from non-crosslinked MEF cells\n",
      "['4DNES15QV1OO', '', '', 'DNAseq of nucleolar-associated DNA from non-crosslinked MEF cells (form UMASS core)']\n",
      "['4DNES8D85R8H', '', '', 'WGS seq of total genomic DNA from non-crosslinked MEF cells (from UMASS core)']\n",
      "['4DNESV4F9PFH', '', '', 'DNAseq of nucleolar-associated DNA from crosslinked H1 cells']\n",
      "['4DNESV9Q2PMB', '', '', 'WGS seq of total genomic DNA from crosslinked H1 cells']\n",
      "['4DNESVA79ZRN', '', '', 'DNAseq of nucleolar-associated DNA from crosslinked HFFc6 cells']\n",
      "['4DNESFN9RH2P', '', '', 'WGS seq of total genomic DNA from crosslinked HFFc6 cells']\n",
      "['4DNESR3K7VRN', '', '', 'DNAseq of nucleolar-associated DNA from crosslinked MEF cells']\n",
      "['4DNES4U7AY3P', '', '', 'WGS seq of total genomic DNA from crosslinked MEF cells']\n",
      "['4DNESNEBF9W4', '', '', 'DNAseq of nucleolar-associated DNA from non-crosslinked MEF cells']\n",
      "['4DNES7SVJXAI', '', '', 'WGS seq of total genomic DNA from non-crosslinked MEF cells']\n"
     ]
    }
   ],
   "source": [
    "for f in gen:\n",
    "    print(f['accession'], f['description'])\n",
    "\n",
    "datas = []\n",
    "for f in gen:\n",
    "    datas.append([f['accession'], \"\", \"\",f['description']])\n",
    "print\n",
    "for i in datas:\n",
    "    print(i)"
   ]
  },
  {
   "cell_type": "code",
   "execution_count": 15,
   "metadata": {},
   "outputs": [],
   "source": [
    "nad_seq_des = [\n",
    "['4DNES15QV1OO', 'NAD-seq on MEF cells (not crosslinked)', 'nucleolar-associated DNA', 'DNAseq of nucleolar-associated DNA from non-crosslinked MEF cells (form UMASS core)'],\n",
    "['4DNES8D85R8H', 'NAD-seq on MEF cells (not crosslinked)', 'control (WGS)', 'WGS seq of total genomic DNA from non-crosslinked MEF cells (from UMASS core)'],\n",
    "['4DNESV4F9PFH', 'NAD-seq on H1 cells', 'nucleolar-associated DNA', 'DNAseq of nucleolar-associated DNA from crosslinked H1 cells'],\n",
    "['4DNESV9Q2PMB', 'NAD-seq on H1 cells', 'control (WGS)', 'WGS seq of total genomic DNA from crosslinked H1 cells'],\n",
    "['4DNESVA79ZRN', 'NAD-seq on HFFc6 cells', 'nucleolar-associated DNA', 'DNAseq of nucleolar-associated DNA from crosslinked HFFc6 cells'],\n",
    "['4DNESFN9RH2P', 'NAD-seq on HFFc6 cells', 'control (WGS)', 'WGS seq of total genomic DNA from crosslinked HFFc6 cells'],\n",
    "['4DNESR3K7VRN', 'NAD-seq on MEF-c5 cells', 'nucleolar-associated DNA', 'DNAseq of nucleolar-associated DNA from crosslinked MEF cells'],\n",
    "['4DNES4U7AY3P', 'NAD-seq on MEF-c5 cells', 'control (WGS)', 'WGS seq of total genomic DNA from crosslinked MEF cells'],\n",
    "['4DNESNEBF9W4', 'NAD-seq on MEF-c5 cells (not crosslinked)', 'nucleolar-associated DNA', 'DNAseq of nucleolar-associated DNA from non-crosslinked MEF cells'],\n",
    "['4DNES7SVJXAI', 'NAD-seq on MEF-c5 cells (not crosslinked)', 'control (WGS)', 'WGS seq of total genomic DNA from non-crosslinked MEF cells'],\n",
    "]\n",
    "\n",
    "for i in nad_seq_des:\n",
    "    acc =i[0]\n",
    "    des = i[3]\n",
    "    dataset = i[1]\n",
    "    condition =i[2]\n",
    "    patch = {'dataset_label':dataset,\n",
    "            'condition':condition}\n",
    "    ff_utils.patch_metadata(patch, obj_id = acc, key = my_key)\n",
    "    \n",
    "    "
   ]
  },
  {
   "cell_type": "code",
   "execution_count": null,
   "metadata": {},
   "outputs": [],
   "source": []
  }
 ],
 "metadata": {
  "kernelspec": {
   "display_name": "Python 3",
   "language": "python",
   "name": "python3"
  },
  "language_info": {
   "codemirror_mode": {
    "name": "ipython",
    "version": 3
   },
   "file_extension": ".py",
   "mimetype": "text/x-python",
   "name": "python",
   "nbconvert_exporter": "python",
   "pygments_lexer": "ipython3",
   "version": "3.5.2"
  }
 },
 "nbformat": 4,
 "nbformat_minor": 2
}
