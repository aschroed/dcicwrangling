{
 "cells": [
  {
   "cell_type": "code",
   "execution_count": null,
   "metadata": {},
   "outputs": [],
   "source": [
    "from dcicutils import ff_utils\n",
    "from functions.notebook_functions import *\n",
    "\n",
    "# get key from file\n",
    "my_key = get_key('koray_data')\n",
    "# all usable env names\n",
    "all_envs = ['data', 'staging', 'fourfront-webdev', 'fourfront-mastertest', 'fourfront-hotseat']\n",
    "# get admin key from s3\n",
    "#my_key = ff_utils.get_authentication_with_server({}, ff_env = 'data')"
   ]
  },
  {
   "cell_type": "code",
   "execution_count": null,
   "metadata": {},
   "outputs": [],
   "source": [
    "q = '/search/?lab.display_title=4DN+DCIC%2C+HMS&type=FileReference'\n",
    "gen = ff_utils.search_metadata(q, key=my_key)\n",
    "print(len(gen))"
   ]
  },
  {
   "cell_type": "code",
   "execution_count": null,
   "metadata": {},
   "outputs": [],
   "source": [
    "for f in gen:\n",
    "    print(f['filename'])\n"
   ]
  },
  {
   "cell_type": "code",
   "execution_count": 5,
   "metadata": {},
   "outputs": [
    {
     "name": "stdout",
     "output_type": "stream",
     "text": [
      "[]\n"
     ]
    }
   ],
   "source": [
    "correct24 = \"\"\"misteli:160524_sub_2_6\n",
    "misteli:160524_sub_3_6\n",
    "misteli:160524_sub_4_6\n",
    "misteli:160524_sub_5_6\n",
    "misteli:160524_sub_6_6\n",
    "misteli:160524_sub_7_6\n",
    "misteli:160524_sub_8_6\n",
    "misteli:160524_sub_9_6\n",
    "misteli:160524_sub_10_6\n",
    "misteli:160524_sub_11_6\n",
    "misteli:160524_sub_12_6\n",
    "misteli:160524_sub_13_6\n",
    "misteli:160524_sub_14_6\n",
    "misteli:160524_sub_15_6\n",
    "misteli:160524_sub_2_7\n",
    "misteli:160524_sub_3_7\n",
    "misteli:160524_sub_4_7\n",
    "misteli:160524_sub_5_7\n",
    "misteli:160524_sub_6_7\n",
    "misteli:160524_sub_7_7\n",
    "misteli:160524_sub_8_7\n",
    "misteli:160524_sub_9_7\n",
    "misteli:160524_sub_10_7\n",
    "misteli:160524_sub_11_7\n",
    "misteli:160524_sub_12_7\n",
    "misteli:160524_sub_13_7\n",
    "misteli:160524_sub_14_7\n",
    "misteli:160524_sub_15_7\n",
    "misteli:160524_sub_2_8\n",
    "misteli:160524_sub_3_8\n",
    "misteli:160524_sub_4_8\n",
    "misteli:160524_sub_5_8\n",
    "misteli:160524_sub_6_8\n",
    "misteli:160524_sub_7_8\n",
    "misteli:160524_sub_8_8\n",
    "misteli:160524_sub_9_8\n",
    "misteli:160524_sub_10_8\n",
    "misteli:160524_sub_11_8\n",
    "misteli:160524_sub_12_8\n",
    "misteli:160524_sub_13_8\n",
    "misteli:160524_sub_14_8\n",
    "misteli:160524_sub_15_8\"\"\"\n",
    "\n",
    "exist23 = \"\"\"misteli:160524_sub_2_6\n",
    "misteli:160524_sub_3_6\n",
    "misteli:160524_sub_4_6\n",
    "misteli:160524_sub_5_6\n",
    "misteli:160524_sub_6_6\n",
    "misteli:160524_sub_7_6\n",
    "misteli:160524_sub_8_6\n",
    "misteli:160524_sub_9_6\n",
    "misteli:160524_sub_10_6\n",
    "misteli:160524_sub_11_6\n",
    "misteli:160524_sub_12_6\n",
    "misteli:160524_sub_13_6\n",
    "misteli:160524_sub_14_6\n",
    "misteli:160524_sub_15_6\n",
    "misteli:160524_sub_2_7\n",
    "misteli:160524_sub_3_7\n",
    "misteli:160524_sub_4_7\n",
    "misteli:160524_sub_5_7\n",
    "misteli:160524_sub_6_7\n",
    "misteli:160524_sub_7_7\n",
    "misteli:160524_sub_8_7\n",
    "misteli:160524_sub_9_7\n",
    "misteli:160524_sub_10_7\n",
    "misteli:160524_sub_11_7\n",
    "misteli:160524_sub_12_7\n",
    "misteli:160524_sub_13_7\n",
    "misteli:160524_sub_14_7\n",
    "misteli:160524_sub_15_7\n",
    "misteli:160524_sub_2_8\n",
    "misteli:160524_sub_3_8\n",
    "misteli:160524_sub_4_8\n",
    "misteli:160524_sub_5_8\n",
    "misteli:160524_sub_6_8\n",
    "misteli:160524_sub_7_8\n",
    "misteli:160524_sub_8_8\n",
    "misteli:160524_sub_9_8\n",
    "misteli:160524_sub_10_8\n",
    "misteli:160524_sub_11_8\n",
    "misteli:160524_sub_12_8\n",
    "misteli:160524_sub_13_8\n",
    "misteli:160524_sub_14_8\n",
    "misteli:160524_sub_15_8\"\"\"\n",
    "\n",
    "list24 = correct24.split('\\n')\n",
    "list23 = exist23.split('\\n')\n",
    "\n",
    "diff = [i for i in list24 + list23 if i not in list24 or i not in list23]\n",
    "print(diff)"
   ]
  },
  {
   "cell_type": "code",
   "execution_count": null,
   "metadata": {},
   "outputs": [],
   "source": []
  }
 ],
 "metadata": {
  "kernelspec": {
   "display_name": "Python 3",
   "language": "python",
   "name": "python3"
  },
  "language_info": {
   "codemirror_mode": {
    "name": "ipython",
    "version": 3
   },
   "file_extension": ".py",
   "mimetype": "text/x-python",
   "name": "python",
   "nbconvert_exporter": "python",
   "pygments_lexer": "ipython3",
   "version": "3.5.2"
  }
 },
 "nbformat": 4,
 "nbformat_minor": 2
}
